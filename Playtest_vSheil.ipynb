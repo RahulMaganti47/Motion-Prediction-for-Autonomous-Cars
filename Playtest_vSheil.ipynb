{
 "cells": [
  {
   "cell_type": "markdown",
   "metadata": {
    "_cell_guid": "9604b3aa-fc80-4aeb-a7e4-923b636ba10e",
    "_uuid": "f3373c21-6bac-4165-8654-5c2708a73cd5"
   },
   "source": [
    "# Playtesting Notebook\n"
   ]
  },
  {
   "cell_type": "markdown",
   "metadata": {},
   "source": [
    "## GNN"
   ]
  },
  {
   "cell_type": "code",
   "execution_count": 1,
   "metadata": {},
   "outputs": [
    {
     "name": "stdout",
     "output_type": "stream",
     "text": [
      "WARNING:tensorflow:From /home/ubuntu/anaconda3/envs/tensorflow_p37/gpu_cuda10.0/lib/python3.7/site-packages/tensorflow_core/__init__.py:1473: The name tf.estimator.inputs is deprecated. Please use tf.compat.v1.estimator.inputs instead.\n",
      "\n"
     ]
    }
   ],
   "source": [
    "import tensorflow as tf\n",
    "import numpy as np"
   ]
  },
  {
   "cell_type": "code",
   "execution_count": 2,
   "metadata": {},
   "outputs": [],
   "source": [
    "import sys, os, time\n",
    "os.environ['TF_CPP_MIN_LOG_LEVEL']='2'\n",
    "sys.path.insert(1, os.path.join(sys.path[0], '..'))\n",
    "import tensorflow as tf\n",
    "import numpy as np\n",
    "import matplotlib.pyplot as plt\n",
    "import itertools"
   ]
  },
  {
   "cell_type": "code",
   "execution_count": 3,
   "metadata": {},
   "outputs": [],
   "source": [
    "# tf.compat.v1.enable_eager_execution(\n",
    "#     config=None, device_policy=None, execution_mode=None\n",
    "# )"
   ]
  },
  {
   "cell_type": "code",
   "execution_count": 4,
   "metadata": {},
   "outputs": [],
   "source": [
    "import tensorflow as tf\n",
    "\n",
    "class Mlp(object):\n",
    "    def __init__(\n",
    "        self,\n",
    "        layer_sizes,\n",
    "        output_size = None,\n",
    "        activations = None,\n",
    "        output_activation = None,\n",
    "        use_bias = True,\n",
    "        kernel_initializer = None,\n",
    "        bias_initializer = tf.zeros_initializer(),\n",
    "        kernel_regularizer = None,\n",
    "        bias_regularizer = None,\n",
    "        activity_regularizer = None,\n",
    "        kernel_constraint = None,\n",
    "        bias_constraint = None,\n",
    "        trainable = True,\n",
    "        name = None,\n",
    "        name_internal_layers = True\n",
    "    ):\n",
    "        \"\"\"Stacks len(layer_sizes) dense layers on top of each other, with an additional layer with output_size neurons, if specified.\"\"\"\n",
    "        self.layers = []\n",
    "        internal_name = None\n",
    "        # If object isn't a list, assume it is a single value that will be repeated for all values\n",
    "        if not isinstance( activations, list ):\n",
    "            activations = [ activations for _ in layer_sizes ]\n",
    "        #end if\n",
    "        # If there is one specifically for the output, add it to the list of layers to be built\n",
    "        if output_size is not None:\n",
    "            layer_sizes = layer_sizes + [output_size]\n",
    "            activations = activations + [output_activation]\n",
    "        #end if\n",
    "        for i, params in enumerate( zip( layer_sizes, activations ) ):\n",
    "            size, activation = params\n",
    "            if name_internal_layers:\n",
    "                internal_name = name + \"_MLP_layer_{}\".format( i + 1 )\n",
    "            #end if\n",
    "            new_layer = tf.layers.Dense(\n",
    "                size,\n",
    "                activation = activation,\n",
    "                use_bias = use_bias,\n",
    "                kernel_initializer = kernel_initializer,\n",
    "                bias_initializer = bias_initializer,\n",
    "                kernel_regularizer = kernel_regularizer,\n",
    "                bias_regularizer = bias_regularizer,\n",
    "                activity_regularizer = activity_regularizer,\n",
    "                kernel_constraint = kernel_constraint,\n",
    "                bias_constraint = bias_constraint,\n",
    "                trainable = trainable,\n",
    "                name = internal_name\n",
    "            )\n",
    "            self.layers.append( new_layer )\n",
    "        #end for\n",
    "    #end __init__\n",
    "    \n",
    "    def __call__( self, inputs, *args, **kwargs ):\n",
    "        outputs = [ inputs ]\n",
    "        for layer in self.layers:\n",
    "            outputs.append( layer( outputs[-1] ) )\n",
    "        #end for\n",
    "        return outputs[-1]\n",
    "    #end __call__\n",
    "#end Mlp"
   ]
  },
  {
   "cell_type": "code",
   "execution_count": 5,
   "metadata": {},
   "outputs": [
    {
     "name": "stdout",
     "output_type": "stream",
     "text": [
      "WARNING:tensorflow:\n",
      "The TensorFlow contrib module will not be included in TensorFlow 2.0.\n",
      "For more information, please see:\n",
      "  * https://github.com/tensorflow/community/blob/master/rfcs/20180907-contrib-sunset.md\n",
      "  * https://github.com/tensorflow/addons\n",
      "  * https://github.com/tensorflow/io (for I/O related ops)\n",
      "If you depend on functionality not listed there, please file an issue.\n",
      "\n"
     ]
    }
   ],
   "source": [
    "import tensorflow as tf\n",
    "class TGN(object):\n",
    "    def __init__(\n",
    "        self,\n",
    "        var,\n",
    "        mat,\n",
    "        msg,\n",
    "        loop,\n",
    "        MLP_depth = 3,\n",
    "        MLP_weight_initializer = tf.contrib.layers.xavier_initializer,\n",
    "        MLP_bias_initializer = tf.zeros_initializer,\n",
    "        RNN_cell = tf.contrib.rnn.LayerNormBasicLSTMCell,\n",
    "        Cell_activation = tf.nn.relu,\n",
    "        Msg_activation = tf.nn.relu,\n",
    "        Msg_last_activation = None,\n",
    "        float_dtype = tf.float32,\n",
    "        name = 'TGN'\n",
    "    ):\n",
    "        \"\"\"\n",
    "        Receives three dictionaries: var, mat and msg.\n",
    "\n",
    "        ○ var is a dictionary from variable names to embedding sizes.\n",
    "            That is: an entry var[\"V1\"] = 10 means that the variable \"V1\" will have an embedding size of 10.\n",
    "        \n",
    "        ○ mat is a dictionary from matrix names to variable pairs.\n",
    "            That is: an entry mat[\"M\"] = (\"V1\",\"V2\") means that the matrix \"M\" can be used to mask messages from \"V1\" to \"V2\".\n",
    "        \n",
    "        ○ msg is a dictionary from function names to variable pairs.\n",
    "            That is: an entry msg[\"cast\"] = (\"V1\",\"V2\") means that one can apply \"cast\" to convert messages from \"V1\" to \"V2\".\n",
    "        \n",
    "        ○ loop is a dictionary from variable names to lists of dictionaries:\n",
    "            {\n",
    "                \"mat\": the matrix name which will be used,\n",
    "                \"transpose?\": if true then the matrix M will be transposed,\n",
    "                \"fun\": transfer function (python function built using tensorflow operations,\n",
    "                \"msg\": message name,\n",
    "                \"var\": variable name\n",
    "            }\n",
    "            If \"mat\" is None, it will be the identity matrix,\n",
    "            If \"transpose?\" is None, it will default to false,\n",
    "            if \"fun\" is None, no function will be applied,\n",
    "            If \"msg\" is false, no message conversion function will be applied,\n",
    "            If \"var\" is false, then [1] will be supplied as a surrogate.\n",
    "            \n",
    "            That is: an entry loop[\"V2\"] = [ {\"mat\":None,\"fun\":f,\"var\":\"V2\"}, {\"mat\":\"M\",\"transpose?\":true,\"msg\":\"cast\",\"var\":\"V1\"} ] enforces the following update rule for every timestep:\n",
    "                V2 ← tf.append( [ f(V2), Mᵀ × cast(V1) ] )\n",
    "        \"\"\"\n",
    "        self.var, self.mat, self.msg, self.loop, self.name = var, mat, msg, loop, name\n",
    "\n",
    "        self.MLP_depth = MLP_depth\n",
    "        self.MLP_weight_initializer = MLP_weight_initializer\n",
    "        self.MLP_bias_initializer = MLP_bias_initializer\n",
    "        self.RNN_cell = RNN_cell\n",
    "        self.Cell_activation = Cell_activation\n",
    "        self.Msg_activation = Msg_activation\n",
    "        self.Msg_last_activation    = Msg_last_activation \n",
    "        self.float_dtype = float_dtype\n",
    "        \n",
    "        # Check model for inconsistencies\n",
    "        self.check_model()\n",
    "        \n",
    "        # Initialize the parameters\n",
    "        with tf.variable_scope(self.name):\n",
    "            with tf.variable_scope('parameters'):\n",
    "                self._init_parameters()\n",
    "            #end parameter scope\n",
    "        #end TGN scope\n",
    "    #end __init__\n",
    "\n",
    "    def check_model(self):\n",
    "        # Procedure to check model for inconsistencies\n",
    "        for v in self.var:\n",
    "            if v not in self.loop:\n",
    "                raise Warning('Variable {v} is not updated anywhere! Consider removing it from the model'.format(v=v))\n",
    "            #end if\n",
    "        #end for\n",
    "\n",
    "        for v in self.loop:\n",
    "            if v not in self.var:\n",
    "                raise Exception('Updating variable {v}, which has not been declared!'.format(v=v))\n",
    "            #end if\n",
    "        #end for\n",
    "\n",
    "        for mat, (v1,v2) in self.mat.items():\n",
    "            if v1 not in self.var:\n",
    "                raise Exception('Matrix {mat} definition depends on undeclared variable {v}'.format(mat=mat, v=v1))\n",
    "            #end if\n",
    "            if v2 not in self.var and type(v2) is not int:\n",
    "                raise Exception('Matrix {mat} definition depends on undeclared variable {v}'.format(mat=mat, v=v2))\n",
    "            #end if\n",
    "        #end for\n",
    "\n",
    "        for msg, (v1,v2) in self.msg.items():\n",
    "            if v1 not in self.var:\n",
    "                raise Exception('Message {msg} maps from undeclared variable {v}'.format(msg=msg, v=v1))\n",
    "            #end if\n",
    "            if v2 not in self.var:\n",
    "                raise Exception('Message {msg} maps to undeclared variable {v}'.format(msg=msg, v=v2))\n",
    "            #end if\n",
    "        #end for\n",
    "    #end check_model\n",
    "\n",
    "    def _init_parameters(self):\n",
    "        # Init LSTM cells\n",
    "        self._RNN_cells = {\n",
    "            v: self.RNN_cell(\n",
    "             d,\n",
    "             activation = self.Cell_activation\n",
    "            ) for (v,d) in self.var.items()\n",
    "        }\n",
    "        # Init message-computing MLPs\n",
    "        self._msg_MLPs = {\n",
    "            msg: Mlp(\n",
    "                layer_sizes                    = [ self.var[vin] for _ in range( self.MLP_depth ) ],\n",
    "                output_size                    = self.var[vout],\n",
    "                activations                    = [ self.Msg_activation for _ in range( self.MLP_depth ) ],\n",
    "                output_activation        = self.Msg_last_activation,\n",
    "                kernel_initializer     = self.MLP_weight_initializer(),\n",
    "                bias_initializer         = self.MLP_weight_initializer(),\n",
    "                name                                 = msg,\n",
    "                name_internal_layers = True\n",
    "            ) for msg, (vin,vout) in self.msg.items()\n",
    "        }\n",
    "    #end _init_parameters\n",
    "\n",
    "    def __call__( self, adjacency_matrices, initial_embeddings, time_steps, LSTM_initial_states = {} ):\n",
    "        with tf.variable_scope(self.name):\n",
    "            with tf.variable_scope( \"assertions\" ):\n",
    "                assertions = self.check_run( adjacency_matrices, initial_embeddings, time_steps, LSTM_initial_states )\n",
    "            #end assertion variable scope\n",
    "            with tf.control_dependencies( assertions ):\n",
    "                states = {}\n",
    "                for v, init in initial_embeddings.items():\n",
    "                    h0 = init\n",
    "                    c0 = tf.zeros_like(h0, dtype=self.float_dtype) if v not in LSTM_initial_states else LSTM_initial_states[v]\n",
    "                    states[v] = tf.contrib.rnn.LSTMStateTuple(h=h0, c=c0)\n",
    "                #end\n",
    "                \n",
    "                # Build while loop body function\n",
    "                def while_body( t, states ):\n",
    "                    new_states = {}\n",
    "                    for v in self.var:\n",
    "                        inputs = []\n",
    "                        for update in self.loop[v]:\n",
    "                            if 'var' in update:\n",
    "                                y = states[update['var']].h\n",
    "                                if 'fun' in update:\n",
    "                                    y = update['fun'](y)\n",
    "                                #end if\n",
    "                                if 'msg' in update:\n",
    "                                    y = self._msg_MLPs[update['msg']](y)\n",
    "                                #end if\n",
    "                                if 'mat' in update:\n",
    "                                    y = tf.matmul(\n",
    "                                        adjacency_matrices[update['mat']],\n",
    "                                        y,\n",
    "                                        adjoint_a = update['transpose?'] if 'transpose?' in update else False\n",
    "                                    )\n",
    "                                #end if\n",
    "                                inputs.append( y )\n",
    "                            else:\n",
    "                                inputs.append( adjacency_matrices[update['mat']] )\n",
    "                            #end if var in update\n",
    "                        #end for update in loop\n",
    "                        inputs = tf.concat( inputs, axis = 1 )\n",
    "                        with tf.variable_scope( '{v}_cell'.format( v = v ) ):\n",
    "                            _, new_states[v] = self._RNN_cells[v]( inputs = inputs, state = states[v] )\n",
    "                        #end cell scope\n",
    "                    #end for v in var\n",
    "                    return (t+1), new_states\n",
    "                #end while_body\n",
    "                \n",
    "                _, last_states = tf.while_loop(\n",
    "                    lambda t, states: tf.less( t, time_steps ),\n",
    "                    while_body,\n",
    "                    [0,states]\n",
    "                )\n",
    "            #end assertions\n",
    "        #end Graph scope\n",
    "#         print(last_states)\n",
    "        return last_states\n",
    "    #end __call__\n",
    "\n",
    "    def check_run( self, adjacency_matrices, initial_embeddings, time_steps, LSTM_initial_states ):\n",
    "        assertions = []\n",
    "        # Procedure to check model for inconsistencies\n",
    "        num_vars = {}\n",
    "        for v, d in self.var.items():\n",
    "            init_shape = tf.shape( initial_embeddings[v] )\n",
    "            num_vars[v] = init_shape[0]\n",
    "            assertions.append(\n",
    "                tf.assert_equal(\n",
    "                    init_shape[1],\n",
    "                    d,\n",
    "                    data = [ init_shape[1] ],\n",
    "                    message = \"Initial embedding of variable {v} doesn't have the same dimensionality {d} as declared\".format(\n",
    "                        v = v,\n",
    "                        d = d\n",
    "                    )\n",
    "                )\n",
    "            )\n",
    "            if v in LSTM_initial_states:\n",
    "                lstm_init_shape = tf.shape( LSTM_initial_states[v] )\n",
    "                assertions.append(\n",
    "                    tf.assert_equal(\n",
    "                        lstm_init_shape[1],\n",
    "                        d,\n",
    "                        data = [ lstm_init_shape[1] ],\n",
    "                        message = \"Initial hidden state of variable {v}'s LSTM doesn't have the same dimensionality {d} as declared\".format(\n",
    "                            v = v,\n",
    "                            d = d\n",
    "                        )\n",
    "                    )\n",
    "                )\n",
    "                    \n",
    "                assertions.append(\n",
    "                    tf.assert_equal(\n",
    "                        lstm_init_shape,\n",
    "                        init_shape,\n",
    "                        data = [ init_shape, lstm_init_shape ],\n",
    "                        message = \"Initial embeddings of variable {v} don't have the same shape as the its LSTM's initial hidden state\".format(\n",
    "                            v = v,\n",
    "                            d = d\n",
    "                        )\n",
    "                    )\n",
    "                )\n",
    "            #end if\n",
    "        #end for v\n",
    "\n",
    "        for mat, (v1,v2) in self.mat.items():\n",
    "            mat_shape = tf.shape( adjacency_matrices[mat] )\n",
    "            assertions.append(\n",
    "                tf.assert_equal(\n",
    "                    mat_shape[0],\n",
    "                    num_vars[v1],\n",
    "                    data = [ mat_shape[0], num_vars[v1] ],\n",
    "                    message = \"Matrix {m} doesn't have the same number of nodes as the initial embeddings of its variable {v}\".format(\n",
    "                        v = v1,\n",
    "                        m = mat\n",
    "                    )\n",
    "                )\n",
    "            )\n",
    "            if type(v2) is int:\n",
    "                assertions.append(\n",
    "                    tf.assert_equal(\n",
    "                        mat_shape[1],\n",
    "                        v2,\n",
    "                        data = [ mat_shape[1], v2 ],\n",
    "                        message = \"Matrix {m} doesn't have the same dimensionality {d} on the second variable as declared\".format(\n",
    "                            m = mat,\n",
    "                            d = v2\n",
    "                        )\n",
    "                    )\n",
    "                )\n",
    "            else:\n",
    "                assertions.append(\n",
    "                    tf.assert_equal(\n",
    "                        mat_shape[1],\n",
    "                        num_vars[v2],\n",
    "                        data = [ mat_shape[1], num_vars[v2] ],\n",
    "                        message = \"Matrix {m} doesn't have the same number of nodes as the initial embeddings of its variable {v}\".format(\n",
    "                            v = v2,\n",
    "                            m = mat\n",
    "                        )\n",
    "                    )\n",
    "                )\n",
    "            #end if-else\n",
    "        #end for mat, (v1,v2)\n",
    "        return assertions\n",
    "    #end check_run\n",
    "#end TGN"
   ]
  },
  {
   "cell_type": "code",
   "execution_count": null,
   "metadata": {},
   "outputs": [],
   "source": [
    "def build_neurosat(d):\n",
    "    print(\"start of neurosat\")\n",
    "\n",
    "    # Hyperparameters\n",
    "    learning_rate = 2e-5\n",
    "    parameter_l2norm_scaling = 1e-10\n",
    "    global_norm_gradient_clipping_ratio = 0.65\n",
    "\n",
    "    # Define placeholder for satisfiability statuses (one per problem)\n",
    "    instance_SAT = tf.placeholder( tf.float32, [ None ], name = \"instance_SAT\" )\n",
    "    time_steps = tf.placeholder(tf.int32, shape=(), name='time_steps')\n",
    "    matrix_placeholder = tf.placeholder( tf.float32, [ None, None ], name = \"M\" )\n",
    "    num_vars_on_instance = tf.placeholder( tf.int32, [ None ], name = \"instance_n\" )\n",
    "\n",
    "    # Literals\n",
    "    s = tf.shape( matrix_placeholder )\n",
    "    l = s[0]\n",
    "    m = s[1]\n",
    "    n = tf.floordiv( l, tf.constant( 2 ) )\n",
    "    # Compute number of problems\n",
    "    p = tf.shape( instance_SAT )[0]\n",
    "    print(\"start 2\")\n",
    "    # Define INV, a tf function to exchange positive and negative literal embeddings\n",
    "    def INV(Lh):\n",
    "        l = tf.shape(Lh)[0]\n",
    "        n = tf.div(l,tf.constant(2))\n",
    "        # Send messages from negated literals to positive ones, and vice-versa\n",
    "        Lh_pos = tf.gather( Lh, tf.range( tf.constant( 0 ), n ) )\n",
    "        Lh_neg = tf.gather( Lh, tf.range( n, l ) )\n",
    "        Lh_inverted = tf.concat( [ Lh_neg, Lh_pos ], axis = 0 )\n",
    "        return Lh_inverted\n",
    "    #end\n",
    "    \n",
    "    var = { \"L\": d, \"C\": d }\n",
    "    s = tf.shape( matrix_placeholder )\n",
    "    num_vars = { \"L\": l, \"C\": m }\n",
    "    print(\"start 3\")\n",
    "    initial_embeddings = { v:tf.get_variable(initializer=tf.random_normal((1,d)), dtype=tf.float32, name='{v}_init'.format(v=v)) for (v,d) in var.items() }\n",
    "    tiled_and_normalized_initial_embeddings = {\n",
    "        v: tf.tile(\n",
    "            tf.div(\n",
    "                init,\n",
    "                tf.sqrt( tf.cast( var[v], tf.float32 ) )\n",
    "            ),\n",
    "            [ num_vars[v], 1 ]\n",
    "        ) for v, init in initial_embeddings.items()\n",
    "    }\n",
    "    print(\"start 3\")\n",
    "    # Define Typed Graph Network\n",
    "    gnn = TGN(\n",
    "        var,\n",
    "        {\n",
    "            \"M\": (\"L\",\"C\")\n",
    "        },\n",
    "        {\n",
    "            \"Lmsg\": (\"L\",\"C\"),\n",
    "            \"Cmsg\": (\"C\",\"L\")\n",
    "        },\n",
    "        {\n",
    "            \"L\": [\n",
    "                {\n",
    "                    \"fun\": INV,\n",
    "                    \"var\": \"L\"\n",
    "                },\n",
    "                {\n",
    "                    \"mat\": \"M\",\n",
    "                    \"msg\": \"Cmsg\",\n",
    "                    \"var\": \"C\"\n",
    "                }\n",
    "            ],\n",
    "            \"C\": [\n",
    "                {\n",
    "                    \"mat\": \"M\",\n",
    "                    \"transpose?\": True,\n",
    "                    \"msg\": \"Lmsg\",\n",
    "                    \"var\": \"L\"\n",
    "                }\n",
    "            ]\n",
    "        },\n",
    "        name=\"NeuroSAT\"\n",
    "    )\n",
    "    print(\"start 4\")\n",
    "    # Define L_vote\n",
    "    L_vote_MLP = Mlp(\n",
    "        layer_sizes = [ d for _ in range(3) ],\n",
    "        activations = [ tf.nn.relu for _ in range(3) ],\n",
    "        output_size = 1,\n",
    "        name = \"L_vote\",\n",
    "        name_internal_layers = True,\n",
    "        kernel_initializer = tf.contrib.layers.xavier_initializer(),\n",
    "        bias_initializer = tf.zeros_initializer()\n",
    "    )\n",
    "\n",
    "    # Get the last embeddings\n",
    "    print(\"start 5\")\n",
    "    L_n = gnn(\n",
    "        { \"M\": matrix_placeholder },\n",
    "        tiled_and_normalized_initial_embeddings,\n",
    "        time_steps\n",
    "    )[\"L\"].h\n",
    "    \n",
    "    with tf.Session() as sess:\n",
    "        sess.run(L_n)\n",
    "    print(\"L_n {}\".format(L_n.get_shape()))\n",
    "    print(\"L_n {}\".format(L_n))\n",
    "    \n",
    "    L_vote = L_vote_MLP( L_n )\n",
    "    print(\"start 6\")\n",
    "    # Reorganize votes' result to obtain a prediction for each problem instance\n",
    "    def _vote_while_cond(i, p, n_acc, n, n_var_list, predicted_sat, L_vote):\n",
    "        return tf.less( i, p )\n",
    "    #end _vote_while_cond\n",
    "\n",
    "    def _vote_while_body(i, p, n_acc, n, n_var_list, predicted_SAT, L_vote):\n",
    "        # Helper for the amount of variables in this problem\n",
    "        i_n = n_var_list[i]\n",
    "        # Gather the positive and negative literals for that problem\n",
    "        pos_lits = tf.gather( L_vote, tf.range( n_acc, tf.add( n_acc, i_n ) ) )\n",
    "        neg_lits = tf.gather( L_vote, tf.range( tf.add( n, n_acc ), tf.add( n, tf.add( n_acc, i_n ) ) ) )\n",
    "        # Concatenate positive and negative literals and average their vote values\n",
    "        problem_predicted_SAT = tf.reduce_mean( tf.concat( [pos_lits, neg_lits], axis = 1 ) )\n",
    "        # Update TensorArray\n",
    "        predicted_SAT = predicted_SAT.write( i, problem_predicted_SAT )\n",
    "        return tf.add( i, tf.constant( 1 ) ), p, tf.add( n_acc, i_n ), n, n_var_list, predicted_SAT, L_vote\n",
    "    #end _vote_while_body\n",
    "    print(\"start 7\")\n",
    "    predicted_SAT = tf.TensorArray( size = p, dtype = tf.float32 )\n",
    "    _, _, _, _, _, predicted_SAT, _ = tf.while_loop(\n",
    "        _vote_while_cond,\n",
    "        _vote_while_body,\n",
    "        [ tf.constant( 0, dtype = tf.int32 ), p, tf.constant( 0, dtype = tf.int32 ), n, num_vars_on_instance, predicted_SAT, L_vote ]\n",
    "    )\n",
    "    predicted_SAT = predicted_SAT.stack()\n",
    "    print(\"start 8\")\n",
    "    # Define loss, accuracy\n",
    "    predict_costs = tf.nn.sigmoid_cross_entropy_with_logits( labels = instance_SAT, logits = predicted_SAT )\n",
    "    predict_cost = tf.reduce_mean( predict_costs )\n",
    "    vars_cost = tf.zeros([])\n",
    "    tvars = tf.trainable_variables()\n",
    "    for var in tvars:\n",
    "        vars_cost = tf.add( vars_cost, tf.nn.l2_loss( var ) )\n",
    "    #end for\n",
    "    loss = tf.add( predict_cost, tf.multiply( vars_cost, parameter_l2norm_scaling ) )\n",
    "    optimizer = tf.train.AdamOptimizer( name = \"Adam\", learning_rate = learning_rate )\n",
    "    grads, _ = tf.clip_by_global_norm( tf.gradients( loss, tvars ), global_norm_gradient_clipping_ratio )\n",
    "    train_step = optimizer.apply_gradients( zip( grads, tvars ) )\n",
    "    \n",
    "    accuracy = tf.reduce_mean(\n",
    "        tf.cast(\n",
    "            tf.equal(\n",
    "                tf.cast( instance_SAT, tf.bool ),\n",
    "                tf.cast( tf.round( tf.nn.sigmoid( predicted_SAT ) ), tf.bool )\n",
    "            )\n",
    "            , tf.float32\n",
    "        )\n",
    "    )\n",
    "    print(\"start 9\")\n",
    "    # Define neurosat dictionary\n",
    "    neurosat = {}\n",
    "    neurosat[\"M\"]                                        = matrix_placeholder\n",
    "    neurosat[\"time_steps\"]                     = time_steps\n",
    "    neurosat[\"gnn\"]                                    = gnn\n",
    "    neurosat[\"instance_SAT\"]                 = instance_SAT\n",
    "    neurosat[\"predicted_SAT\"]                = predicted_SAT\n",
    "    neurosat[\"num_vars_on_instance\"] = num_vars_on_instance\n",
    "    neurosat[\"loss\"]                                 = loss\n",
    "    neurosat[\"accuracy\"]                         = accuracy\n",
    "    neurosat[\"train_step\"]                     = train_step\n",
    "\n",
    "    return neurosat\n",
    "#end build_neurosat"
   ]
  },
  {
   "cell_type": "code",
   "execution_count": 7,
   "metadata": {
    "scrolled": true
   },
   "outputs": [
    {
     "name": "stdout",
     "output_type": "stream",
     "text": [
      "start of neurosat\n",
      "start 2\n",
      "start 3\n",
      "WARNING:tensorflow:From <ipython-input-6-adf91b93de31>:46: div (from tensorflow.python.ops.math_ops) is deprecated and will be removed in a future version.\n",
      "Instructions for updating:\n",
      "Deprecated in favor of operator or tf.math.divide.\n",
      "start 3\n",
      "start 4\n",
      "start 5\n"
     ]
    },
    {
     "ename": "InvalidArgumentError",
     "evalue": "2 root error(s) found.\n  (0) Invalid argument: You must feed a value for placeholder tensor 'time_steps' with dtype int32\n\t [[node time_steps (defined at /home/ubuntu/anaconda3/envs/tensorflow_p37/gpu_cuda10.0/lib/python3.7/site-packages/tensorflow_core/python/framework/ops.py:1748) ]]\n  (1) Invalid argument: You must feed a value for placeholder tensor 'time_steps' with dtype int32\n\t [[node time_steps (defined at /home/ubuntu/anaconda3/envs/tensorflow_p37/gpu_cuda10.0/lib/python3.7/site-packages/tensorflow_core/python/framework/ops.py:1748) ]]\n\t [[NeuroSAT_1/while/Exit_4/_15]]\n0 successful operations.\n0 derived errors ignored.\n\nOriginal stack trace for 'time_steps':\n  File \"/home/ubuntu/anaconda3/envs/tensorflow_p37/lib/python3.7/runpy.py\", line 193, in _run_module_as_main\n    \"__main__\", mod_spec)\n  File \"/home/ubuntu/anaconda3/envs/tensorflow_p37/lib/python3.7/runpy.py\", line 85, in _run_code\n    exec(code, run_globals)\n  File \"/home/ubuntu/anaconda3/envs/tensorflow_p37/lib/python3.7/site-packages/ipykernel_launcher.py\", line 16, in <module>\n    app.launch_new_instance()\n  File \"/home/ubuntu/anaconda3/envs/tensorflow_p37/lib/python3.7/site-packages/traitlets/config/application.py\", line 845, in launch_instance\n    app.start()\n  File \"/home/ubuntu/anaconda3/envs/tensorflow_p37/lib/python3.7/site-packages/ipykernel/kernelapp.py\", line 612, in start\n    self.io_loop.start()\n  File \"/home/ubuntu/anaconda3/envs/tensorflow_p37/lib/python3.7/site-packages/tornado/platform/asyncio.py\", line 199, in start\n    self.asyncio_loop.run_forever()\n  File \"/home/ubuntu/anaconda3/envs/tensorflow_p37/lib/python3.7/asyncio/base_events.py\", line 541, in run_forever\n    self._run_once()\n  File \"/home/ubuntu/anaconda3/envs/tensorflow_p37/lib/python3.7/asyncio/base_events.py\", line 1786, in _run_once\n    handle._run()\n  File \"/home/ubuntu/anaconda3/envs/tensorflow_p37/lib/python3.7/asyncio/events.py\", line 88, in _run\n    self._context.run(self._callback, *self._args)\n  File \"/home/ubuntu/anaconda3/envs/tensorflow_p37/lib/python3.7/site-packages/tornado/ioloop.py\", line 688, in <lambda>\n    lambda f: self._run_callback(functools.partial(callback, future))\n  File \"/home/ubuntu/anaconda3/envs/tensorflow_p37/lib/python3.7/site-packages/tornado/ioloop.py\", line 741, in _run_callback\n    ret = callback()\n  File \"/home/ubuntu/anaconda3/envs/tensorflow_p37/lib/python3.7/site-packages/tornado/gen.py\", line 814, in inner\n    self.ctx_run(self.run)\n  File \"/home/ubuntu/anaconda3/envs/tensorflow_p37/lib/python3.7/site-packages/tornado/gen.py\", line 775, in run\n    yielded = self.gen.send(value)\n  File \"/home/ubuntu/anaconda3/envs/tensorflow_p37/lib/python3.7/site-packages/ipykernel/kernelbase.py\", line 358, in process_one\n    yield gen.maybe_future(dispatch(*args))\n  File \"/home/ubuntu/anaconda3/envs/tensorflow_p37/lib/python3.7/site-packages/tornado/gen.py\", line 234, in wrapper\n    yielded = ctx_run(next, result)\n  File \"/home/ubuntu/anaconda3/envs/tensorflow_p37/lib/python3.7/site-packages/ipykernel/kernelbase.py\", line 261, in dispatch_shell\n    yield gen.maybe_future(handler(stream, idents, msg))\n  File \"/home/ubuntu/anaconda3/envs/tensorflow_p37/lib/python3.7/site-packages/tornado/gen.py\", line 234, in wrapper\n    yielded = ctx_run(next, result)\n  File \"/home/ubuntu/anaconda3/envs/tensorflow_p37/lib/python3.7/site-packages/ipykernel/kernelbase.py\", line 538, in execute_request\n    user_expressions, allow_stdin,\n  File \"/home/ubuntu/anaconda3/envs/tensorflow_p37/lib/python3.7/site-packages/tornado/gen.py\", line 234, in wrapper\n    yielded = ctx_run(next, result)\n  File \"/home/ubuntu/anaconda3/envs/tensorflow_p37/lib/python3.7/site-packages/ipykernel/ipkernel.py\", line 302, in do_execute\n    res = shell.run_cell(code, store_history=store_history, silent=silent)\n  File \"/home/ubuntu/anaconda3/envs/tensorflow_p37/lib/python3.7/site-packages/ipykernel/zmqshell.py\", line 539, in run_cell\n    return super(ZMQInteractiveShell, self).run_cell(*args, **kwargs)\n  File \"/home/ubuntu/anaconda3/envs/tensorflow_p37/lib/python3.7/site-packages/IPython/core/interactiveshell.py\", line 2887, in run_cell\n    raw_cell, store_history, silent, shell_futures)\n  File \"/home/ubuntu/anaconda3/envs/tensorflow_p37/lib/python3.7/site-packages/IPython/core/interactiveshell.py\", line 2932, in _run_cell\n    return runner(coro)\n  File \"/home/ubuntu/anaconda3/envs/tensorflow_p37/lib/python3.7/site-packages/IPython/core/async_helpers.py\", line 68, in _pseudo_sync_runner\n    coro.send(None)\n  File \"/home/ubuntu/anaconda3/envs/tensorflow_p37/lib/python3.7/site-packages/IPython/core/interactiveshell.py\", line 3156, in run_cell_async\n    interactivity=interactivity, compiler=compiler, result=result)\n  File \"/home/ubuntu/anaconda3/envs/tensorflow_p37/lib/python3.7/site-packages/IPython/core/interactiveshell.py\", line 3347, in run_ast_nodes\n    if (await self.run_code(code, result,  async_=asy)):\n  File \"/home/ubuntu/anaconda3/envs/tensorflow_p37/lib/python3.7/site-packages/IPython/core/interactiveshell.py\", line 3427, in run_code\n    exec(code_obj, self.user_global_ns, self.user_ns)\n  File \"<ipython-input-7-2c50b2ff01db>\", line 1, in <module>\n    build_neurosat(128)\n  File \"<ipython-input-6-adf91b93de31>\", line 11, in build_neurosat\n    time_steps = tf.placeholder(tf.int32, shape=(), name='time_steps')\n  File \"/home/ubuntu/anaconda3/envs/tensorflow_p37/gpu_cuda10.0/lib/python3.7/site-packages/tensorflow_core/python/ops/array_ops.py\", line 2619, in placeholder\n    return gen_array_ops.placeholder(dtype=dtype, shape=shape, name=name)\n  File \"/home/ubuntu/anaconda3/envs/tensorflow_p37/gpu_cuda10.0/lib/python3.7/site-packages/tensorflow_core/python/ops/gen_array_ops.py\", line 6669, in placeholder\n    \"Placeholder\", dtype=dtype, shape=shape, name=name)\n  File \"/home/ubuntu/anaconda3/envs/tensorflow_p37/gpu_cuda10.0/lib/python3.7/site-packages/tensorflow_core/python/framework/op_def_library.py\", line 794, in _apply_op_helper\n    op_def=op_def)\n  File \"/home/ubuntu/anaconda3/envs/tensorflow_p37/gpu_cuda10.0/lib/python3.7/site-packages/tensorflow_core/python/util/deprecation.py\", line 507, in new_func\n    return func(*args, **kwargs)\n  File \"/home/ubuntu/anaconda3/envs/tensorflow_p37/gpu_cuda10.0/lib/python3.7/site-packages/tensorflow_core/python/framework/ops.py\", line 3357, in create_op\n    attrs, op_def, compute_device)\n  File \"/home/ubuntu/anaconda3/envs/tensorflow_p37/gpu_cuda10.0/lib/python3.7/site-packages/tensorflow_core/python/framework/ops.py\", line 3426, in _create_op_internal\n    op_def=op_def)\n  File \"/home/ubuntu/anaconda3/envs/tensorflow_p37/gpu_cuda10.0/lib/python3.7/site-packages/tensorflow_core/python/framework/ops.py\", line 1748, in __init__\n    self._traceback = tf_stack.extract_stack()\n",
     "output_type": "error",
     "traceback": [
      "\u001b[0;31m---------------------------------------------------------------------------\u001b[0m",
      "\u001b[0;31mInvalidArgumentError\u001b[0m                      Traceback (most recent call last)",
      "\u001b[0;32m~/anaconda3/envs/tensorflow_p37/gpu_cuda10.0/lib/python3.7/site-packages/tensorflow_core/python/client/session.py\u001b[0m in \u001b[0;36m_do_call\u001b[0;34m(self, fn, *args)\u001b[0m\n\u001b[1;32m   1364\u001b[0m     \u001b[0;32mtry\u001b[0m\u001b[0;34m:\u001b[0m\u001b[0;34m\u001b[0m\u001b[0;34m\u001b[0m\u001b[0m\n\u001b[0;32m-> 1365\u001b[0;31m       \u001b[0;32mreturn\u001b[0m \u001b[0mfn\u001b[0m\u001b[0;34m(\u001b[0m\u001b[0;34m*\u001b[0m\u001b[0margs\u001b[0m\u001b[0;34m)\u001b[0m\u001b[0;34m\u001b[0m\u001b[0;34m\u001b[0m\u001b[0m\n\u001b[0m\u001b[1;32m   1366\u001b[0m     \u001b[0;32mexcept\u001b[0m \u001b[0merrors\u001b[0m\u001b[0;34m.\u001b[0m\u001b[0mOpError\u001b[0m \u001b[0;32mas\u001b[0m \u001b[0me\u001b[0m\u001b[0;34m:\u001b[0m\u001b[0;34m\u001b[0m\u001b[0;34m\u001b[0m\u001b[0m\n",
      "\u001b[0;32m~/anaconda3/envs/tensorflow_p37/gpu_cuda10.0/lib/python3.7/site-packages/tensorflow_core/python/client/session.py\u001b[0m in \u001b[0;36m_run_fn\u001b[0;34m(feed_dict, fetch_list, target_list, options, run_metadata)\u001b[0m\n\u001b[1;32m   1349\u001b[0m       return self._call_tf_sessionrun(options, feed_dict, fetch_list,\n\u001b[0;32m-> 1350\u001b[0;31m                                       target_list, run_metadata)\n\u001b[0m\u001b[1;32m   1351\u001b[0m \u001b[0;34m\u001b[0m\u001b[0m\n",
      "\u001b[0;32m~/anaconda3/envs/tensorflow_p37/gpu_cuda10.0/lib/python3.7/site-packages/tensorflow_core/python/client/session.py\u001b[0m in \u001b[0;36m_call_tf_sessionrun\u001b[0;34m(self, options, feed_dict, fetch_list, target_list, run_metadata)\u001b[0m\n\u001b[1;32m   1442\u001b[0m                                             \u001b[0mfetch_list\u001b[0m\u001b[0;34m,\u001b[0m \u001b[0mtarget_list\u001b[0m\u001b[0;34m,\u001b[0m\u001b[0;34m\u001b[0m\u001b[0;34m\u001b[0m\u001b[0m\n\u001b[0;32m-> 1443\u001b[0;31m                                             run_metadata)\n\u001b[0m\u001b[1;32m   1444\u001b[0m \u001b[0;34m\u001b[0m\u001b[0m\n",
      "\u001b[0;31mInvalidArgumentError\u001b[0m: 2 root error(s) found.\n  (0) Invalid argument: You must feed a value for placeholder tensor 'time_steps' with dtype int32\n\t [[{{node time_steps}}]]\n  (1) Invalid argument: You must feed a value for placeholder tensor 'time_steps' with dtype int32\n\t [[{{node time_steps}}]]\n\t [[NeuroSAT_1/while/Exit_4/_15]]\n0 successful operations.\n0 derived errors ignored.",
      "\nDuring handling of the above exception, another exception occurred:\n",
      "\u001b[0;31mInvalidArgumentError\u001b[0m                      Traceback (most recent call last)",
      "\u001b[0;32m<ipython-input-7-2c50b2ff01db>\u001b[0m in \u001b[0;36m<module>\u001b[0;34m\u001b[0m\n\u001b[0;32m----> 1\u001b[0;31m \u001b[0mbuild_neurosat\u001b[0m\u001b[0;34m(\u001b[0m\u001b[0;36m128\u001b[0m\u001b[0;34m)\u001b[0m\u001b[0;34m\u001b[0m\u001b[0;34m\u001b[0m\u001b[0m\n\u001b[0m",
      "\u001b[0;32m<ipython-input-6-adf91b93de31>\u001b[0m in \u001b[0;36mbuild_neurosat\u001b[0;34m(d)\u001b[0m\n\u001b[1;32m    101\u001b[0m \u001b[0;34m\u001b[0m\u001b[0m\n\u001b[1;32m    102\u001b[0m     \u001b[0;32mwith\u001b[0m \u001b[0mtf\u001b[0m\u001b[0;34m.\u001b[0m\u001b[0mSession\u001b[0m\u001b[0;34m(\u001b[0m\u001b[0;34m)\u001b[0m \u001b[0;32mas\u001b[0m \u001b[0msess\u001b[0m\u001b[0;34m:\u001b[0m\u001b[0;34m\u001b[0m\u001b[0;34m\u001b[0m\u001b[0m\n\u001b[0;32m--> 103\u001b[0;31m         \u001b[0msess\u001b[0m\u001b[0;34m.\u001b[0m\u001b[0mrun\u001b[0m\u001b[0;34m(\u001b[0m\u001b[0mL_n\u001b[0m\u001b[0;34m)\u001b[0m\u001b[0;34m\u001b[0m\u001b[0;34m\u001b[0m\u001b[0m\n\u001b[0m\u001b[1;32m    104\u001b[0m     \u001b[0mprint\u001b[0m\u001b[0;34m(\u001b[0m\u001b[0;34m\"L_n {}\"\u001b[0m\u001b[0;34m.\u001b[0m\u001b[0mformat\u001b[0m\u001b[0;34m(\u001b[0m\u001b[0mL_n\u001b[0m\u001b[0;34m.\u001b[0m\u001b[0mget_shape\u001b[0m\u001b[0;34m(\u001b[0m\u001b[0;34m)\u001b[0m\u001b[0;34m)\u001b[0m\u001b[0;34m)\u001b[0m\u001b[0;34m\u001b[0m\u001b[0;34m\u001b[0m\u001b[0m\n\u001b[1;32m    105\u001b[0m     \u001b[0mprint\u001b[0m\u001b[0;34m(\u001b[0m\u001b[0;34m\"L_n {}\"\u001b[0m\u001b[0;34m.\u001b[0m\u001b[0mformat\u001b[0m\u001b[0;34m(\u001b[0m\u001b[0mL_n\u001b[0m\u001b[0;34m)\u001b[0m\u001b[0;34m)\u001b[0m\u001b[0;34m\u001b[0m\u001b[0;34m\u001b[0m\u001b[0m\n",
      "\u001b[0;32m~/anaconda3/envs/tensorflow_p37/gpu_cuda10.0/lib/python3.7/site-packages/tensorflow_core/python/client/session.py\u001b[0m in \u001b[0;36mrun\u001b[0;34m(self, fetches, feed_dict, options, run_metadata)\u001b[0m\n\u001b[1;32m    954\u001b[0m     \u001b[0;32mtry\u001b[0m\u001b[0;34m:\u001b[0m\u001b[0;34m\u001b[0m\u001b[0;34m\u001b[0m\u001b[0m\n\u001b[1;32m    955\u001b[0m       result = self._run(None, fetches, feed_dict, options_ptr,\n\u001b[0;32m--> 956\u001b[0;31m                          run_metadata_ptr)\n\u001b[0m\u001b[1;32m    957\u001b[0m       \u001b[0;32mif\u001b[0m \u001b[0mrun_metadata\u001b[0m\u001b[0;34m:\u001b[0m\u001b[0;34m\u001b[0m\u001b[0;34m\u001b[0m\u001b[0m\n\u001b[1;32m    958\u001b[0m         \u001b[0mproto_data\u001b[0m \u001b[0;34m=\u001b[0m \u001b[0mtf_session\u001b[0m\u001b[0;34m.\u001b[0m\u001b[0mTF_GetBuffer\u001b[0m\u001b[0;34m(\u001b[0m\u001b[0mrun_metadata_ptr\u001b[0m\u001b[0;34m)\u001b[0m\u001b[0;34m\u001b[0m\u001b[0;34m\u001b[0m\u001b[0m\n",
      "\u001b[0;32m~/anaconda3/envs/tensorflow_p37/gpu_cuda10.0/lib/python3.7/site-packages/tensorflow_core/python/client/session.py\u001b[0m in \u001b[0;36m_run\u001b[0;34m(self, handle, fetches, feed_dict, options, run_metadata)\u001b[0m\n\u001b[1;32m   1178\u001b[0m     \u001b[0;32mif\u001b[0m \u001b[0mfinal_fetches\u001b[0m \u001b[0;32mor\u001b[0m \u001b[0mfinal_targets\u001b[0m \u001b[0;32mor\u001b[0m \u001b[0;34m(\u001b[0m\u001b[0mhandle\u001b[0m \u001b[0;32mand\u001b[0m \u001b[0mfeed_dict_tensor\u001b[0m\u001b[0;34m)\u001b[0m\u001b[0;34m:\u001b[0m\u001b[0;34m\u001b[0m\u001b[0;34m\u001b[0m\u001b[0m\n\u001b[1;32m   1179\u001b[0m       results = self._do_run(handle, final_targets, final_fetches,\n\u001b[0;32m-> 1180\u001b[0;31m                              feed_dict_tensor, options, run_metadata)\n\u001b[0m\u001b[1;32m   1181\u001b[0m     \u001b[0;32melse\u001b[0m\u001b[0;34m:\u001b[0m\u001b[0;34m\u001b[0m\u001b[0;34m\u001b[0m\u001b[0m\n\u001b[1;32m   1182\u001b[0m       \u001b[0mresults\u001b[0m \u001b[0;34m=\u001b[0m \u001b[0;34m[\u001b[0m\u001b[0;34m]\u001b[0m\u001b[0;34m\u001b[0m\u001b[0;34m\u001b[0m\u001b[0m\n",
      "\u001b[0;32m~/anaconda3/envs/tensorflow_p37/gpu_cuda10.0/lib/python3.7/site-packages/tensorflow_core/python/client/session.py\u001b[0m in \u001b[0;36m_do_run\u001b[0;34m(self, handle, target_list, fetch_list, feed_dict, options, run_metadata)\u001b[0m\n\u001b[1;32m   1357\u001b[0m     \u001b[0;32mif\u001b[0m \u001b[0mhandle\u001b[0m \u001b[0;32mis\u001b[0m \u001b[0;32mNone\u001b[0m\u001b[0;34m:\u001b[0m\u001b[0;34m\u001b[0m\u001b[0;34m\u001b[0m\u001b[0m\n\u001b[1;32m   1358\u001b[0m       return self._do_call(_run_fn, feeds, fetches, targets, options,\n\u001b[0;32m-> 1359\u001b[0;31m                            run_metadata)\n\u001b[0m\u001b[1;32m   1360\u001b[0m     \u001b[0;32melse\u001b[0m\u001b[0;34m:\u001b[0m\u001b[0;34m\u001b[0m\u001b[0;34m\u001b[0m\u001b[0m\n\u001b[1;32m   1361\u001b[0m       \u001b[0;32mreturn\u001b[0m \u001b[0mself\u001b[0m\u001b[0;34m.\u001b[0m\u001b[0m_do_call\u001b[0m\u001b[0;34m(\u001b[0m\u001b[0m_prun_fn\u001b[0m\u001b[0;34m,\u001b[0m \u001b[0mhandle\u001b[0m\u001b[0;34m,\u001b[0m \u001b[0mfeeds\u001b[0m\u001b[0;34m,\u001b[0m \u001b[0mfetches\u001b[0m\u001b[0;34m)\u001b[0m\u001b[0;34m\u001b[0m\u001b[0;34m\u001b[0m\u001b[0m\n",
      "\u001b[0;32m~/anaconda3/envs/tensorflow_p37/gpu_cuda10.0/lib/python3.7/site-packages/tensorflow_core/python/client/session.py\u001b[0m in \u001b[0;36m_do_call\u001b[0;34m(self, fn, *args)\u001b[0m\n\u001b[1;32m   1382\u001b[0m                     \u001b[0;34m'\\nsession_config.graph_options.rewrite_options.'\u001b[0m\u001b[0;34m\u001b[0m\u001b[0;34m\u001b[0m\u001b[0m\n\u001b[1;32m   1383\u001b[0m                     'disable_meta_optimizer = True')\n\u001b[0;32m-> 1384\u001b[0;31m       \u001b[0;32mraise\u001b[0m \u001b[0mtype\u001b[0m\u001b[0;34m(\u001b[0m\u001b[0me\u001b[0m\u001b[0;34m)\u001b[0m\u001b[0;34m(\u001b[0m\u001b[0mnode_def\u001b[0m\u001b[0;34m,\u001b[0m \u001b[0mop\u001b[0m\u001b[0;34m,\u001b[0m \u001b[0mmessage\u001b[0m\u001b[0;34m)\u001b[0m\u001b[0;34m\u001b[0m\u001b[0;34m\u001b[0m\u001b[0m\n\u001b[0m\u001b[1;32m   1385\u001b[0m \u001b[0;34m\u001b[0m\u001b[0m\n\u001b[1;32m   1386\u001b[0m   \u001b[0;32mdef\u001b[0m \u001b[0m_extend_graph\u001b[0m\u001b[0;34m(\u001b[0m\u001b[0mself\u001b[0m\u001b[0;34m)\u001b[0m\u001b[0;34m:\u001b[0m\u001b[0;34m\u001b[0m\u001b[0;34m\u001b[0m\u001b[0m\n",
      "\u001b[0;31mInvalidArgumentError\u001b[0m: 2 root error(s) found.\n  (0) Invalid argument: You must feed a value for placeholder tensor 'time_steps' with dtype int32\n\t [[node time_steps (defined at /home/ubuntu/anaconda3/envs/tensorflow_p37/gpu_cuda10.0/lib/python3.7/site-packages/tensorflow_core/python/framework/ops.py:1748) ]]\n  (1) Invalid argument: You must feed a value for placeholder tensor 'time_steps' with dtype int32\n\t [[node time_steps (defined at /home/ubuntu/anaconda3/envs/tensorflow_p37/gpu_cuda10.0/lib/python3.7/site-packages/tensorflow_core/python/framework/ops.py:1748) ]]\n\t [[NeuroSAT_1/while/Exit_4/_15]]\n0 successful operations.\n0 derived errors ignored.\n\nOriginal stack trace for 'time_steps':\n  File \"/home/ubuntu/anaconda3/envs/tensorflow_p37/lib/python3.7/runpy.py\", line 193, in _run_module_as_main\n    \"__main__\", mod_spec)\n  File \"/home/ubuntu/anaconda3/envs/tensorflow_p37/lib/python3.7/runpy.py\", line 85, in _run_code\n    exec(code, run_globals)\n  File \"/home/ubuntu/anaconda3/envs/tensorflow_p37/lib/python3.7/site-packages/ipykernel_launcher.py\", line 16, in <module>\n    app.launch_new_instance()\n  File \"/home/ubuntu/anaconda3/envs/tensorflow_p37/lib/python3.7/site-packages/traitlets/config/application.py\", line 845, in launch_instance\n    app.start()\n  File \"/home/ubuntu/anaconda3/envs/tensorflow_p37/lib/python3.7/site-packages/ipykernel/kernelapp.py\", line 612, in start\n    self.io_loop.start()\n  File \"/home/ubuntu/anaconda3/envs/tensorflow_p37/lib/python3.7/site-packages/tornado/platform/asyncio.py\", line 199, in start\n    self.asyncio_loop.run_forever()\n  File \"/home/ubuntu/anaconda3/envs/tensorflow_p37/lib/python3.7/asyncio/base_events.py\", line 541, in run_forever\n    self._run_once()\n  File \"/home/ubuntu/anaconda3/envs/tensorflow_p37/lib/python3.7/asyncio/base_events.py\", line 1786, in _run_once\n    handle._run()\n  File \"/home/ubuntu/anaconda3/envs/tensorflow_p37/lib/python3.7/asyncio/events.py\", line 88, in _run\n    self._context.run(self._callback, *self._args)\n  File \"/home/ubuntu/anaconda3/envs/tensorflow_p37/lib/python3.7/site-packages/tornado/ioloop.py\", line 688, in <lambda>\n    lambda f: self._run_callback(functools.partial(callback, future))\n  File \"/home/ubuntu/anaconda3/envs/tensorflow_p37/lib/python3.7/site-packages/tornado/ioloop.py\", line 741, in _run_callback\n    ret = callback()\n  File \"/home/ubuntu/anaconda3/envs/tensorflow_p37/lib/python3.7/site-packages/tornado/gen.py\", line 814, in inner\n    self.ctx_run(self.run)\n  File \"/home/ubuntu/anaconda3/envs/tensorflow_p37/lib/python3.7/site-packages/tornado/gen.py\", line 775, in run\n    yielded = self.gen.send(value)\n  File \"/home/ubuntu/anaconda3/envs/tensorflow_p37/lib/python3.7/site-packages/ipykernel/kernelbase.py\", line 358, in process_one\n    yield gen.maybe_future(dispatch(*args))\n  File \"/home/ubuntu/anaconda3/envs/tensorflow_p37/lib/python3.7/site-packages/tornado/gen.py\", line 234, in wrapper\n    yielded = ctx_run(next, result)\n  File \"/home/ubuntu/anaconda3/envs/tensorflow_p37/lib/python3.7/site-packages/ipykernel/kernelbase.py\", line 261, in dispatch_shell\n    yield gen.maybe_future(handler(stream, idents, msg))\n  File \"/home/ubuntu/anaconda3/envs/tensorflow_p37/lib/python3.7/site-packages/tornado/gen.py\", line 234, in wrapper\n    yielded = ctx_run(next, result)\n  File \"/home/ubuntu/anaconda3/envs/tensorflow_p37/lib/python3.7/site-packages/ipykernel/kernelbase.py\", line 538, in execute_request\n    user_expressions, allow_stdin,\n  File \"/home/ubuntu/anaconda3/envs/tensorflow_p37/lib/python3.7/site-packages/tornado/gen.py\", line 234, in wrapper\n    yielded = ctx_run(next, result)\n  File \"/home/ubuntu/anaconda3/envs/tensorflow_p37/lib/python3.7/site-packages/ipykernel/ipkernel.py\", line 302, in do_execute\n    res = shell.run_cell(code, store_history=store_history, silent=silent)\n  File \"/home/ubuntu/anaconda3/envs/tensorflow_p37/lib/python3.7/site-packages/ipykernel/zmqshell.py\", line 539, in run_cell\n    return super(ZMQInteractiveShell, self).run_cell(*args, **kwargs)\n  File \"/home/ubuntu/anaconda3/envs/tensorflow_p37/lib/python3.7/site-packages/IPython/core/interactiveshell.py\", line 2887, in run_cell\n    raw_cell, store_history, silent, shell_futures)\n  File \"/home/ubuntu/anaconda3/envs/tensorflow_p37/lib/python3.7/site-packages/IPython/core/interactiveshell.py\", line 2932, in _run_cell\n    return runner(coro)\n  File \"/home/ubuntu/anaconda3/envs/tensorflow_p37/lib/python3.7/site-packages/IPython/core/async_helpers.py\", line 68, in _pseudo_sync_runner\n    coro.send(None)\n  File \"/home/ubuntu/anaconda3/envs/tensorflow_p37/lib/python3.7/site-packages/IPython/core/interactiveshell.py\", line 3156, in run_cell_async\n    interactivity=interactivity, compiler=compiler, result=result)\n  File \"/home/ubuntu/anaconda3/envs/tensorflow_p37/lib/python3.7/site-packages/IPython/core/interactiveshell.py\", line 3347, in run_ast_nodes\n    if (await self.run_code(code, result,  async_=asy)):\n  File \"/home/ubuntu/anaconda3/envs/tensorflow_p37/lib/python3.7/site-packages/IPython/core/interactiveshell.py\", line 3427, in run_code\n    exec(code_obj, self.user_global_ns, self.user_ns)\n  File \"<ipython-input-7-2c50b2ff01db>\", line 1, in <module>\n    build_neurosat(128)\n  File \"<ipython-input-6-adf91b93de31>\", line 11, in build_neurosat\n    time_steps = tf.placeholder(tf.int32, shape=(), name='time_steps')\n  File \"/home/ubuntu/anaconda3/envs/tensorflow_p37/gpu_cuda10.0/lib/python3.7/site-packages/tensorflow_core/python/ops/array_ops.py\", line 2619, in placeholder\n    return gen_array_ops.placeholder(dtype=dtype, shape=shape, name=name)\n  File \"/home/ubuntu/anaconda3/envs/tensorflow_p37/gpu_cuda10.0/lib/python3.7/site-packages/tensorflow_core/python/ops/gen_array_ops.py\", line 6669, in placeholder\n    \"Placeholder\", dtype=dtype, shape=shape, name=name)\n  File \"/home/ubuntu/anaconda3/envs/tensorflow_p37/gpu_cuda10.0/lib/python3.7/site-packages/tensorflow_core/python/framework/op_def_library.py\", line 794, in _apply_op_helper\n    op_def=op_def)\n  File \"/home/ubuntu/anaconda3/envs/tensorflow_p37/gpu_cuda10.0/lib/python3.7/site-packages/tensorflow_core/python/util/deprecation.py\", line 507, in new_func\n    return func(*args, **kwargs)\n  File \"/home/ubuntu/anaconda3/envs/tensorflow_p37/gpu_cuda10.0/lib/python3.7/site-packages/tensorflow_core/python/framework/ops.py\", line 3357, in create_op\n    attrs, op_def, compute_device)\n  File \"/home/ubuntu/anaconda3/envs/tensorflow_p37/gpu_cuda10.0/lib/python3.7/site-packages/tensorflow_core/python/framework/ops.py\", line 3426, in _create_op_internal\n    op_def=op_def)\n  File \"/home/ubuntu/anaconda3/envs/tensorflow_p37/gpu_cuda10.0/lib/python3.7/site-packages/tensorflow_core/python/framework/ops.py\", line 1748, in __init__\n    self._traceback = tf_stack.extract_stack()\n"
     ]
    }
   ],
   "source": [
    "build_neurosat(128)"
   ]
  },
  {
   "cell_type": "code",
   "execution_count": 7,
   "metadata": {},
   "outputs": [
    {
     "name": "stdout",
     "output_type": "stream",
     "text": [
      "start of neurosat\n",
      "start 2\n",
      "start 3\n",
      "WARNING:tensorflow:From <ipython-input-6-7f2d7d11655d>:46: div (from tensorflow.python.ops.math_ops) is deprecated and will be removed in a future version.\n",
      "Instructions for updating:\n",
      "Deprecated in favor of operator or tf.math.divide.\n",
      "start 3\n",
      "start 4\n",
      "start 5\n",
      "L_n (?, 128)\n",
      "L_n Tensor(\"NeuroSAT_1/while/Exit_4:0\", shape=(?, 128), dtype=float32)\n",
      "start 6\n",
      "start 7\n",
      "start 8\n",
      "WARNING:tensorflow:From /home/ubuntu/anaconda3/envs/tensorflow_p37/gpu_cuda10.0/lib/python3.7/site-packages/tensorflow_core/python/ops/nn_impl.py:183: where (from tensorflow.python.ops.array_ops) is deprecated and will be removed in a future version.\n",
      "Instructions for updating:\n",
      "Use tf.where in 2.0, which has the same broadcast rule as np.where\n"
     ]
    },
    {
     "name": "stderr",
     "output_type": "stream",
     "text": [
      "/home/ubuntu/anaconda3/envs/tensorflow_p37/gpu_cuda10.0/lib/python3.7/site-packages/tensorflow_core/python/framework/indexed_slices.py:424: UserWarning: Converting sparse IndexedSlices to a dense Tensor of unknown shape. This may consume a large amount of memory.\n",
      "  \"Converting sparse IndexedSlices to a dense Tensor of unknown shape. \"\n",
      "/home/ubuntu/anaconda3/envs/tensorflow_p37/gpu_cuda10.0/lib/python3.7/site-packages/tensorflow_core/python/framework/indexed_slices.py:424: UserWarning: Converting sparse IndexedSlices to a dense Tensor of unknown shape. This may consume a large amount of memory.\n",
      "  \"Converting sparse IndexedSlices to a dense Tensor of unknown shape. \"\n"
     ]
    },
    {
     "name": "stdout",
     "output_type": "stream",
     "text": [
      "start 9\n"
     ]
    },
    {
     "ename": "NotFoundError",
     "evalue": "./tmp; No such file or directory",
     "output_type": "error",
     "traceback": [
      "\u001b[0;31m---------------------------------------------------------------------------\u001b[0m",
      "\u001b[0;31mNotFoundError\u001b[0m                             Traceback (most recent call last)",
      "\u001b[0;32m<ipython-input-7-525854cafc40>\u001b[0m in \u001b[0;36m<module>\u001b[0;34m\u001b[0m\n\u001b[1;32m     12\u001b[0m \u001b[0;34m\u001b[0m\u001b[0m\n\u001b[1;32m     13\u001b[0m     \u001b[0;31m# Restore saved weights\u001b[0m\u001b[0;34m\u001b[0m\u001b[0;34m\u001b[0m\u001b[0;34m\u001b[0m\u001b[0m\n\u001b[0;32m---> 14\u001b[0;31m     \u001b[0msaver\u001b[0m\u001b[0;34m.\u001b[0m\u001b[0mrestore\u001b[0m\u001b[0;34m(\u001b[0m\u001b[0msess\u001b[0m\u001b[0;34m,\u001b[0m \u001b[0;34m\"./tmp/neurosat.ckpt\"\u001b[0m\u001b[0;34m)\u001b[0m\u001b[0;34m\u001b[0m\u001b[0;34m\u001b[0m\u001b[0m\n\u001b[0m\u001b[1;32m     15\u001b[0m \u001b[0;34m\u001b[0m\u001b[0m\n\u001b[1;32m     16\u001b[0m     \u001b[0;31m# Test SR distribution\u001b[0m\u001b[0;34m\u001b[0m\u001b[0;34m\u001b[0m\u001b[0;34m\u001b[0m\u001b[0m\n",
      "\u001b[0;32m~/anaconda3/envs/tensorflow_p37/gpu_cuda10.0/lib/python3.7/site-packages/tensorflow_core/python/training/saver.py\u001b[0m in \u001b[0;36mrestore\u001b[0;34m(self, sess, save_path)\u001b[0m\n\u001b[1;32m   1284\u001b[0m \u001b[0;34m\u001b[0m\u001b[0m\n\u001b[1;32m   1285\u001b[0m     \u001b[0mcheckpoint_prefix\u001b[0m \u001b[0;34m=\u001b[0m \u001b[0mcompat\u001b[0m\u001b[0;34m.\u001b[0m\u001b[0mas_text\u001b[0m\u001b[0;34m(\u001b[0m\u001b[0msave_path\u001b[0m\u001b[0;34m)\u001b[0m\u001b[0;34m\u001b[0m\u001b[0;34m\u001b[0m\u001b[0m\n\u001b[0;32m-> 1286\u001b[0;31m     \u001b[0;32mif\u001b[0m \u001b[0;32mnot\u001b[0m \u001b[0mcheckpoint_management\u001b[0m\u001b[0;34m.\u001b[0m\u001b[0mcheckpoint_exists_internal\u001b[0m\u001b[0;34m(\u001b[0m\u001b[0mcheckpoint_prefix\u001b[0m\u001b[0;34m)\u001b[0m\u001b[0;34m:\u001b[0m\u001b[0;34m\u001b[0m\u001b[0;34m\u001b[0m\u001b[0m\n\u001b[0m\u001b[1;32m   1287\u001b[0m       raise ValueError(\"The passed save_path is not a valid checkpoint: \" +\n\u001b[1;32m   1288\u001b[0m                        checkpoint_prefix)\n",
      "\u001b[0;32m~/anaconda3/envs/tensorflow_p37/gpu_cuda10.0/lib/python3.7/site-packages/tensorflow_core/python/training/checkpoint_management.py\u001b[0m in \u001b[0;36mcheckpoint_exists_internal\u001b[0;34m(checkpoint_prefix)\u001b[0m\n\u001b[1;32m    364\u001b[0m   pathname = _prefix_to_checkpoint_path(checkpoint_prefix,\n\u001b[1;32m    365\u001b[0m                                         saver_pb2.SaverDef.V2)\n\u001b[0;32m--> 366\u001b[0;31m   \u001b[0;32mif\u001b[0m \u001b[0mfile_io\u001b[0m\u001b[0;34m.\u001b[0m\u001b[0mget_matching_files\u001b[0m\u001b[0;34m(\u001b[0m\u001b[0mpathname\u001b[0m\u001b[0;34m)\u001b[0m\u001b[0;34m:\u001b[0m\u001b[0;34m\u001b[0m\u001b[0;34m\u001b[0m\u001b[0m\n\u001b[0m\u001b[1;32m    367\u001b[0m     \u001b[0;32mreturn\u001b[0m \u001b[0;32mTrue\u001b[0m\u001b[0;34m\u001b[0m\u001b[0;34m\u001b[0m\u001b[0m\n\u001b[1;32m    368\u001b[0m   \u001b[0;32melif\u001b[0m \u001b[0mfile_io\u001b[0m\u001b[0;34m.\u001b[0m\u001b[0mget_matching_files\u001b[0m\u001b[0;34m(\u001b[0m\u001b[0mcheckpoint_prefix\u001b[0m\u001b[0;34m)\u001b[0m\u001b[0;34m:\u001b[0m\u001b[0;34m\u001b[0m\u001b[0;34m\u001b[0m\u001b[0m\n",
      "\u001b[0;32m~/anaconda3/envs/tensorflow_p37/gpu_cuda10.0/lib/python3.7/site-packages/tensorflow_core/python/lib/io/file_io.py\u001b[0m in \u001b[0;36mget_matching_files\u001b[0;34m(filename)\u001b[0m\n\u001b[1;32m    361\u001b[0m     \u001b[0merrors\u001b[0m\u001b[0;34m.\u001b[0m\u001b[0mOpError\u001b[0m\u001b[0;34m:\u001b[0m \u001b[0mIf\u001b[0m \u001b[0mthere\u001b[0m \u001b[0mare\u001b[0m \u001b[0mfilesystem\u001b[0m \u001b[0;34m/\u001b[0m \u001b[0mdirectory\u001b[0m \u001b[0mlisting\u001b[0m \u001b[0merrors\u001b[0m\u001b[0;34m.\u001b[0m\u001b[0;34m\u001b[0m\u001b[0;34m\u001b[0m\u001b[0m\n\u001b[1;32m    362\u001b[0m   \"\"\"\n\u001b[0;32m--> 363\u001b[0;31m   \u001b[0;32mreturn\u001b[0m \u001b[0mget_matching_files_v2\u001b[0m\u001b[0;34m(\u001b[0m\u001b[0mfilename\u001b[0m\u001b[0;34m)\u001b[0m\u001b[0;34m\u001b[0m\u001b[0;34m\u001b[0m\u001b[0m\n\u001b[0m\u001b[1;32m    364\u001b[0m \u001b[0;34m\u001b[0m\u001b[0m\n\u001b[1;32m    365\u001b[0m \u001b[0;34m\u001b[0m\u001b[0m\n",
      "\u001b[0;32m~/anaconda3/envs/tensorflow_p37/gpu_cuda10.0/lib/python3.7/site-packages/tensorflow_core/python/lib/io/file_io.py\u001b[0m in \u001b[0;36mget_matching_files_v2\u001b[0;34m(pattern)\u001b[0m\n\u001b[1;32m    382\u001b[0m         \u001b[0mcompat\u001b[0m\u001b[0;34m.\u001b[0m\u001b[0mas_str_any\u001b[0m\u001b[0;34m(\u001b[0m\u001b[0mmatching_filename\u001b[0m\u001b[0;34m)\u001b[0m\u001b[0;34m\u001b[0m\u001b[0;34m\u001b[0m\u001b[0m\n\u001b[1;32m    383\u001b[0m         for matching_filename in pywrap_tensorflow.GetMatchingFiles(\n\u001b[0;32m--> 384\u001b[0;31m             compat.as_bytes(pattern))\n\u001b[0m\u001b[1;32m    385\u001b[0m     ]\n\u001b[1;32m    386\u001b[0m   \u001b[0;32melse\u001b[0m\u001b[0;34m:\u001b[0m\u001b[0;34m\u001b[0m\u001b[0;34m\u001b[0m\u001b[0m\n",
      "\u001b[0;31mNotFoundError\u001b[0m: ./tmp; No such file or directory"
     ]
    }
   ],
   "source": [
    "d = 128\n",
    "batch_size = 64\n",
    "solver = build_neurosat( d )\n",
    "\n",
    "# Create model saver\n",
    "saver = tf.train.Saver()\n",
    "\n",
    "with tf.Session() as sess:\n",
    "\n",
    "    # Initialize global variables\n",
    "    sess.run( tf.global_variables_initializer() )\n",
    "\n",
    "    # Restore saved weights\n",
    "    saver.restore(sess, \"tmp/neurosat.ckpt\")\n",
    "\n",
    "    # Test SR distribution\n",
    "    test_with(\n",
    "        sess,\n",
    "        solver,\n",
    "        \"./test-instances\",\n",
    "        \"SR\",\n",
    "        time_steps = test_time_steps\n",
    "    )\n",
    "    # Test Phase Transition distribution\n",
    "    test_with(\n",
    "        sess,\n",
    "        solver,\n",
    "        \"./critical-instances-40\",\n",
    "        \"PT40\",\n",
    "        time_steps = test_time_steps\n",
    "    )\n",
    "    test_with(\n",
    "        sess,\n",
    "        solver,\n",
    "        \"./critical-instances-80\",\n",
    "        \"PT80\",\n",
    "        time_steps = test_time_steps\n",
    "    )"
   ]
  },
  {
   "cell_type": "markdown",
   "metadata": {
    "_cell_guid": "edf7c88a-19a1-407f-a79e-f0ff73e6638f",
    "_uuid": "058bc828-59fb-447d-8a14-fd2aec1b40c0"
   },
   "source": [
    "# Environment setup"
   ]
  },
  {
   "cell_type": "code",
   "execution_count": 7,
   "metadata": {},
   "outputs": [],
   "source": [
    "!pip -q install timm"
   ]
  },
  {
   "cell_type": "code",
   "execution_count": 8,
   "metadata": {
    "_cell_guid": "81928957-d34d-4d86-bad6-103735298d27",
    "_uuid": "8954fe1d-10be-4967-bf33-f3000ab56cef",
    "jupyter": {
     "outputs_hidden": false
    }
   },
   "outputs": [
    {
     "ename": "ModuleNotFoundError",
     "evalue": "No module named 'l5kit'",
     "output_type": "error",
     "traceback": [
      "\u001b[0;31m---------------------------------------------------------------------------\u001b[0m",
      "\u001b[0;31mModuleNotFoundError\u001b[0m                       Traceback (most recent call last)",
      "\u001b[0;32m<ipython-input-8-8a26e8b3a8f0>\u001b[0m in \u001b[0;36m<module>\u001b[0;34m\u001b[0m\n\u001b[1;32m     12\u001b[0m \u001b[0;32mfrom\u001b[0m \u001b[0mtqdm\u001b[0m \u001b[0;32mimport\u001b[0m \u001b[0mtqdm\u001b[0m\u001b[0;34m\u001b[0m\u001b[0;34m\u001b[0m\u001b[0m\n\u001b[1;32m     13\u001b[0m \u001b[0;34m\u001b[0m\u001b[0m\n\u001b[0;32m---> 14\u001b[0;31m \u001b[0;32mimport\u001b[0m \u001b[0ml5kit\u001b[0m\u001b[0;34m\u001b[0m\u001b[0;34m\u001b[0m\u001b[0m\n\u001b[0m\u001b[1;32m     15\u001b[0m \u001b[0;32mfrom\u001b[0m \u001b[0ml5kit\u001b[0m\u001b[0;34m.\u001b[0m\u001b[0mconfigs\u001b[0m \u001b[0;32mimport\u001b[0m \u001b[0mload_config_data\u001b[0m\u001b[0;34m\u001b[0m\u001b[0;34m\u001b[0m\u001b[0m\n\u001b[1;32m     16\u001b[0m \u001b[0;32mfrom\u001b[0m \u001b[0ml5kit\u001b[0m\u001b[0;34m.\u001b[0m\u001b[0mdata\u001b[0m \u001b[0;32mimport\u001b[0m \u001b[0mLocalDataManager\u001b[0m\u001b[0;34m,\u001b[0m \u001b[0mChunkedDataset\u001b[0m\u001b[0;34m\u001b[0m\u001b[0;34m\u001b[0m\u001b[0m\n",
      "\u001b[0;31mModuleNotFoundError\u001b[0m: No module named 'l5kit'"
     ]
    }
   ],
   "source": [
    "from typing import Dict\n",
    "\n",
    "from tempfile import gettempdir\n",
    "import matplotlib.pyplot as plt\n",
    "import numpy as np\n",
    "import pandas as pd\n",
    "import torch\n",
    "from torch import nn, optim\n",
    "from torch.nn import functional as F\n",
    "from torch.utils.data import DataLoader\n",
    "from torchvision.models.resnet import resnet50, resnet18, resnet34, resnet101\n",
    "from tqdm import tqdm\n",
    "\n",
    "import l5kit\n",
    "from l5kit.configs import load_config_data\n",
    "from l5kit.data import LocalDataManager, ChunkedDataset\n",
    "from l5kit.dataset import AgentDataset, EgoDataset\n",
    "from l5kit.rasterization import build_rasterizer\n",
    "from l5kit.evaluation import write_pred_csv, compute_metrics_csv, read_gt_csv, create_chopped_dataset\n",
    "from l5kit.evaluation.chop_dataset import MIN_FUTURE_STEPS\n",
    "from l5kit.evaluation.metrics import neg_multi_log_likelihood, time_displace\n",
    "from l5kit.geometry import transform_points\n",
    "from l5kit.visualization import PREDICTED_POINTS_COLOR, TARGET_POINTS_COLOR, draw_trajectory\n",
    "from prettytable import PrettyTable\n",
    "from pathlib import Path\n",
    "\n",
    "import matplotlib.pyplot as plt\n",
    "\n",
    "import os\n",
    "import random\n",
    "import time\n",
    "\n",
    "import warnings\n",
    "warnings.filterwarnings(\"ignore\")"
   ]
  },
  {
   "cell_type": "code",
   "execution_count": null,
   "metadata": {},
   "outputs": [],
   "source": [
    "import sys\n",
    "import timm"
   ]
  },
  {
   "cell_type": "code",
   "execution_count": null,
   "metadata": {
    "_cell_guid": "2914b43f-bc21-4f64-a65e-8c29a58c8b5c",
    "_uuid": "57dc5124-0802-4351-8b34-61bcf5781094",
    "jupyter": {
     "outputs_hidden": false
    }
   },
   "outputs": [],
   "source": [
    "l5kit.__version__"
   ]
  },
  {
   "cell_type": "code",
   "execution_count": null,
   "metadata": {},
   "outputs": [],
   "source": [
    "import torch\n",
    "x1 = torch.ones((264,2)) #1-> batch\n",
    "x2 = torch.zeros((100,2)) #2-> batch\n",
    "l1 = [x1,x2]\n",
    "l1_shapes = [x1.shape[0], x2.shape[0]]\n",
    "nbrs_batch = torch.nn.utils.rnn.pad_sequence(tuple(l1), batch_first=True)\n",
    "\n",
    "bleh_unpacked1 = torch.nn.utils.rnn.pad_sequence(tuple(l1), batch_first=True)\n",
    "\n",
    "print(nbrs_batch.shape)\n",
    "bleh1 = torch.nn.utils.rnn.pack_padded_sequence(nbrs_batch, l1_shapes, batch_first=True)"
   ]
  },
  {
   "cell_type": "code",
   "execution_count": null,
   "metadata": {},
   "outputs": [],
   "source": [
    "x1 = torch.ones((264,2)) #1-> batch\n",
    "x2 = torch.zeros((300,2)) #2-> batch\n",
    "l1 = [x1,x2]\n",
    "l1_shapes = [x1.shape[0], x2.shape[0]]\n",
    "nbrs_batch = torch.nn.utils.rnn.pad_sequence(tuple(l1), batch_first=True)\n",
    "bleh_unpacked2 = torch.nn.utils.rnn.pad_sequence(tuple(l1), batch_first=True)\n",
    "print(nbrs_batch.shape)\n",
    "bleh2 = torch.nn.utils.rnn.pack_padded_sequence(nbrs_batch, l1_shapes, batch_first=True, enforce_sorted=False)"
   ]
  },
  {
   "cell_type": "code",
   "execution_count": 23,
   "metadata": {},
   "outputs": [
    {
     "ename": "RuntimeError",
     "evalue": "The expanded size of the tensor (264) must match the existing size (300) at non-singleton dimension 1.  Target sizes: [2, 264, 2].  Tensor sizes: [2, 300, 2]",
     "output_type": "error",
     "traceback": [
      "\u001b[0;31m---------------------------------------------------------------------------\u001b[0m",
      "\u001b[0;31mRuntimeError\u001b[0m                              Traceback (most recent call last)",
      "\u001b[0;32m<ipython-input-23-020a4f7a9bc1>\u001b[0m in \u001b[0;36m<module>\u001b[0;34m\u001b[0m\n\u001b[0;32m----> 1\u001b[0;31m \u001b[0mtorch\u001b[0m\u001b[0;34m.\u001b[0m\u001b[0mnn\u001b[0m\u001b[0;34m.\u001b[0m\u001b[0mutils\u001b[0m\u001b[0;34m.\u001b[0m\u001b[0mrnn\u001b[0m\u001b[0;34m.\u001b[0m\u001b[0mpack_sequence\u001b[0m\u001b[0;34m(\u001b[0m\u001b[0;34m[\u001b[0m\u001b[0mbleh_unpacked1\u001b[0m\u001b[0;34m,\u001b[0m \u001b[0mbleh_unpacked2\u001b[0m\u001b[0;34m]\u001b[0m\u001b[0;34m)\u001b[0m\u001b[0;34m\u001b[0m\u001b[0;34m\u001b[0m\u001b[0m\n\u001b[0m",
      "\u001b[0;32m~/anaconda3/envs/pytorch_latest_p37/lib/python3.7/site-packages/torch/nn/utils/rnn.py\u001b[0m in \u001b[0;36mpack_sequence\u001b[0;34m(sequences, enforce_sorted)\u001b[0m\n\u001b[1;32m    409\u001b[0m     \"\"\"\n\u001b[1;32m    410\u001b[0m     \u001b[0mlengths\u001b[0m \u001b[0;34m=\u001b[0m \u001b[0mtorch\u001b[0m\u001b[0;34m.\u001b[0m\u001b[0mas_tensor\u001b[0m\u001b[0;34m(\u001b[0m\u001b[0;34m[\u001b[0m\u001b[0mv\u001b[0m\u001b[0;34m.\u001b[0m\u001b[0msize\u001b[0m\u001b[0;34m(\u001b[0m\u001b[0;36m0\u001b[0m\u001b[0;34m)\u001b[0m \u001b[0;32mfor\u001b[0m \u001b[0mv\u001b[0m \u001b[0;32min\u001b[0m \u001b[0msequences\u001b[0m\u001b[0;34m]\u001b[0m\u001b[0;34m)\u001b[0m\u001b[0;34m\u001b[0m\u001b[0;34m\u001b[0m\u001b[0m\n\u001b[0;32m--> 411\u001b[0;31m     \u001b[0;32mreturn\u001b[0m \u001b[0mpack_padded_sequence\u001b[0m\u001b[0;34m(\u001b[0m\u001b[0mpad_sequence\u001b[0m\u001b[0;34m(\u001b[0m\u001b[0msequences\u001b[0m\u001b[0;34m)\u001b[0m\u001b[0;34m,\u001b[0m \u001b[0mlengths\u001b[0m\u001b[0;34m,\u001b[0m \u001b[0menforce_sorted\u001b[0m\u001b[0;34m=\u001b[0m\u001b[0menforce_sorted\u001b[0m\u001b[0;34m)\u001b[0m\u001b[0;34m\u001b[0m\u001b[0;34m\u001b[0m\u001b[0m\n\u001b[0m",
      "\u001b[0;32m~/anaconda3/envs/pytorch_latest_p37/lib/python3.7/site-packages/torch/nn/utils/rnn.py\u001b[0m in \u001b[0;36mpad_sequence\u001b[0;34m(sequences, batch_first, padding_value)\u001b[0m\n\u001b[1;32m    372\u001b[0m             \u001b[0mout_tensor\u001b[0m\u001b[0;34m[\u001b[0m\u001b[0mi\u001b[0m\u001b[0;34m,\u001b[0m \u001b[0;34m:\u001b[0m\u001b[0mlength\u001b[0m\u001b[0;34m,\u001b[0m \u001b[0;34m...\u001b[0m\u001b[0;34m]\u001b[0m \u001b[0;34m=\u001b[0m \u001b[0mtensor\u001b[0m\u001b[0;34m\u001b[0m\u001b[0;34m\u001b[0m\u001b[0m\n\u001b[1;32m    373\u001b[0m         \u001b[0;32melse\u001b[0m\u001b[0;34m:\u001b[0m\u001b[0;34m\u001b[0m\u001b[0;34m\u001b[0m\u001b[0m\n\u001b[0;32m--> 374\u001b[0;31m             \u001b[0mout_tensor\u001b[0m\u001b[0;34m[\u001b[0m\u001b[0;34m:\u001b[0m\u001b[0mlength\u001b[0m\u001b[0;34m,\u001b[0m \u001b[0mi\u001b[0m\u001b[0;34m,\u001b[0m \u001b[0;34m...\u001b[0m\u001b[0;34m]\u001b[0m \u001b[0;34m=\u001b[0m \u001b[0mtensor\u001b[0m\u001b[0;34m\u001b[0m\u001b[0;34m\u001b[0m\u001b[0m\n\u001b[0m\u001b[1;32m    375\u001b[0m \u001b[0;34m\u001b[0m\u001b[0m\n\u001b[1;32m    376\u001b[0m     \u001b[0;32mreturn\u001b[0m \u001b[0mout_tensor\u001b[0m\u001b[0;34m\u001b[0m\u001b[0;34m\u001b[0m\u001b[0m\n",
      "\u001b[0;31mRuntimeError\u001b[0m: The expanded size of the tensor (264) must match the existing size (300) at non-singleton dimension 1.  Target sizes: [2, 264, 2].  Tensor sizes: [2, 300, 2]"
     ]
    }
   ],
   "source": [
    "torch.nn.utils.rnn.pack_sequence([bleh_unpacked1, bleh_unpacked2])"
   ]
  },
  {
   "cell_type": "code",
   "execution_count": 3,
   "metadata": {},
   "outputs": [
    {
     "data": {
      "text/plain": [
       "torch.Size([364])"
      ]
     },
     "execution_count": 3,
     "metadata": {},
     "output_type": "execute_result"
    }
   ],
   "source": [
    "bleh[0][:, 0].shape"
   ]
  },
  {
   "cell_type": "code",
   "execution_count": 6,
   "metadata": {
    "_cell_guid": "46540e4a-7aed-4f9a-86df-4b344a51af5d",
    "_uuid": "82c9404f-4c3a-43cf-90ba-55760b90623d",
    "jupyter": {
     "outputs_hidden": false
    }
   },
   "outputs": [],
   "source": [
    "def set_seed(seed):\n",
    "    random.seed(seed)\n",
    "    np.random.seed(seed)\n",
    "    os.environ[\"PYTHONHASHSEED\"] = str(seed)\n",
    "    torch.manual_seed(seed)\n",
    "    torch.cuda.manual_seed(seed)\n",
    "    \n",
    "set_seed(42)"
   ]
  },
  {
   "cell_type": "markdown",
   "metadata": {
    "_cell_guid": "c1219407-278d-41b6-8d59-303634611cc0",
    "_uuid": "5736a42f-c677-4670-b8ba-3e0e001f8305"
   },
   "source": [
    "## Configs"
   ]
  },
  {
   "cell_type": "code",
   "execution_count": 7,
   "metadata": {
    "_cell_guid": "8f1f25fa-94e9-4e57-bc52-cde360ba183c",
    "_uuid": "709967c2-d9d6-44eb-8f94-d81e4d91a905",
    "jupyter": {
     "outputs_hidden": false
    }
   },
   "outputs": [],
   "source": [
    "# --- Lyft configs ---\n",
    "cfg = {\n",
    "    'format_version': 4,\n",
    "    'data_path': \"lyft_dataset\",\n",
    "    'model_params': {\n",
    "        'model_architecture': 'resnet34',\n",
    "        'history_num_frames': 10,\n",
    "        'history_step_size': 1,\n",
    "        'history_delta_time': 0.1,\n",
    "        'future_num_frames': 50,\n",
    "        'future_step_size': 1,\n",
    "        'future_delta_time': 0.1,\n",
    "        'model_name': \"model_resnet34_output\",\n",
    "        'lr': 1e-3,\n",
    "        'train': False,\n",
    "        'predict': True\n",
    "    },\n",
    "\n",
    "    'raster_params': {\n",
    "        'raster_size': [224, 224],\n",
    "        'pixel_size': [0.5, 0.5],\n",
    "        'ego_center': [0.25, 0.5],\n",
    "        'map_type': 'py_semantic',\n",
    "        'satellite_map_key': 'aerial_map/aerial_map.png',\n",
    "        'semantic_map_key': 'semantic_map/semantic_map.pb',\n",
    "        'dataset_meta_key': 'meta.json',\n",
    "        'filter_agents_threshold': 0.5\n",
    "    },\n",
    "\n",
    "    'train_data_loader': {\n",
    "        'key': 'scenes/train.zarr',\n",
    "        'batch_size': 16,\n",
    "        'shuffle': True,\n",
    "        'num_workers': 4\n",
    "    },\n",
    "    \n",
    "    'test_data_loader': {\n",
    "        'key': 'scenes/test.zarr',\n",
    "        'batch_size': 32,\n",
    "        'shuffle': False,\n",
    "        'num_workers': 4\n",
    "    },\n",
    "\n",
    "    'train_params': {\n",
    "        'max_num_steps': 101,\n",
    "        'checkpoint_every_n_steps': 20,\n",
    "    }\n",
    "}"
   ]
  },
  {
   "cell_type": "markdown",
   "metadata": {
    "_cell_guid": "47937fff-6ae9-4b70-862a-ebe66487d5cc",
    "_uuid": "cf25b5e9-2730-4bbd-b9b9-5adae53a3edd"
   },
   "source": [
    "Couple of things to note:\n",
    "\n",
    " - **model_architecture:** you can put 'resnet18', 'resnet34' or 'resnet50'. For the pretrained model we use resnet18 so we need to use 'resnet18' in the config.\n",
    " - **weight_path:** path to the pretrained model. If you don't have a pretrained model and want to train from scratch, put **weight_path** = False. \n",
    " - **model_name:** the name of the model that will be saved as output, this is only when **train**= True.\n",
    " - **train:** True if you want to continue to train the model. Unfortunately due to Kaggle memory constraint if **train**=True then you should put **predict** = False.\n",
    " - **predict:** True if you want to predict and submit to Kaggle. Unfortunately due to Kaggle memory constraint if you want to predict then you need  to put **train** = False.\n",
    " - **lr:** learning rate of the model, feel free to change as you see fit. In the future I also plan to implement learning rate decay. \n",
    " - **raster_size:** specify the size of the image, the default is [224,224]. Increase **raster_size** can improve the score. However the training time will be significantly longer. \n",
    " - **batch_size:** number of inputs for one forward pass, again one of the parameters to tune. \n",
    " - **max_num_steps:** the number of iterations to train, i.e. number of epochs.\n",
    " - **checkpoint_every_n_steps:** the model will be saved at every n steps, again change this number as to how you want to keep track of the model."
   ]
  },
  {
   "cell_type": "markdown",
   "metadata": {
    "_cell_guid": "4b11e0f8-7e38-464b-ab1f-a131b22dff02",
    "_uuid": "8dac7b00-95c2-4b2d-9f73-c9838bdb3906"
   },
   "source": [
    "## Load the train and test data"
   ]
  },
  {
   "cell_type": "code",
   "execution_count": 8,
   "metadata": {
    "_cell_guid": "9a913a37-b1a4-4c61-8478-3f48996cee24",
    "_uuid": "6c2a2142-5e34-444a-852d-81ca55361abf",
    "jupyter": {
     "outputs_hidden": false
    }
   },
   "outputs": [],
   "source": [
    "# set env variable for data\n",
    "DIR_INPUT = cfg[\"data_path\"]\n",
    "os.environ[\"L5KIT_DATA_FOLDER\"] = DIR_INPUT\n",
    "dm = LocalDataManager(None)"
   ]
  },
  {
   "cell_type": "code",
   "execution_count": 9,
   "metadata": {
    "_cell_guid": "453fb482-45ac-4c3f-8d82-4561bf914f83",
    "_uuid": "e395d2c9-d06f-4540-be4e-5a3bc96e3445",
    "jupyter": {
     "outputs_hidden": false
    }
   },
   "outputs": [
    {
     "name": "stdout",
     "output_type": "stream",
     "text": [
      "==================================TRAIN DATA==================================\n",
      "+------------+------------+------------+---------------+-----------------+----------------------+----------------------+----------------------+---------------------+\n",
      "| Num Scenes | Num Frames | Num Agents | Num TR lights | Total Time (hr) | Avg Frames per Scene | Avg Agents per Frame | Avg Scene Time (sec) | Avg Frame frequency |\n",
      "+------------+------------+------------+---------------+-----------------+----------------------+----------------------+----------------------+---------------------+\n",
      "|   16265    |  4039527   | 320124624  |    38735988   |      112.19     |        248.36        |        79.25         |        24.83         |        10.00        |\n",
      "+------------+------------+------------+---------------+-----------------+----------------------+----------------------+----------------------+---------------------+\n"
     ]
    }
   ],
   "source": [
    "# ===== INIT TRAIN DATASET============================================================\n",
    "train_cfg = cfg[\"train_data_loader\"]\n",
    "rasterizer = build_rasterizer(cfg, dm)\n",
    "train_zarr = ChunkedDataset(dm.require(train_cfg[\"key\"])).open()\n",
    "\n",
    "#create mask \n",
    "\n",
    "\n",
    "train_dataset = AgentDataset(cfg, train_zarr, rasterizer)\n",
    "train_dataloader = DataLoader(train_dataset, shuffle=train_cfg[\"shuffle\"], batch_size=train_cfg[\"batch_size\"], \n",
    "                             num_workers=train_cfg[\"num_workers\"])\n",
    "print(\"==================================TRAIN DATA==================================\")\n",
    "print(train_dataset)"
   ]
  },
  {
   "cell_type": "code",
   "execution_count": 10,
   "metadata": {},
   "outputs": [],
   "source": [
    "# ===== INIT TRAIN DATASET============================================================\n",
    "train_cfg = cfg[\"train_data_loader\"]\n",
    "rasterizer = build_rasterizer(cfg, dm)\n",
    "train_zarr = ChunkedDataset(dm.require(train_cfg[\"key\"])).open()\n",
    "\n",
    "#create mask \n",
    "\n",
    "\n",
    "train_dataset_ego = EgoDataset(cfg, train_zarr, rasterizer)\n"
   ]
  },
  {
   "cell_type": "code",
   "execution_count": 43,
   "metadata": {},
   "outputs": [
    {
     "ename": "ValueError",
     "evalue": "The truth value of an array with more than one element is ambiguous. Use a.any() or a.all()",
     "output_type": "error",
     "traceback": [
      "\u001b[0;31m---------------------------------------------------------------------------\u001b[0m",
      "\u001b[0;31mValueError\u001b[0m                                Traceback (most recent call last)",
      "\u001b[0;32m<ipython-input-43-d81bc8fcc610>\u001b[0m in \u001b[0;36m<module>\u001b[0;34m\u001b[0m\n\u001b[0;32m----> 1\u001b[0;31m \u001b[0mtrain_dataset\u001b[0m\u001b[0;34m[\u001b[0m\u001b[0mnp\u001b[0m\u001b[0;34m.\u001b[0m\u001b[0marray\u001b[0m\u001b[0;34m(\u001b[0m\u001b[0;34m[\u001b[0m\u001b[0;36m0\u001b[0m\u001b[0;34m,\u001b[0m\u001b[0;36m1\u001b[0m\u001b[0;34m,\u001b[0m\u001b[0;36m2\u001b[0m\u001b[0;34m,\u001b[0m\u001b[0;36m3\u001b[0m\u001b[0;34m]\u001b[0m\u001b[0;34m)\u001b[0m\u001b[0;34m]\u001b[0m\u001b[0;34m\u001b[0m\u001b[0;34m\u001b[0m\u001b[0m\n\u001b[0m",
      "\u001b[0;32m~/anaconda3/envs/pytorch_latest_p37/lib/python3.7/site-packages/l5kit/dataset/agent.py\u001b[0m in \u001b[0;36m__getitem__\u001b[0;34m(self, index)\u001b[0m\n\u001b[1;32m     99\u001b[0m         \u001b[0mDiffers\u001b[0m \u001b[0;32mfrom\u001b[0m \u001b[0mparent\u001b[0m \u001b[0mby\u001b[0m \u001b[0miterating\u001b[0m \u001b[0mon\u001b[0m \u001b[0magents\u001b[0m \u001b[0;32mand\u001b[0m \u001b[0;32mnot\u001b[0m \u001b[0mAV\u001b[0m\u001b[0;34m.\u001b[0m\u001b[0;34m\u001b[0m\u001b[0;34m\u001b[0m\u001b[0m\n\u001b[1;32m    100\u001b[0m         \"\"\"\n\u001b[0;32m--> 101\u001b[0;31m         \u001b[0;32mif\u001b[0m \u001b[0mindex\u001b[0m \u001b[0;34m<\u001b[0m \u001b[0;36m0\u001b[0m\u001b[0;34m:\u001b[0m\u001b[0;34m\u001b[0m\u001b[0;34m\u001b[0m\u001b[0m\n\u001b[0m\u001b[1;32m    102\u001b[0m             \u001b[0;32mif\u001b[0m \u001b[0;34m-\u001b[0m\u001b[0mindex\u001b[0m \u001b[0;34m>\u001b[0m \u001b[0mlen\u001b[0m\u001b[0;34m(\u001b[0m\u001b[0mself\u001b[0m\u001b[0;34m)\u001b[0m\u001b[0;34m:\u001b[0m\u001b[0;34m\u001b[0m\u001b[0;34m\u001b[0m\u001b[0m\n\u001b[1;32m    103\u001b[0m                 \u001b[0;32mraise\u001b[0m \u001b[0mValueError\u001b[0m\u001b[0;34m(\u001b[0m\u001b[0;34m\"absolute value of index should not exceed dataset length\"\u001b[0m\u001b[0;34m)\u001b[0m\u001b[0;34m\u001b[0m\u001b[0;34m\u001b[0m\u001b[0m\n",
      "\u001b[0;31mValueError\u001b[0m: The truth value of an array with more than one element is ambiguous. Use a.any() or a.all()"
     ]
    }
   ],
   "source": [
    "train_dataset[np.array([0,1,2,3])]"
   ]
  },
  {
   "cell_type": "code",
   "execution_count": 48,
   "metadata": {},
   "outputs": [
    {
     "name": "stdout",
     "output_type": "stream",
     "text": [
      "0.030867576599121094\n"
     ]
    }
   ],
   "source": [
    "import time\n",
    "st = time.time()\n",
    "p = train_dataset[0][\"history_positions\"]\n",
    "et = time.time()\n",
    "print(et-st)"
   ]
  },
  {
   "cell_type": "code",
   "execution_count": null,
   "metadata": {},
   "outputs": [],
   "source": []
  },
  {
   "cell_type": "code",
   "execution_count": 41,
   "metadata": {},
   "outputs": [
    {
     "ename": "TypeError",
     "evalue": "'<' not supported between instances of 'list' and 'int'",
     "output_type": "error",
     "traceback": [
      "\u001b[0;31m---------------------------------------------------------------------------\u001b[0m",
      "\u001b[0;31mTypeError\u001b[0m                                 Traceback (most recent call last)",
      "\u001b[0;32m<ipython-input-41-56bac5d7cdd7>\u001b[0m in \u001b[0;36m<module>\u001b[0;34m\u001b[0m\n\u001b[0;32m----> 1\u001b[0;31m \u001b[0mtrain_dataset\u001b[0m\u001b[0;34m.\u001b[0m\u001b[0mget_scene_indices\u001b[0m\u001b[0;34m(\u001b[0m\u001b[0;34m[\u001b[0m\u001b[0;36m0\u001b[0m\u001b[0;34m,\u001b[0m \u001b[0;36m1\u001b[0m\u001b[0;34m,\u001b[0m \u001b[0;36m2\u001b[0m\u001b[0;34m]\u001b[0m\u001b[0;34m)\u001b[0m\u001b[0;34m\u001b[0m\u001b[0;34m\u001b[0m\u001b[0m\n\u001b[0m",
      "\u001b[0;32m~/anaconda3/envs/pytorch_latest_p37/lib/python3.7/site-packages/l5kit/dataset/agent.py\u001b[0m in \u001b[0;36mget_scene_indices\u001b[0;34m(self, scene_idx)\u001b[0m\n\u001b[1;32m    145\u001b[0m         \"\"\"\n\u001b[1;32m    146\u001b[0m         \u001b[0mscenes\u001b[0m \u001b[0;34m=\u001b[0m \u001b[0mself\u001b[0m\u001b[0;34m.\u001b[0m\u001b[0mdataset\u001b[0m\u001b[0;34m.\u001b[0m\u001b[0mscenes\u001b[0m\u001b[0;34m\u001b[0m\u001b[0;34m\u001b[0m\u001b[0m\n\u001b[0;32m--> 147\u001b[0;31m         \u001b[0;32massert\u001b[0m \u001b[0mscene_idx\u001b[0m \u001b[0;34m<\u001b[0m \u001b[0mlen\u001b[0m\u001b[0;34m(\u001b[0m\u001b[0mscenes\u001b[0m\u001b[0;34m)\u001b[0m\u001b[0;34m,\u001b[0m \u001b[0;34mf\"scene_idx {scene_idx} is over len {len(scenes)}\"\u001b[0m\u001b[0;34m\u001b[0m\u001b[0;34m\u001b[0m\u001b[0m\n\u001b[0m\u001b[1;32m    148\u001b[0m         \u001b[0mframe_slice\u001b[0m \u001b[0;34m=\u001b[0m \u001b[0mget_frames_slice_from_scenes\u001b[0m\u001b[0;34m(\u001b[0m\u001b[0mscenes\u001b[0m\u001b[0;34m[\u001b[0m\u001b[0mscene_idx\u001b[0m\u001b[0;34m]\u001b[0m\u001b[0;34m)\u001b[0m\u001b[0;34m\u001b[0m\u001b[0;34m\u001b[0m\u001b[0m\n\u001b[1;32m    149\u001b[0m         \u001b[0magent_slice\u001b[0m \u001b[0;34m=\u001b[0m \u001b[0mget_agents_slice_from_frames\u001b[0m\u001b[0;34m(\u001b[0m\u001b[0;34m*\u001b[0m\u001b[0mself\u001b[0m\u001b[0;34m.\u001b[0m\u001b[0mdataset\u001b[0m\u001b[0;34m.\u001b[0m\u001b[0mframes\u001b[0m\u001b[0;34m[\u001b[0m\u001b[0mframe_slice\u001b[0m\u001b[0;34m]\u001b[0m\u001b[0;34m[\u001b[0m\u001b[0;34m[\u001b[0m\u001b[0;36m0\u001b[0m\u001b[0;34m,\u001b[0m \u001b[0;34m-\u001b[0m\u001b[0;36m1\u001b[0m\u001b[0;34m]\u001b[0m\u001b[0;34m]\u001b[0m\u001b[0;34m)\u001b[0m\u001b[0;34m\u001b[0m\u001b[0;34m\u001b[0m\u001b[0m\n",
      "\u001b[0;31mTypeError\u001b[0m: '<' not supported between instances of 'list' and 'int'"
     ]
    }
   ],
   "source": [
    "train_dataset.get_scene_indices()"
   ]
  },
  {
   "cell_type": "code",
   "execution_count": 11,
   "metadata": {},
   "outputs": [],
   "source": [
    "x = next(iter(train_dataset))"
   ]
  },
  {
   "cell_type": "code",
   "execution_count": 12,
   "metadata": {},
   "outputs": [
    {
     "data": {
      "image/png": "[encoded data removed]",
      "text/plain": [
       "<Figure size 432x288 with 1 Axes>"
      ]
     },
     "metadata": {
      "needs_background": "light"
     },
     "output_type": "display_data"
    }
   ],
   "source": [
    "agent_idxs = range(0, len(train_dataset))\n",
    "data = train_dataset[0]\n",
    "img = data[\"image\"]  # BEV input\n",
    "translations = data[\"target_positions\"]  # future translations for the agent\n",
    "plt.imshow(img.transpose(1,2,0)[:,:,22:25])\n",
    "plt.show()\n",
    "#     print(\"Translations {}\".format(translations))"
   ]
  },
  {
   "cell_type": "code",
   "execution_count": 13,
   "metadata": {},
   "outputs": [],
   "source": [
    "frame_idx = 0\n",
    "agent_indices = train_dataset.get_frame_indices(frame_idx)  # this function is slow, but there is a branch with an improved version\n",
    "agents = [train_dataset[idx] for idx in agent_indices]\n",
    "ego_info = train_dataset_ego[frame_idx]  # this is the ego for those agents"
   ]
  },
  {
   "cell_type": "code",
   "execution_count": 14,
   "metadata": {
    "scrolled": true
   },
   "outputs": [
    {
     "data": {
      "text/plain": [
       "array([ 0,  1,  2,  3,  4,  5,  6,  7,  8,  9, 10, 11, 12, 13, 14, 15, 16,\n",
       "       17, 18, 19, 20, 21, 22, 23, 24, 25, 26, 27, 28, 29, 30, 31, 32, 33,\n",
       "       34])"
      ]
     },
     "execution_count": 14,
     "metadata": {},
     "output_type": "execute_result"
    }
   ],
   "source": [
    "train_dataset.get_scene_indices(0) #agent dataset"
   ]
  },
  {
   "cell_type": "code",
   "execution_count": 15,
   "metadata": {},
   "outputs": [
    {
     "name": "stdout",
     "output_type": "stream",
     "text": [
      "Agent len 22496709\n",
      "Ego len 4039527\n",
      "Ratio 5.569144357742874\n"
     ]
    }
   ],
   "source": [
    "agent_len = len(train_dataset)\n",
    "ego_len = len(train_dataset_ego)\n",
    "\n",
    "print(\"Agent len {}\".format(agent_len))\n",
    "print(\"Ego len {}\".format(ego_len))\n",
    "print(\"Ratio {}\".format(agent_len/ego_len))"
   ]
  },
  {
   "cell_type": "markdown",
   "metadata": {},
   "source": [
    "## Testing Dataloader"
   ]
  },
  {
   "cell_type": "code",
   "execution_count": 16,
   "metadata": {},
   "outputs": [],
   "source": [
    "x = next(iter(train_dataloader))"
   ]
  },
  {
   "cell_type": "code",
   "execution_count": 17,
   "metadata": {},
   "outputs": [
    {
     "data": {
      "text/plain": [
       "dict_keys(['image', 'target_positions', 'target_yaws', 'target_availabilities', 'history_positions', 'history_yaws', 'history_availabilities', 'world_to_image', 'raster_from_world', 'raster_from_agent', 'agent_from_world', 'world_from_agent', 'track_id', 'timestamp', 'centroid', 'yaw', 'extent'])"
      ]
     },
     "execution_count": 17,
     "metadata": {},
     "output_type": "execute_result"
    }
   ],
   "source": [
    "x.keys()"
   ]
  },
  {
   "cell_type": "code",
   "execution_count": 18,
   "metadata": {},
   "outputs": [
    {
     "data": {
      "text/plain": [
       "tensor([   1,    2,  424,    6, 1367,  771,   69,    3,   13,  254,    2,  639,\n",
       "          60,  332,    7,    3])"
      ]
     },
     "execution_count": 18,
     "metadata": {},
     "output_type": "execute_result"
    }
   ],
   "source": [
    "x[\"track_id\"]"
   ]
  },
  {
   "cell_type": "code",
   "execution_count": 29,
   "metadata": {},
   "outputs": [],
   "source": [
    "import bisect, yaml\n",
    "import zarr"
   ]
  },
  {
   "cell_type": "code",
   "execution_count": 32,
   "metadata": {},
   "outputs": [],
   "source": [
    "z = zarr.open('lyft-motion-prediction-autonomous-vehicles/scenes/test.zarr')"
   ]
  },
  {
   "cell_type": "code",
   "execution_count": 31,
   "metadata": {},
   "outputs": [
    {
     "ename": "AttributeError",
     "evalue": "",
     "output_type": "error",
     "traceback": [
      "\u001b[0;31m---------------------------------------------------------------------------\u001b[0m",
      "\u001b[0;31mKeyError\u001b[0m                                  Traceback (most recent call last)",
      "\u001b[0;32m~/anaconda3/envs/pytorch_latest_p37/lib/python3.7/site-packages/zarr/hierarchy.py\u001b[0m in \u001b[0;36m__getattr__\u001b[0;34m(self, item)\u001b[0m\n\u001b[1;32m    367\u001b[0m         \u001b[0;32mtry\u001b[0m\u001b[0;34m:\u001b[0m\u001b[0;34m\u001b[0m\u001b[0;34m\u001b[0m\u001b[0m\n\u001b[0;32m--> 368\u001b[0;31m             \u001b[0;32mreturn\u001b[0m \u001b[0mself\u001b[0m\u001b[0;34m.\u001b[0m\u001b[0m__getitem__\u001b[0m\u001b[0;34m(\u001b[0m\u001b[0mitem\u001b[0m\u001b[0;34m)\u001b[0m\u001b[0;34m\u001b[0m\u001b[0;34m\u001b[0m\u001b[0m\n\u001b[0m\u001b[1;32m    369\u001b[0m         \u001b[0;32mexcept\u001b[0m \u001b[0mKeyError\u001b[0m\u001b[0;34m:\u001b[0m\u001b[0;34m\u001b[0m\u001b[0;34m\u001b[0m\u001b[0m\n",
      "\u001b[0;32m~/anaconda3/envs/pytorch_latest_p37/lib/python3.7/site-packages/zarr/hierarchy.py\u001b[0m in \u001b[0;36m__getitem__\u001b[0;34m(self, item)\u001b[0m\n\u001b[1;32m    348\u001b[0m         \u001b[0;32melse\u001b[0m\u001b[0;34m:\u001b[0m\u001b[0;34m\u001b[0m\u001b[0;34m\u001b[0m\u001b[0m\n\u001b[0;32m--> 349\u001b[0;31m             \u001b[0;32mraise\u001b[0m \u001b[0mKeyError\u001b[0m\u001b[0;34m(\u001b[0m\u001b[0mitem\u001b[0m\u001b[0;34m)\u001b[0m\u001b[0;34m\u001b[0m\u001b[0;34m\u001b[0m\u001b[0m\n\u001b[0m\u001b[1;32m    350\u001b[0m \u001b[0;34m\u001b[0m\u001b[0m\n",
      "\u001b[0;31mKeyError\u001b[0m: 'frames'",
      "\nDuring handling of the above exception, another exception occurred:\n",
      "\u001b[0;31mAttributeError\u001b[0m                            Traceback (most recent call last)",
      "\u001b[0;32m<ipython-input-31-3f9275126f49>\u001b[0m in \u001b[0;36m<module>\u001b[0;34m\u001b[0m\n\u001b[1;32m      1\u001b[0m \u001b[0mz\u001b[0m \u001b[0;34m=\u001b[0m \u001b[0mzarr\u001b[0m\u001b[0;34m.\u001b[0m\u001b[0mopen\u001b[0m\u001b[0;34m(\u001b[0m\u001b[0;34m'lyft-motion-prediction-autonomous-vehicles/scenes/test.zarr'\u001b[0m\u001b[0;34m)\u001b[0m\u001b[0;34m\u001b[0m\u001b[0;34m\u001b[0m\u001b[0m\n\u001b[0;32m----> 2\u001b[0;31m \u001b[0magents_ij\u001b[0m \u001b[0;34m=\u001b[0m \u001b[0mz\u001b[0m\u001b[0;34m.\u001b[0m\u001b[0mframes\u001b[0m\u001b[0;34m[\u001b[0m\u001b[0;34m\"agent_index_interval\"\u001b[0m\u001b[0;34m]\u001b[0m\u001b[0;34m\u001b[0m\u001b[0;34m\u001b[0m\u001b[0m\n\u001b[0m\u001b[1;32m      3\u001b[0m \u001b[0;34m\u001b[0m\u001b[0m\n\u001b[1;32m      4\u001b[0m \u001b[0;32mdef\u001b[0m \u001b[0mget_scene\u001b[0m\u001b[0;34m(\u001b[0m\u001b[0magent_id\u001b[0m\u001b[0;34m)\u001b[0m\u001b[0;34m:\u001b[0m\u001b[0;34m\u001b[0m\u001b[0;34m\u001b[0m\u001b[0m\n\u001b[1;32m      5\u001b[0m     \u001b[0mframe_id\u001b[0m \u001b[0;34m=\u001b[0m \u001b[0mbisect\u001b[0m\u001b[0;34m.\u001b[0m\u001b[0mbisect_right\u001b[0m\u001b[0;34m(\u001b[0m\u001b[0magents_ij\u001b[0m\u001b[0;34m[\u001b[0m\u001b[0;34m:\u001b[0m\u001b[0;34m,\u001b[0m \u001b[0;36m0\u001b[0m\u001b[0;34m]\u001b[0m\u001b[0;34m,\u001b[0m \u001b[0magent_id\u001b[0m\u001b[0;34m)\u001b[0m\u001b[0;34m-\u001b[0m\u001b[0;36m1\u001b[0m\u001b[0;34m\u001b[0m\u001b[0;34m\u001b[0m\u001b[0m\n",
      "\u001b[0;32m~/anaconda3/envs/pytorch_latest_p37/lib/python3.7/site-packages/zarr/hierarchy.py\u001b[0m in \u001b[0;36m__getattr__\u001b[0;34m(self, item)\u001b[0m\n\u001b[1;32m    368\u001b[0m             \u001b[0;32mreturn\u001b[0m \u001b[0mself\u001b[0m\u001b[0;34m.\u001b[0m\u001b[0m__getitem__\u001b[0m\u001b[0;34m(\u001b[0m\u001b[0mitem\u001b[0m\u001b[0;34m)\u001b[0m\u001b[0;34m\u001b[0m\u001b[0;34m\u001b[0m\u001b[0m\n\u001b[1;32m    369\u001b[0m         \u001b[0;32mexcept\u001b[0m \u001b[0mKeyError\u001b[0m\u001b[0;34m:\u001b[0m\u001b[0;34m\u001b[0m\u001b[0;34m\u001b[0m\u001b[0m\n\u001b[0;32m--> 370\u001b[0;31m             \u001b[0;32mraise\u001b[0m \u001b[0mAttributeError\u001b[0m\u001b[0;34m\u001b[0m\u001b[0;34m\u001b[0m\u001b[0m\n\u001b[0m\u001b[1;32m    371\u001b[0m \u001b[0;34m\u001b[0m\u001b[0m\n\u001b[1;32m    372\u001b[0m     \u001b[0;32mdef\u001b[0m \u001b[0m__dir__\u001b[0m\u001b[0;34m(\u001b[0m\u001b[0mself\u001b[0m\u001b[0;34m)\u001b[0m\u001b[0;34m:\u001b[0m\u001b[0;34m\u001b[0m\u001b[0;34m\u001b[0m\u001b[0m\n",
      "\u001b[0;31mAttributeError\u001b[0m: "
     ]
    }
   ],
   "source": [
    "agents_ij = z.frames[\"agent_index_interval\"]\n",
    "\n",
    "def get_scene(agent_id):\n",
    "    frame_id = bisect.bisect_right(agents_ij[:, 0], agent_id)-1\n",
    "    scene_id = bisect.bisect_right(frames_ij[:, 0], frame_id)-1\n",
    "    \n",
    "#     print(scene_id,frame_id,agent_id)\n",
    "    \n",
    "    scene = z.scenes[scene_id]\n",
    "    frame = z.frames[frame_id]\n",
    "    agent = z.agents[agent_id]\n",
    "    return scene,(frame,frame_id+1),agent\n",
    "\n",
    "def get_agent_data(agent_id):\n",
    "    scene, (frame,frame_id), agent = get_scene(agent_id)\n",
    "    X, X_light, _, _, le = dt.read_frames(\n",
    "            scene=scene,\n",
    "            start=frame_id-HBACKWARD,\n",
    "            white_tracks=[agent[\"track_id\"]],\n",
    "            encoder=True\n",
    "    )\n",
    "    \n",
    "    X_track_id = np.array([agent[\"track_id\"]], dtype=np.int64)\n",
    "    X_track = np.array([le.labels[agent[\"track_id\"]]], dtype=np.int64)\n",
    "    X_timestamp = np.array([frame[\"timestamp\"]], dtype=np.int64)\n",
    "    return X, X_light, X_track, X_track_id, X_timestamp"
   ]
  },
  {
   "cell_type": "code",
   "execution_count": 26,
   "metadata": {},
   "outputs": [
    {
     "ename": "NameError",
     "evalue": "name 'agents_ij' is not defined",
     "output_type": "error",
     "traceback": [
      "\u001b[0;31m---------------------------------------------------------------------------\u001b[0m",
      "\u001b[0;31mNameError\u001b[0m                                 Traceback (most recent call last)",
      "\u001b[0;32m<ipython-input-26-1938022e2358>\u001b[0m in \u001b[0;36m<module>\u001b[0;34m\u001b[0m\n\u001b[0;32m----> 1\u001b[0;31m \u001b[0mget_agent_data\u001b[0m\u001b[0;34m(\u001b[0m\u001b[0;36m1\u001b[0m\u001b[0;34m)\u001b[0m\u001b[0;34m\u001b[0m\u001b[0;34m\u001b[0m\u001b[0m\n\u001b[0m",
      "\u001b[0;32m<ipython-input-25-7f354d11e259>\u001b[0m in \u001b[0;36mget_agent_data\u001b[0;34m(agent_id)\u001b[0m\n\u001b[1;32m     11\u001b[0m \u001b[0;34m\u001b[0m\u001b[0m\n\u001b[1;32m     12\u001b[0m \u001b[0;32mdef\u001b[0m \u001b[0mget_agent_data\u001b[0m\u001b[0;34m(\u001b[0m\u001b[0magent_id\u001b[0m\u001b[0;34m)\u001b[0m\u001b[0;34m:\u001b[0m\u001b[0;34m\u001b[0m\u001b[0;34m\u001b[0m\u001b[0m\n\u001b[0;32m---> 13\u001b[0;31m     \u001b[0mscene\u001b[0m\u001b[0;34m,\u001b[0m \u001b[0;34m(\u001b[0m\u001b[0mframe\u001b[0m\u001b[0;34m,\u001b[0m\u001b[0mframe_id\u001b[0m\u001b[0;34m)\u001b[0m\u001b[0;34m,\u001b[0m \u001b[0magent\u001b[0m \u001b[0;34m=\u001b[0m \u001b[0mget_scene\u001b[0m\u001b[0;34m(\u001b[0m\u001b[0magent_id\u001b[0m\u001b[0;34m)\u001b[0m\u001b[0;34m\u001b[0m\u001b[0;34m\u001b[0m\u001b[0m\n\u001b[0m\u001b[1;32m     14\u001b[0m     X, X_light, _, _, le = dt.read_frames(\n\u001b[1;32m     15\u001b[0m             \u001b[0mscene\u001b[0m\u001b[0;34m=\u001b[0m\u001b[0mscene\u001b[0m\u001b[0;34m,\u001b[0m\u001b[0;34m\u001b[0m\u001b[0;34m\u001b[0m\u001b[0m\n",
      "\u001b[0;32m<ipython-input-25-7f354d11e259>\u001b[0m in \u001b[0;36mget_scene\u001b[0;34m(agent_id)\u001b[0m\n\u001b[1;32m      1\u001b[0m \u001b[0;32mdef\u001b[0m \u001b[0mget_scene\u001b[0m\u001b[0;34m(\u001b[0m\u001b[0magent_id\u001b[0m\u001b[0;34m)\u001b[0m\u001b[0;34m:\u001b[0m\u001b[0;34m\u001b[0m\u001b[0;34m\u001b[0m\u001b[0m\n\u001b[0;32m----> 2\u001b[0;31m     \u001b[0mframe_id\u001b[0m \u001b[0;34m=\u001b[0m \u001b[0mbisect\u001b[0m\u001b[0;34m.\u001b[0m\u001b[0mbisect_right\u001b[0m\u001b[0;34m(\u001b[0m\u001b[0magents_ij\u001b[0m\u001b[0;34m[\u001b[0m\u001b[0;34m:\u001b[0m\u001b[0;34m,\u001b[0m \u001b[0;36m0\u001b[0m\u001b[0;34m]\u001b[0m\u001b[0;34m,\u001b[0m \u001b[0magent_id\u001b[0m\u001b[0;34m)\u001b[0m\u001b[0;34m-\u001b[0m\u001b[0;36m1\u001b[0m\u001b[0;34m\u001b[0m\u001b[0;34m\u001b[0m\u001b[0m\n\u001b[0m\u001b[1;32m      3\u001b[0m     \u001b[0mscene_id\u001b[0m \u001b[0;34m=\u001b[0m \u001b[0mbisect\u001b[0m\u001b[0;34m.\u001b[0m\u001b[0mbisect_right\u001b[0m\u001b[0;34m(\u001b[0m\u001b[0mframes_ij\u001b[0m\u001b[0;34m[\u001b[0m\u001b[0;34m:\u001b[0m\u001b[0;34m,\u001b[0m \u001b[0;36m0\u001b[0m\u001b[0;34m]\u001b[0m\u001b[0;34m,\u001b[0m \u001b[0mframe_id\u001b[0m\u001b[0;34m)\u001b[0m\u001b[0;34m-\u001b[0m\u001b[0;36m1\u001b[0m\u001b[0;34m\u001b[0m\u001b[0;34m\u001b[0m\u001b[0m\n\u001b[1;32m      4\u001b[0m \u001b[0;34m\u001b[0m\u001b[0m\n\u001b[1;32m      5\u001b[0m \u001b[0;31m#     print(scene_id,frame_id,agent_id)\u001b[0m\u001b[0;34m\u001b[0m\u001b[0;34m\u001b[0m\u001b[0;34m\u001b[0m\u001b[0m\n",
      "\u001b[0;31mNameError\u001b[0m: name 'agents_ij' is not defined"
     ]
    }
   ],
   "source": [
    "get_agent_data(1)"
   ]
  },
  {
   "cell_type": "markdown",
   "metadata": {
    "_cell_guid": "b7226655-215d-43bf-9b25-dc23c323fb79",
    "_uuid": "e55011fc-bea6-43e2-aa67-82e29dd4a81e"
   },
   "source": [
    "## Simple visualization"
   ]
  },
  {
   "cell_type": "markdown",
   "metadata": {
    "_cell_guid": "9b2ba711-06ce-4b19-a9a0-fa2c3980ee60",
    "_uuid": "79dad700-6e31-4bf9-b5cb-dd249f7af18c"
   },
   "source": [
    "Let us visualize how an input to the model looks like."
   ]
  },
  {
   "cell_type": "code",
   "execution_count": 13,
   "metadata": {
    "_cell_guid": "d378c3cb-76fc-4798-8908-8d4da1ae4d91",
    "_uuid": "804f1302-710f-420a-be91-08224194f1da",
    "jupyter": {
     "outputs_hidden": false
    }
   },
   "outputs": [],
   "source": [
    "def visualize_trajectory(dataset, index, title=\"target_positions movement with draw_trajectory\"):\n",
    "    data = dataset[index]\n",
    "    im = data[\"image\"].transpose(1, 2, 0)\n",
    "    print(im.shape)\n",
    "    im = dataset.rasterizer.to_rgb(im)\n",
    "    target_positions_pixels = transform_points(data[\"target_positions\"] + data[\"centroid\"][:2], data[\"world_to_image\"])\n",
    "    draw_trajectory(im, target_positions_pixels, TARGET_POINTS_COLOR, radius=1, yaws=data[\"target_yaws\"])\n",
    "\n",
    "    plt.title(title)\n",
    "    plt.imshow(im[::-1])\n",
    "    plt.show()"
   ]
  },
  {
   "cell_type": "code",
   "execution_count": 14,
   "metadata": {
    "_cell_guid": "0cb4411b-80b5-43c4-8bc9-543388f3579a",
    "_uuid": "8776410d-e7ba-41aa-ad0e-8374de7992d9",
    "jupyter": {
     "outputs_hidden": false
    }
   },
   "outputs": [
    {
     "name": "stdout",
     "output_type": "stream",
     "text": [
      "(224, 224, 25)\n"
     ]
    },
    {
     "data": {
      "image/png": "[encoded data removed]",
      "text/plain": [
       "<Figure size 576x432 with 1 Axes>"
      ]
     },
     "metadata": {
      "needs_background": "light"
     },
     "output_type": "display_data"
    }
   ],
   "source": [
    "plt.figure(figsize = (8,6))\n",
    "visualize_trajectory(train_dataset, index=90)"
   ]
  }
 ],
 "metadata": {
  "kernelspec": {
   "display_name": "Python 3",
   "language": "python",
   "name": "python3"
  },
  "language_info": {
   "codemirror_mode": {
    "name": "ipython",
    "version": 3
   },
   "file_extension": ".py",
   "mimetype": "text/x-python",
   "name": "python",
   "nbconvert_exporter": "python",
   "pygments_lexer": "ipython3",
   "version": "3.7.10"
  }
 },
 "nbformat": 4,
 "nbformat_minor": 4
}
