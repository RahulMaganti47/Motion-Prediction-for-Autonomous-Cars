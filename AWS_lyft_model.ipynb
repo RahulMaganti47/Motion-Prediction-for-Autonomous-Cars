{
 "cells": [
  {
   "cell_type": "markdown",
   "metadata": {
    "_cell_guid": "9604b3aa-fc80-4aeb-a7e4-923b636ba10e",
    "_uuid": "f3373c21-6bac-4165-8654-5c2708a73cd5"
   },
   "source": [
    "# Lyft: Complete train and prediction pipeline (update for l5kit 1.1.0)\n"
   ]
  },
  {
   "cell_type": "markdown",
   "metadata": {
    "_cell_guid": "edf7c88a-19a1-407f-a79e-f0ff73e6638f",
    "_uuid": "058bc828-59fb-447d-8a14-fd2aec1b40c0"
   },
   "source": [
    "# Environment setup"
   ]
  },
  {
   "cell_type": "code",
   "execution_count": 1,
   "metadata": {},
   "outputs": [],
   "source": [
    "# !pip -q install l5kit==1.1.0"
   ]
  },
  {
   "cell_type": "code",
   "execution_count": 2,
   "metadata": {},
   "outputs": [],
   "source": [
    "# !pip -q install timm"
   ]
  },
  {
   "cell_type": "code",
   "execution_count": 1,
   "metadata": {
    "_cell_guid": "81928957-d34d-4d86-bad6-103735298d27",
    "_uuid": "8954fe1d-10be-4967-bf33-f3000ab56cef",
    "jupyter": {
     "outputs_hidden": false
    }
   },
   "outputs": [],
   "source": [
    "from typing import Dict\n",
    "\n",
    "from tempfile import gettempdir\n",
    "import matplotlib.pyplot as plt\n",
    "import numpy as np\n",
    "import pandas as pd\n",
    "import torch\n",
    "from torch import nn, optim\n",
    "from torch.nn import functional as F\n",
    "from torch.utils.data import DataLoader\n",
    "from torchvision.models.resnet import resnet50, resnet18, resnet34, resnet101\n",
    "from tqdm import tqdm\n",
    "\n",
    "import l5kit\n",
    "from l5kit.configs import load_config_data\n",
    "from l5kit.data import LocalDataManager, ChunkedDataset\n",
    "from l5kit.dataset import AgentDataset, EgoDataset\n",
    "from l5kit.rasterization import build_rasterizer\n",
    "from l5kit.evaluation import write_pred_csv, compute_metrics_csv, read_gt_csv, create_chopped_dataset\n",
    "from l5kit.evaluation.chop_dataset import MIN_FUTURE_STEPS\n",
    "from l5kit.evaluation.metrics import neg_multi_log_likelihood, time_displace\n",
    "from l5kit.geometry import transform_points\n",
    "from l5kit.visualization import PREDICTED_POINTS_COLOR, TARGET_POINTS_COLOR, draw_trajectory\n",
    "from prettytable import PrettyTable\n",
    "from pathlib import Path\n",
    "\n",
    "import matplotlib.pyplot as plt\n",
    "\n",
    "import os\n",
    "import random\n",
    "import time\n",
    "\n",
    "import warnings\n",
    "warnings.filterwarnings(\"ignore\")"
   ]
  },
  {
   "cell_type": "code",
   "execution_count": 2,
   "metadata": {},
   "outputs": [],
   "source": [
    "import sys\n",
    "import timm"
   ]
  },
  {
   "cell_type": "code",
   "execution_count": 3,
   "metadata": {
    "_cell_guid": "2914b43f-bc21-4f64-a65e-8c29a58c8b5c",
    "_uuid": "57dc5124-0802-4351-8b34-61bcf5781094",
    "jupyter": {
     "outputs_hidden": false
    }
   },
   "outputs": [
    {
     "data": {
      "text/plain": [
       "'1.1.0'"
      ]
     },
     "execution_count": 3,
     "metadata": {},
     "output_type": "execute_result"
    }
   ],
   "source": [
    "l5kit.__version__"
   ]
  },
  {
   "cell_type": "code",
   "execution_count": 4,
   "metadata": {
    "_cell_guid": "46540e4a-7aed-4f9a-86df-4b344a51af5d",
    "_uuid": "82c9404f-4c3a-43cf-90ba-55760b90623d",
    "jupyter": {
     "outputs_hidden": false
    }
   },
   "outputs": [],
   "source": [
    "def set_seed(seed):\n",
    "    random.seed(seed)\n",
    "    np.random.seed(seed)\n",
    "    os.environ[\"PYTHONHASHSEED\"] = str(seed)\n",
    "    torch.manual_seed(seed)\n",
    "    torch.cuda.manual_seed(seed)\n",
    "    \n",
    "set_seed(42)"
   ]
  },
  {
   "cell_type": "markdown",
   "metadata": {
    "_cell_guid": "c1219407-278d-41b6-8d59-303634611cc0",
    "_uuid": "5736a42f-c677-4670-b8ba-3e0e001f8305"
   },
   "source": [
    "## Configs"
   ]
  },
  {
   "cell_type": "code",
   "execution_count": 6,
   "metadata": {
    "_cell_guid": "8f1f25fa-94e9-4e57-bc52-cde360ba183c",
    "_uuid": "709967c2-d9d6-44eb-8f94-d81e4d91a905",
    "jupyter": {
     "outputs_hidden": false
    }
   },
   "outputs": [],
   "source": [
    "# --- Lyft configs ---\n",
    "cfg = {\n",
    "    'format_version': 4,\n",
    "    'data_path': \"lyft_dataset\",\n",
    "    'model_params': {\n",
    "        'model_architecture': 'resnet34',\n",
    "        'history_num_frames': 10,\n",
    "        'history_step_size': 1,\n",
    "        'history_delta_time': 0.1,\n",
    "        'future_num_frames': 50,\n",
    "        'future_step_size': 1,\n",
    "        'future_delta_time': 0.1,\n",
    "        'model_name': \"model_resnet34_output\",\n",
    "        \"LSTM_hidden_size\": 64,\n",
    "        \"alpha\": 0.1,\n",
    "        \"num_trajectories\":3,\n",
    "        'lr': 1e-3,\n",
    "        'train': False,\n",
    "        'predict': True\n",
    "    },\n",
    "\n",
    "    'raster_params': {\n",
    "        'raster_size': [224, 224],\n",
    "        'pixel_size': [0.5, 0.5],\n",
    "        'ego_center': [0.25, 0.5],\n",
    "        'map_type': 'py_semantic',\n",
    "        'satellite_map_key': 'aerial_map/aerial_map.png',\n",
    "        'semantic_map_key': 'semantic_map/semantic_map.pb',\n",
    "        'dataset_meta_key': 'meta.json',\n",
    "        'filter_agents_threshold': 0.5\n",
    "    },\n",
    "\n",
    "    'train_data_loader': {\n",
    "        'key': 'scenes/train.zarr',\n",
    "        'batch_size': 16,\n",
    "        'shuffle': True,\n",
    "        'num_workers': 2\n",
    "    },\n",
    "    'test_data_loader': {\n",
    "        'key': 'scenes/test.zarr',\n",
    "        'batch_size': 16,\n",
    "        'shuffle': False,\n",
    "        'num_workers': 2\n",
    "    },\n",
    "    'train_params': {\n",
    "        'max_num_steps': 101,\n",
    "        'checkpoint_every_n_steps': 20,\n",
    "    }\n",
    "}"
   ]
  },
  {
   "cell_type": "markdown",
   "metadata": {
    "_cell_guid": "4b11e0f8-7e38-464b-ab1f-a131b22dff02",
    "_uuid": "8dac7b00-95c2-4b2d-9f73-c9838bdb3906"
   },
   "source": [
    "## Load the train and test data"
   ]
  },
  {
   "cell_type": "code",
   "execution_count": 7,
   "metadata": {
    "_cell_guid": "9a913a37-b1a4-4c61-8478-3f48996cee24",
    "_uuid": "6c2a2142-5e34-444a-852d-81ca55361abf",
    "jupyter": {
     "outputs_hidden": false
    }
   },
   "outputs": [],
   "source": [
    "# set env variable for data\n",
    "DIR_INPUT = cfg[\"data_path\"]\n",
    "os.environ[\"L5KIT_DATA_FOLDER\"] = DIR_INPUT\n",
    "dm = LocalDataManager(None)"
   ]
  },
  {
   "cell_type": "code",
   "execution_count": 8,
   "metadata": {
    "_cell_guid": "453fb482-45ac-4c3f-8d82-4561bf914f83",
    "_uuid": "e395d2c9-d06f-4540-be4e-5a3bc96e3445",
    "jupyter": {
     "outputs_hidden": false
    }
   },
   "outputs": [
    {
     "name": "stdout",
     "output_type": "stream",
     "text": [
      "==================================TRAIN DATA==================================\n",
      "+------------+------------+------------+---------------+-----------------+----------------------+----------------------+----------------------+---------------------+\n",
      "| Num Scenes | Num Frames | Num Agents | Num TR lights | Total Time (hr) | Avg Frames per Scene | Avg Agents per Frame | Avg Scene Time (sec) | Avg Frame frequency |\n",
      "+------------+------------+------------+---------------+-----------------+----------------------+----------------------+----------------------+---------------------+\n",
      "|   16265    |  4039527   | 320124624  |    38735988   |      112.19     |        248.36        |        79.25         |        24.83         |        10.00        |\n",
      "+------------+------------+------------+---------------+-----------------+----------------------+----------------------+----------------------+---------------------+\n"
     ]
    }
   ],
   "source": [
    "# ===== INIT TRAIN DATASET============================================================\n",
    "train_cfg = cfg[\"train_data_loader\"]\n",
    "rasterizer = build_rasterizer(cfg, dm)\n",
    "train_zarr = ChunkedDataset(dm.require(train_cfg[\"key\"])).open()\n",
    "\n",
    "#create mask \n",
    "\n",
    "\n",
    "train_dataset = AgentDataset(cfg, train_zarr, rasterizer)\n",
    "train_dataloader = DataLoader(train_dataset, shuffle=train_cfg[\"shuffle\"], batch_size=train_cfg[\"batch_size\"], \n",
    "                             num_workers=train_cfg[\"num_workers\"])\n",
    "print(\"==================================TRAIN DATA==================================\")\n",
    "print(train_dataset)"
   ]
  },
  {
   "cell_type": "code",
   "execution_count": 9,
   "metadata": {},
   "outputs": [
    {
     "name": "stdout",
     "output_type": "stream",
     "text": [
      "==================================EGO TRAIN DATA==================================\n",
      "+------------+------------+------------+---------------+-----------------+----------------------+----------------------+----------------------+---------------------+\n",
      "| Num Scenes | Num Frames | Num Agents | Num TR lights | Total Time (hr) | Avg Frames per Scene | Avg Agents per Frame | Avg Scene Time (sec) | Avg Frame frequency |\n",
      "+------------+------------+------------+---------------+-----------------+----------------------+----------------------+----------------------+---------------------+\n",
      "|   16265    |  4039527   | 320124624  |    38735988   |      112.19     |        248.36        |        79.25         |        24.83         |        10.00        |\n",
      "+------------+------------+------------+---------------+-----------------+----------------------+----------------------+----------------------+---------------------+\n"
     ]
    }
   ],
   "source": [
    "# ===== INIT EGO TRAIN DATASET============================================================\n",
    "train_cfg = cfg[\"train_data_loader\"]\n",
    "rasterizer = build_rasterizer(cfg, dm)\n",
    "train_zarr = ChunkedDataset(dm.require(train_cfg[\"key\"])).open()\n",
    "\n",
    "#create mask \n",
    "train_dataset_ego = EgoDataset(cfg, train_zarr, rasterizer)\n",
    "train_dataloader_ego = DataLoader(train_dataset_ego, shuffle=train_cfg[\"shuffle\"], batch_size=train_cfg[\"batch_size\"], \n",
    "                             num_workers=train_cfg[\"num_workers\"])\n",
    "print(\"==================================EGO TRAIN DATA==================================\")\n",
    "print(train_dataset_ego)"
   ]
  },
  {
   "cell_type": "code",
   "execution_count": 10,
   "metadata": {
    "_cell_guid": "41252031-01eb-411f-8f14-65616789af87",
    "_uuid": "bb5f2985-4409-4eec-bbcd-3b56420642c1",
    "jupyter": {
     "outputs_hidden": false
    }
   },
   "outputs": [],
   "source": [
    "# #====== INIT TEST DATASET=============================================================\n",
    "# test_cfg = cfg[\"test_data_loader\"]\n",
    "# rasterizer = build_rasterizer(cfg, dm)\n",
    "# test_zarr = ChunkedDataset(dm.require(test_cfg[\"key\"])).open()\n",
    "# test_mask = np.load(f\"{DIR_INPUT}/scenes/mask.npz\")[\"arr_0\"]\n",
    "# test_dataset = AgentDataset(cfg, test_zarr, rasterizer, agents_mask=test_mask)\n",
    "# test_dataloader = DataLoader(test_dataset,shuffle=test_cfg[\"shuffle\"],batch_size=test_cfg[\"batch_size\"],\n",
    "#                              num_workers=test_cfg[\"num_workers\"])\n",
    "# print(\"==================================TEST DATA==================================\")\n",
    "# print(test_dataset)"
   ]
  },
  {
   "cell_type": "markdown",
   "metadata": {},
   "source": [
    "## Testing Dataloader"
   ]
  },
  {
   "cell_type": "markdown",
   "metadata": {
    "_cell_guid": "b7226655-215d-43bf-9b25-dc23c323fb79",
    "_uuid": "e55011fc-bea6-43e2-aa67-82e29dd4a81e"
   },
   "source": [
    "## Simple visualization"
   ]
  },
  {
   "cell_type": "markdown",
   "metadata": {
    "_cell_guid": "9b2ba711-06ce-4b19-a9a0-fa2c3980ee60",
    "_uuid": "79dad700-6e31-4bf9-b5cb-dd249f7af18c"
   },
   "source": [
    "Let us visualize how an input to the model looks like."
   ]
  },
  {
   "cell_type": "code",
   "execution_count": 11,
   "metadata": {
    "_cell_guid": "d378c3cb-76fc-4798-8908-8d4da1ae4d91",
    "_uuid": "804f1302-710f-420a-be91-08224194f1da",
    "jupyter": {
     "outputs_hidden": false
    }
   },
   "outputs": [],
   "source": [
    "def visualize_trajectory(dataset, index, title=\"target_positions movement with draw_trajectory\"):\n",
    "    data, indice = dataset[index]\n",
    "    im = data[\"image\"].transpose(1, 2, 0)\n",
    "    print(im.shape)\n",
    "    im = dataset.rasterizer.to_rgb(im)\n",
    "    target_positions_pixels = transform_points(data[\"target_positions\"] + data[\"centroid\"][:2], data[\"world_to_image\"])\n",
    "    draw_trajectory(im, target_positions_pixels, TARGET_POINTS_COLOR, radius=1, yaws=data[\"target_yaws\"])\n",
    "\n",
    "    plt.title(title)\n",
    "    plt.imshow(im[::-1])\n",
    "    plt.show()"
   ]
  },
  {
   "cell_type": "code",
   "execution_count": 12,
   "metadata": {
    "_cell_guid": "0cb4411b-80b5-43c4-8bc9-543388f3579a",
    "_uuid": "8776410d-e7ba-41aa-ad0e-8374de7992d9",
    "jupyter": {
     "outputs_hidden": false
    }
   },
   "outputs": [
    {
     "name": "stdout",
     "output_type": "stream",
     "text": [
      "(224, 224, 25)\n"
     ]
    },
    {
     "data": {
      "image/png": "[encoded data removed]",
      "text/plain": [
       "<Figure size 576x432 with 1 Axes>"
      ]
     },
     "metadata": {
      "needs_background": "light"
     },
     "output_type": "display_data"
    }
   ],
   "source": [
    "plt.figure(figsize = (8,6))\n",
    "visualize_trajectory(train_dataset, index=90)"
   ]
  },
  {
   "cell_type": "markdown",
   "metadata": {
    "_cell_guid": "8d2a268c-4503-4fc8-872f-9db2e8745273",
    "_uuid": "de59b615-4009-4618-806b-9c49428cf063"
   },
   "source": [
    "## Loss function"
   ]
  },
  {
   "cell_type": "markdown",
   "metadata": {
    "_cell_guid": "476fb620-5482-4d4b-b36b-057456d8c010",
    "_uuid": "d32ba58d-3cd9-4374-9e0f-b53d22e2897b"
   },
   "source": [
    "For this competition it is important to use the correct loss function when train the model. Our goal is to predict three possible paths together with the confidence score, so we need to use the loss function that takes that into account, simply using RMSE will not lead to an accurate model. More information about the loss function can be found here [negative log likelihood](https://github.com/lyft/l5kit/blob/master/competition.md)."
   ]
  },
  {
   "cell_type": "code",
   "execution_count": 13,
   "metadata": {
    "_cell_guid": "e30df536-f939-4e0c-8e27-75e910fef30b",
    "_uuid": "78825fc2-fb86-4433-a720-d0173a64fce0",
    "jupyter": {
     "outputs_hidden": false
    }
   },
   "outputs": [],
   "source": [
    "# --- Function utils ---\n",
    "# Original code from https://github.com/lyft/l5kit/blob/20ab033c01610d711c3d36e1963ecec86e8b85b6/l5kit/l5kit/evaluation/metrics.py\n",
    "import numpy as np\n",
    "\n",
    "import torch\n",
    "from torch import Tensor\n",
    "\n",
    "\n",
    "def pytorch_neg_multi_log_likelihood_batch(\n",
    "    gt: Tensor, pred: Tensor, confidences: Tensor, avails: Tensor\n",
    ") -> Tensor:\n",
    "    \"\"\"\n",
    "    Compute a negative log-likelihood for the multi-modal scenario.\n",
    "    log-sum-exp trick is used here to avoid underflow and overflow, For more information about it see:\n",
    "    https://en.wikipedia.org/wiki/LogSumExp#log-sum-exp_trick_for_log-domain_calculations\n",
    "    https://timvieira.github.io/blog/post/2014/02/11/exp-normalize-trick/\n",
    "    https://leimao.github.io/blog/LogSumExp/\n",
    "    Args:\n",
    "        gt (Tensor): array of shape (bs)x(time)x(2D coords)\n",
    "        pred (Tensor): array of shape (bs)x(modes)x(time)x(2D coords)\n",
    "        confidences (Tensor): array of shape (bs)x(modes) with a confidence for each mode in each sample\n",
    "        avails (Tensor): array of shape (bs)x(time) with the availability for each gt timestep\n",
    "    Returns:\n",
    "        Tensor: negative log-likelihood for this example, a single float number\n",
    "    \"\"\"\n",
    "    assert len(pred.shape) == 4, f\"expected 3D (MxTxC) array for pred, got {pred.shape}\"\n",
    "    batch_size, num_modes, future_len, num_coords = pred.shape\n",
    "\n",
    "    assert gt.shape == (batch_size, future_len, num_coords), f\"expected 2D (Time x Coords) array for gt, got {gt.shape}\"\n",
    "    assert confidences.shape == (batch_size, num_modes), f\"expected 1D (Modes) array for gt, got {confidences.shape}\"\n",
    "    print(batch_size)\n",
    "    assert torch.allclose(torch.sum(confidences, dim=1), confidences.new_ones((batch_size,))), \"confidences should sum to 1\"\n",
    "    assert avails.shape == (batch_size, future_len), f\"expected 1D (Time) array for gt, got {avails.shape}\"\n",
    "    # assert all data are valid\n",
    "    assert torch.isfinite(pred).all(), \"invalid value found in pred\"\n",
    "    assert torch.isfinite(gt).all(), \"invalid value found in gt\"\n",
    "    assert torch.isfinite(confidences).all(), \"invalid value found in confidences\"\n",
    "    assert torch.isfinite(avails).all(), \"invalid value found in avails\"\n",
    "\n",
    "    # convert to (batch_size, num_modes, future_len, num_coords)\n",
    "    gt = torch.unsqueeze(gt, 1)  # add modes\n",
    "    avails = avails[:, None, :, None]  # add modes and cords\n",
    "\n",
    "    # error (batch_size, num_modes, future_len)\n",
    "    error = torch.sum(((gt - pred) * avails) ** 2, dim=-1)  # reduce coords and use availability\n",
    "\n",
    "    with np.errstate(divide=\"ignore\"):  # when confidence is 0 log goes to -inf, but we're fine with it\n",
    "        # error (batch_size, num_modes)\n",
    "        error = torch.log(confidences) - 0.5 * torch.sum(error, dim=-1)  # reduce time\n",
    "\n",
    "    # use max aggregator on modes for numerical stability\n",
    "    # error (batch_size, num_modes)\n",
    "    max_value, _ = error.max(dim=1, keepdim=True)  # error are negative at this point, so max() gives the minimum one\n",
    "    error = -torch.log(torch.sum(torch.exp(error - max_value), dim=-1, keepdim=True)) - max_value  # reduce modes\n",
    "    # print(\"error\", error)\n",
    "    return torch.mean(error)\n",
    "\n",
    "\n",
    "def pytorch_neg_multi_log_likelihood_single(\n",
    "    gt: Tensor, pred: Tensor, avails: Tensor\n",
    ") -> Tensor:\n",
    "    \"\"\"\n",
    "\n",
    "    Args:\n",
    "        gt (Tensor): array of shape (bs)x(time)x(2D coords)\n",
    "        pred (Tensor): array of shape (bs)x(time)x(2D coords)\n",
    "        avails (Tensor): array of shape (bs)x(time) with the availability for each gt timestep\n",
    "    Returns:\n",
    "        Tensor: negative log-likelihood for this example, a single float number\n",
    "    \"\"\"\n",
    "    # pred (bs)x(time)x(2D coords) --> (bs)x(mode=1)x(time)x(2D coords)\n",
    "    # create confidence (bs)x(mode=1)\n",
    "    batch_size, future_len, num_coords = pred.shape\n",
    "    confidences = pred.new_ones((batch_size, 1))\n",
    "    return pytorch_neg_multi_log_likelihood_batch(gt, pred.unsqueeze(1), confidences, avails)"
   ]
  },
  {
   "cell_type": "markdown",
   "metadata": {},
   "source": [
    "## Roshan's Model"
   ]
  },
  {
   "cell_type": "code",
   "execution_count": 14,
   "metadata": {},
   "outputs": [],
   "source": [
    "class SimpleNet(nn.Module):\n",
    "    def __init__(self, cfg):\n",
    "        super(SimpleNet, self).__init__()\n",
    "        num_targets = 2 * cfg[\"model_params\"][\"future_num_frames\"]\n",
    "        self.net = nn.Sequential(nn.Conv2d(25, 5, kernel_size = 3, padding=1),\n",
    "                                 nn.ReLU(),\n",
    "                                 nn.Conv2d(5, 2, kernel_size = 3, padding=1),\n",
    "                                 nn.Flatten(),\n",
    "                                 nn.Linear(224*224*2, num_targets)\n",
    "                                 )\n",
    "    def forward(self, x):\n",
    "        x = self.net(x)\n",
    "        return x"
   ]
  },
  {
   "cell_type": "code",
   "execution_count": 15,
   "metadata": {},
   "outputs": [],
   "source": [
    "class ConvNet1(nn.Module):\n",
    "    def __init__(self, cfg, backbone):\n",
    "        super().__init__()\n",
    "        \n",
    "        num_targets = 2 * cfg[\"model_params\"][\"future_num_frames\"]*cfg[\"model_params\"][\"num_trajectories\"]\n",
    "        self.backbone = timm.create_model(backbone, pretrained=True, in_chans=25)\n",
    "        if backbone == \"xception41\":\n",
    "            num_out_backbone = 1000\n",
    "        self.fc1 = nn.Linear(num_out_backbone, num_targets)\n",
    "        self.confidences = nn.Linear(num_targets, 3)\n",
    "        self.predictions_shape = (cfg[\"model_params\"][\"num_trajectories\"], cfg[\"model_params\"][\"future_num_frames\"], 2)\n",
    "    def forward(self, x):\n",
    "        x = self.backbone(x)\n",
    "        x = F.relu(x)\n",
    "        predictions = self.fc1(x)\n",
    "        confidences = F.softmax(self.confidences(predictions))\n",
    "        predictions_out = predictions.view(-1, self.predictions_shape[0], self.predictions_shape[1], self.predictions_shape[2])\n",
    "#         if not torch.allclose(torch.sum(confidences, dim=1),torch.ones((16)).to(\"cuda\")):\n",
    "#             breakpoint()\n",
    "        return predictions_out, confidences"
   ]
  },
  {
   "cell_type": "code",
   "execution_count": 16,
   "metadata": {},
   "outputs": [],
   "source": [
    "def forward(data, model, device, criterion):\n",
    "    inputs = data[\"image\"].to(device)\n",
    "    target_availabilities = data[\"target_availabilities\"].unsqueeze(-1).to(device)\n",
    "    targets = data[\"target_positions\"].to(device)\n",
    "    # Forward pass\n",
    "    outputs, confidences = model(inputs)\n",
    "#     loss = criterion(outputs, targets)\n",
    "    loss = criterion(targets, outputs, confidences, target_availabilities.squeeze())\n",
    "    # not all the output steps are valid, but we can filter them out from the loss using availabilities\n",
    "#     loss = loss * target_availabilities\n",
    "#     loss = loss.mean()\n",
    "    return loss, outputs, confidences"
   ]
  },
  {
   "cell_type": "code",
   "execution_count": 17,
   "metadata": {},
   "outputs": [],
   "source": [
    "def pytorch_neg_multi_log_likelihood_batch(\n",
    "    gt: Tensor, pred: Tensor, confidences: Tensor, avails: Tensor\n",
    ") -> Tensor:\n",
    "    \"\"\"\n",
    "    Compute a negative log-likelihood for the multi-modal scenario.\n",
    "    log-sum-exp trick is used here to avoid underflow and overflow, For more information about it see:\n",
    "    https://en.wikipedia.org/wiki/LogSumExp#log-sum-exp_trick_for_log-domain_calculations\n",
    "    https://timvieira.github.io/blog/post/2014/02/11/exp-normalize-trick/\n",
    "    https://leimao.github.io/blog/LogSumExp/\n",
    "    Args:\n",
    "        gt (Tensor): array of shape (bs)x(time)x(2D coords)\n",
    "        pred (Tensor): array of shape (bs)x(modes)x(time)x(2D coords)\n",
    "        confidences (Tensor): array of shape (bs)x(modes) with a confidence for each mode in each sample\n",
    "        avails (Tensor): array of shape (bs)x(time) with the availability for each gt timestep\n",
    "    Returns:\n",
    "        Tensor: negative log-likelihood for this example, a single float number\n",
    "    \"\"\"\n",
    "    assert len(pred.shape) == 4, f\"expected 3D (MxTxC) array for pred, got {pred.shape}\"\n",
    "    batch_size, num_modes, future_len, num_coords = pred.shape\n",
    "\n",
    "    assert gt.shape == (batch_size, future_len, num_coords), f\"expected 2D (Time x Coords) array for gt, got {gt.shape}\"\n",
    "    assert confidences.shape == (batch_size, num_modes), f\"expected 1D (Modes) array for gt, got {confidences.shape}\"\n",
    "    assert torch.allclose(torch.sum(confidences, dim=1), confidences.new_ones((batch_size,))), \"confidences should sum to 1\"\n",
    "    assert avails.shape == (batch_size, future_len), f\"expected 1D (Time) array for gt, got {avails.shape}\"\n",
    "    # assert all data are valid\n",
    "    assert torch.isfinite(pred).all(), \"invalid value found in pred\"\n",
    "    assert torch.isfinite(gt).all(), \"invalid value found in gt\"\n",
    "    assert torch.isfinite(confidences).all(), \"invalid value found in confidences\"\n",
    "    assert torch.isfinite(avails).all(), \"invalid value found in avails\"\n",
    "\n",
    "    # convert to (batch_size, num_modes, future_len, num_coords)\n",
    "    gt = torch.unsqueeze(gt, 1)  # add modes\n",
    "    avails = avails[:, None, :, None]  # add modes and cords\n",
    "\n",
    "    # error (batch_size, num_modes, future_len)\n",
    "    error = torch.sum(((gt - pred) * avails) ** 2, dim=-1)  # reduce coords and use availability\n",
    "\n",
    "    with np.errstate(divide=\"ignore\"):  # when confidence is 0 log goes to -inf, but we're fine with it\n",
    "        # error (batch_size, num_modes)\n",
    "        error = torch.log(confidences + 1e-10) - 0.5 * torch.sum(error, dim=-1)  # reduce time\n",
    "\n",
    "    # use max aggregator on modes for numerical stability\n",
    "    # error (batch_size, num_modes)\n",
    "    max_value, _ = error.max(dim=1, keepdim=True)  # error are negative at this point, so max() gives the minimum one\n",
    "    error = -torch.log(torch.sum(torch.exp(error - max_value), dim=-1, keepdim=True)) - max_value  # reduce modes\n",
    "    # print(\"error\", error)\n",
    "    return torch.mean(error)"
   ]
  },
  {
   "cell_type": "code",
   "execution_count": 33,
   "metadata": {},
   "outputs": [],
   "source": [
    "from typing import List, Optional, Tuple\n",
    "\n",
    "def get_agent_context(\n",
    "        state_index: int,\n",
    "        frames: np.ndarray,\n",
    "        agents: np.ndarray,\n",
    "#         tl_faces: np.ndarray,\n",
    "        history_num_frames: int,\n",
    "        future_num_frames: int,\n",
    ") -> Tuple[np.ndarray, np.ndarray, List[np.ndarray], List[np.ndarray]]:\n",
    "    \"\"\"\n",
    "    Slice zarr or numpy arrays to get the context around the agent onf interest (both in space and time)\n",
    "    Args:\n",
    "        state_index (int): frame index inside the scene\n",
    "        frames (np.ndarray): frames from the scene\n",
    "        agents (np.ndarray): agents from the scene\n",
    "        tl_faces (np.ndarray): tl_faces from the scene\n",
    "        history_num_frames (int): how many frames in the past to slice\n",
    "        future_num_frames (int): how many frames in the future to slice\n",
    "    Returns:\n",
    "        Tuple[np.ndarray, np.ndarray, List[np.ndarray], List[np.ndarray], List[np.ndarray], List[np.ndarray]]\n",
    "    \"\"\"\n",
    "\n",
    "    #  the history slice is ordered starting from the latest frame and goes backward in time., ex. slice(100, 91, -2)\n",
    "    history_slice = l5kit.sampling.slicing.get_history_slice(state_index, history_num_frames, 1, include_current_state=True)\n",
    "    future_slice = l5kit.sampling.slicing.get_future_slice(state_index, future_num_frames, 1)\n",
    "    history_frames = frames[history_slice].copy()  # copy() required if the object is a np.ndarray\n",
    "    future_frames = frames[future_slice].copy()\n",
    "    sorted_frames = np.concatenate((history_frames[::-1], future_frames))  # from past to future\n",
    "\n",
    "    # get agents (past and future)\n",
    "    agent_slice = l5kit.data.filter.get_agents_slice_from_frames(sorted_frames[0], sorted_frames[-1])\n",
    "    agents = agents[agent_slice].copy()\n",
    "    # sync interval with the agents array\n",
    "    history_frames[\"agent_index_interval\"] -= agent_slice.start\n",
    "    future_frames[\"agent_index_interval\"] -= agent_slice.start\n",
    "    history_agents = l5kit.data.filter.filter_agents_by_frames(history_frames, agents)\n",
    "    future_agents = l5kit.data.filter.filter_agents_by_frames(future_frames, agents)\n",
    "#     print(\"agents {}\".format(agent_slice))\n",
    "\n",
    "#     # get traffic lights (past and future)\n",
    "#     tl_slice = get_tl_faces_slice_from_frames(sorted_frames[0], sorted_frames[-1])\n",
    "#     tl_faces = tl_faces[tl_slice].copy()\n",
    "#     # sync interval with the traffic light faces array\n",
    "#     history_frames[\"traffic_light_faces_index_interval\"] -= tl_slice.start\n",
    "#     future_frames[\"traffic_light_faces_index_interval\"] -= tl_slice.start\n",
    "#     history_tl_faces = filter_tl_faces_by_frames(history_frames, tl_faces)\n",
    "#     future_tl_faces = filter_tl_faces_by_frames(future_frames, tl_faces)\n",
    "    return history_frames, future_frames, history_agents, future_agents #, history_tl_faces, future_tl_faces\n"
   ]
  },
  {
   "cell_type": "code",
   "execution_count": 18,
   "metadata": {},
   "outputs": [],
   "source": [
    "import bisect\n",
    "\n",
    "def get_agent_data(index, ego_dataset, agent_dataset):\n",
    "    if index < 0:\n",
    "        if -index > len(agent_dataset):\n",
    "            raise ValueError(\"absolute value of index should not exceed dataset length\")\n",
    "        index = len(agent_dataset) + index\n",
    "        index = agent_dataset.agents_indices[index]\n",
    "\n",
    "    frame_index = bisect.bisect_right(agent_dataset.cumulative_sizes_agents, index)\n",
    "    scene_index = bisect.bisect_right(agent_dataset.cumulative_sizes, frame_index)\n",
    "    if scene_index == 0:\n",
    "        state_index = frame_index\n",
    "    else:\n",
    "        state_index = frame_index - agent_dataset.cumulative_sizes[scene_index - 1]\n",
    "    frames = ego_dataset.dataset.frames[l5kit.data.filter.get_frames_slice_from_scenes(ego_dataset.dataset.scenes[scene_index])]\n",
    "\n",
    "    agents = ego_dataset.dataset.agents\n",
    "    x = get_agent_context(state_index, frames, agents, history_num_frames= 10, future_num_frames = 50)\n",
    "    return x[2]"
   ]
  },
  {
   "cell_type": "code",
   "execution_count": 19,
   "metadata": {},
   "outputs": [],
   "source": [
    "class CSP(nn.Module):\n",
    "    def __init__(self, cfg, device):\n",
    "        super().__init__()\n",
    "        self.CSPEncoder = CSPEncoder(cfg).to(device)\n",
    "        self.SocialPooling = SocialPooling(cfg, device).to(device)\n",
    "        self.CSPDecoder = CSPDecoder(cfg).to(device)\n",
    "\n",
    "    def forward(self,nbrs_hist, ego_hist, masks):\n",
    "        nbrs_encoded, ego_encoded = self.CSPEncoder(nbrs_hist, ego_hist)\n",
    "        trajectory_concated = self.SocialPooling(nbrs_encoded, ego_encoded, masks)\n",
    "        predictions, confidences = self.CSPDecoder(trajectory_concated)\n",
    "        return predictions, confidences"
   ]
  },
  {
   "cell_type": "code",
   "execution_count": 20,
   "metadata": {},
   "outputs": [],
   "source": [
    "class CSPEncoder(nn.Module):\n",
    "    def __init__(self, cfg):\n",
    "        super().__init__()\n",
    "        #need linear layer??\n",
    "        self.num_history = cfg[\"model_params\"][\"history_num_frames\"]\n",
    "        self.alpha = cfg[\"model_params\"][\"alpha\"]\n",
    "        self.LSTM_hidden_size = cfg[\"model_params\"][\"LSTM_hidden_size\"]\n",
    "        self.encoderLSTM = nn.LSTM(2, self.LSTM_hidden_size,1)\n",
    "  \n",
    "    def forward(self,nbrs_hist, ego_hist):\n",
    "        #nbrs_hist: BxNxHx2 --> (BxN)xHx2\n",
    "        nbrs_hist_encoded =  nbrs_hist.view(nbrs_hist.shape[0]*nbrs_hist.shape[1],nbrs_hist.shape[2], nbrs_hist.shape[3])\n",
    "        _, (neighbors_encoded, _) = self.encoderLSTM(nbrs_hist_encoded.permute(1,0,2).float())\n",
    "        neighbors_encoded = neighbors_encoded.view(nbrs_hist.shape[0], nbrs_hist.shape[1], self.LSTM_hidden_size)\n",
    "        neighbors_encoded = neighbors_encoded.squeeze(0)\n",
    "        neighbors_encoded = F.leaky_relu(neighbors_encoded, self.alpha)\n",
    "        _, (ego_encoded, _) = self.encoderLSTM(ego_hist.permute(1,0,2))\n",
    "        ego_encoded = ego_encoded.squeeze(0)\n",
    "        ego_encoded = F.leaky_relu(ego_encoded, self.alpha)\n",
    "        return neighbors_encoded, ego_encoded"
   ]
  },
  {
   "cell_type": "code",
   "execution_count": 21,
   "metadata": {},
   "outputs": [],
   "source": [
    "class SocialPooling(nn.Module):\n",
    "    def __init__(self, cfg, device):\n",
    "        super().__init__()\n",
    "        self.encoder_LSTM_hidden_state_shape = cfg[\"model_params\"][\"LSTM_hidden_size\"]\n",
    "\n",
    "        self.conv1 = nn.Conv2d(self.encoder_LSTM_hidden_state_shape, 64, kernel_size = 3)\n",
    "        self.conv2 = nn.Conv2d(64, 16, kernel_size = (3,1))\n",
    "        self.max_pool = nn.MaxPool2d(kernel_size = (2,1))\n",
    "        self.social_reduction = nn.Linear(704, 32)\n",
    "        self.vehicle_dynamics = nn.Linear(self.encoder_LSTM_hidden_state_shape, 32)\n",
    "        self.alpha = cfg[\"model_params\"][\"alpha\"]\n",
    "        self.device = device\n",
    "  \n",
    "    def forward(self, nbrs_encoding, ego_encoding, masks):\n",
    "        social_encoding = torch.zeros((masks.shape[0],masks.shape[1],masks.shape[2], self.encoder_LSTM_hidden_state_shape)).to(self.device)\n",
    "        nbrs_curr_stacked = torch.repeat_interleave(masks.byte().unsqueeze(3), self.encoder_LSTM_hidden_state_shape, dim = 3)\n",
    "        \n",
    "        social_encoding = social_encoding.masked_scatter_(nbrs_curr_stacked, nbrs_encoding)\n",
    "        nbrs_conved = self.conv1(social_encoding.permute(0,3,1,2))\n",
    "        nbrs_conved = F.leaky_relu(nbrs_conved, self.alpha)\n",
    "        nbrs_conved = self.conv2(nbrs_conved)\n",
    "        nbrs_conved = F.leaky_relu(nbrs_conved, self.alpha)\n",
    "        nbrs_conved = self.max_pool(nbrs_conved)\n",
    "        nbrs_conved = torch.flatten(nbrs_conved, start_dim = 1, end_dim = 3)\n",
    "        nbrs_conved = self.social_reduction(nbrs_conved)\n",
    "        x_ego = self.vehicle_dynamics(ego_encoding)\n",
    "\n",
    "        traj_concat = torch.cat((nbrs_conved, x_ego), dim = 1)\n",
    "        return traj_concat"
   ]
  },
  {
   "cell_type": "code",
   "execution_count": 22,
   "metadata": {},
   "outputs": [],
   "source": [
    "class CSPDecoder(nn.Module):\n",
    "    def __init__(self, cfg):\n",
    "        super().__init__()\n",
    "        self.decoderLSTM = nn.LSTM(1, 30, 1, batch_first = True)\n",
    "        num_outputs = 30\n",
    "        self.output_predictions = nn.Linear(30, 2*cfg[\"model_params\"][\"future_num_frames\"]*cfg[\"model_params\"][\"num_trajectories\"]) #50 50x2x3\n",
    "        self.confidences = nn.Linear(30, cfg[\"model_params\"][\"num_trajectories\"]) #50 50x2x3\n",
    "        self.alpha = cfg[\"model_params\"][\"alpha\"]\n",
    "        self.predictions_shape = (cfg[\"model_params\"][\"num_trajectories\"], cfg[\"model_params\"][\"future_num_frames\"],2)\n",
    "    def forward(self, trajectory_concated):\n",
    "        trajectory_concated = trajectory_concated.unsqueeze(2)\n",
    "        _, (hidden, _) = self.decoderLSTM(trajectory_concated)\n",
    "        hidden = F.leaky_relu(hidden.permute(1,0,2), self.alpha)\n",
    "        \n",
    "        predictions = self.output_predictions(hidden).squeeze(1).view(-1, self.predictions_shape[0], self.predictions_shape[1], self.predictions_shape[2])\n",
    "\n",
    "        confidences = F.softmax(self.confidences(hidden).squeeze(1))\n",
    "        return predictions, confidences "
   ]
  },
  {
   "cell_type": "code",
   "execution_count": 23,
   "metadata": {},
   "outputs": [],
   "source": [
    "#adds in complexnet output...\n",
    "class CSPDecoder2(nn.Module):\n",
    "    def __init__(self, cfg):\n",
    "        super().__init__()\n",
    "        \n",
    "        self.ComplexNet = torch.load(\"models/ComplexNet1v1.pt\")\n",
    "        self.ComplexNet.eval()\n",
    "        #might need to retrain complexNet with the current configs?\n",
    "        self.decoderLSTM = nn.LSTM(1, 30, 1, batch_first = True)\n",
    "        num_outputs = 30\n",
    "        output_flat_shape = 2*cfg[\"model_params\"][\"future_num_frames\"]*cfg[\"model_params\"][\"num_trajectories\"]\n",
    "        self.output_predictions = nn.Linear(30, output_flat_shape) #50 50x2x3\n",
    "        \n",
    "        self.convScaling = nn.Linear(2*cfg[\"model_params\"][\"future_num_frames\"], output_flat_shape)\n",
    "        self.CSP_Scaling = nn.Linear(output_flat_shape, output_flat_shape)\n",
    "        \n",
    "        self.confidences = nn.Linear(output_flat_shape, cfg[\"model_params\"][\"num_trajectories\"]) #50 50x2x3\n",
    "        self.alpha = cfg[\"model_params\"][\"alpha\"]\n",
    "        self.predictions_shape = (cfg[\"model_params\"][\"num_trajectories\"], cfg[\"model_params\"][\"future_num_frames\"],2)\n",
    "        \n",
    "    def forward(self, trajectory_concated, ims):\n",
    "        trajectory_concated = trajectory_concated.unsqueeze(2)\n",
    "        _, (hidden, _) = self.decoderLSTM(trajectory_concated)\n",
    "        hidden = F.leaky_relu(hidden.permute(1,0,2), self.alpha)\n",
    "        complexNet_predictions = self.ComplexNet(ims)\n",
    "        \n",
    "        csp_predictions = self.output_predictions(hidden).squeeze(1).view(-1, self.predictions_shape[0], self.predictions_shape[1], self.predictions_shape[2])\n",
    "        predictions = self.convScaling(complexNet_predictions)+self.CSP_scaling(csp_predictions)\n",
    "        confidences = F.softmax(self.confidences(predictions).squeeze(1))\n",
    "        return predictions, confidences "
   ]
  },
  {
   "cell_type": "code",
   "execution_count": 24,
   "metadata": {},
   "outputs": [],
   "source": [
    "def generate_mask_coords(agent_centroid, ego_centroid, mask):\n",
    "    \"\"\"agent_centroid: (,2) arr\n",
    "       ego_centroid: (,2 arr)\"\"\"\n",
    "    assert len(agent_centroid.shape) == 1\n",
    "    assert mask.shape[1]%2 == 1 #masks must be odd number shaped\n",
    "    assert mask.shape[2]%2 == 1 #masks must be odd number shaped\n",
    "    \n",
    "    rel_centroid = agent_centroid-ego_centroid\n",
    "    #for now, let's generate a 13x13 mask. Could choose long mask (e.x. 13x3) if we\n",
    "    #input ego heading to determine whether x or y becomes the long end.\n",
    "    \n",
    "    #1 square == ~15 feet\n",
    "    map_x_uncentered = rel_centroid[0]//15\n",
    "    map_y_uncentered = rel_centroid[1]//15\n",
    "    \n",
    "    #Adjust coords to put ego vehicle in center, and flip x and y for python array indexing\n",
    "    map_x_center = mask.shape[1]//2+1\n",
    "    map_y_center = mask.shape[2]//2+1\n",
    "    \n",
    "    map_x_centered = map_y_center-map_y_uncentered\n",
    "    map_y_centered = map_x_center+map_x_uncentered\n",
    "\n",
    "    if map_x_centered < 0 or map_x_centered >= mask.shape[1]:\n",
    "        return None\n",
    "    if map_y_centered < 0 or map_y_centered >= mask.shape[2]:\n",
    "        return None\n",
    "    else:\n",
    "        return [int(map_x_centered), int(map_y_centered)]"
   ]
  },
  {
   "cell_type": "code",
   "execution_count": 25,
   "metadata": {},
   "outputs": [],
   "source": [
    "def CSPforward(data,index, model, ego_dataset, agent_dataset, criterion=pytorch_neg_multi_log_likelihood_batch, device = \"cuda\"):\n",
    "#     nbrs_batch = torch.zeros(len(indices),0,0,2) #Want BxNxHx2\n",
    "    masks = torch.zeros((len(indices), 13, 13))\n",
    "    tot_nbrs = []\n",
    "    for i, scene_id in enumerate(indices):\n",
    "        nbrs = torch.zeros(0,10,2)\n",
    "        agent_data = get_agent_data(scene_id, ego_dataset, agent_dataset)\n",
    "        cur_agents = agent_data[0]\n",
    "        filtered_agents = l5kit.data.filter.filter_agents_by_labels(cur_agents, 0.5)\n",
    "        curr_valid_agents = filtered_agents[\"track_id\"]\n",
    "        for agent_id in curr_valid_agents:\n",
    "            agent_history = []\n",
    "            for frame in agent_data:\n",
    "                agent_id_index = np.where(frame[\"track_id\"] == agent_id)\n",
    "                if len(agent_id_index[0]) > 0:\n",
    "                    agent_history.append(frame[\"centroid\"][agent_id_index])\n",
    "                else:\n",
    "                    #Agent was not seen for this frame...\n",
    "                    agent_history.append(np.array([[0,0]]))\n",
    "                agent_history_arr = np.array(agent_history)[:-1].squeeze(1)\n",
    "            agent_history_arr=np.flip(agent_history_arr, axis=0).copy()\n",
    "            agent_curr_coords = agent_history_arr[-1]\n",
    "            agent_mask_coords = generate_mask_coords(agent_curr_coords, data[\"centroid\"][i].numpy(), masks)\n",
    "            \n",
    "            if agent_mask_coords is not None:\n",
    "                masks[i, agent_mask_coords[0], agent_mask_coords[1]] = 1\n",
    "            new_hist = torch.from_numpy(agent_history_arr).unsqueeze(0)\n",
    "            nbrs = torch.cat((nbrs, new_hist), axis = 0)\n",
    "        tot_nbrs.append(nbrs)\n",
    "    \n",
    "    nbrs_batch = torch.nn.utils.rnn.pad_sequence(tuple(tot_nbrs), batch_first=True)\n",
    "#     nbrs_batch_packed = torch.nn.utils.rnn.pack_sequence(tuple(tot_nbrs),enforce_sorted=False)\n",
    "    ego_hist = data[\"history_positions\"][:,:-1]\n",
    "    ego_hist = ego_hist[torch.arange(ego_hist.shape[0]).unsqueeze(-1), data[\"history_availabilities\"][:,:-1].long()]\n",
    "    target_availabilities = data[\"target_availabilities\"].to(device)\n",
    "    targets = data[\"target_positions\"].to(device)\n",
    "    nbrs_current_mask = data[\"image\"][:,cfg[\"model_params\"][\"history_num_frames\"]+1,:,:]\n",
    "\n",
    "    predictions, confidences = model(nbrs_batch.to(device), ego_hist.to(device), masks.to(device))\n",
    "    loss = criterion(targets, predictions, confidences, target_availabilities)\n",
    "    return loss, predictions, confidences"
   ]
  },
  {
   "cell_type": "code",
   "execution_count": 26,
   "metadata": {},
   "outputs": [],
   "source": [
    "# # ==== INIT MODEL\n",
    "# device = torch.device(\"cuda:0\" if torch.cuda.is_available() else \"cpu\")\n",
    "# model = torch.load(\"models/CSPv1_epoch9.pt\")"
   ]
  },
  {
   "cell_type": "code",
   "execution_count": 27,
   "metadata": {},
   "outputs": [],
   "source": [
    "# ==== INIT MODEL\n",
    "device = torch.device(\"cuda:0\" if torch.cuda.is_available() else \"cpu\")\n",
    "# device = \"cpu\"\n",
    "# model = CSP(cfg, device).to(device)\n",
    "model = ConvNet1(cfg, backbone=\"xception41\").to(device)\n",
    "optimizer = optim.Adam(model.parameters(), lr=1e-2)\n",
    "criterion = pytorch_neg_multi_log_likelihood_batch\n",
    "epochs = 2\n",
    "# criterion = nn.MSELoss(reduction=\"none\")"
   ]
  },
  {
   "cell_type": "code",
   "execution_count": 28,
   "metadata": {},
   "outputs": [],
   "source": [
    "##TODO:\n",
    "\n",
    "\n",
    "#Hyperparam tuning\n",
    "    #1. Leanring rate\n",
    "    #2. Gradient clipping\n",
    "    #3. Learning rate scheduling\n",
    "    #4. Adjusting momentum in Adam optimizer\n",
    "\n",
    "#Further ideas:\n",
    "    #1. Combine output of *trained* ConvNetv1 with CSP (to allow net to get understanding of road geometry)\n",
    "    #2. Make confidences a funciton of predictions by passing predictions through self.confidences(), not hidden."
   ]
  },
  {
   "cell_type": "code",
   "execution_count": 29,
   "metadata": {},
   "outputs": [
    {
     "name": "stderr",
     "output_type": "stream",
     "text": [
      "\r",
      "  0%|          | 0/400 [00:00<?, ?it/s]"
     ]
    },
    {
     "name": "stdout",
     "output_type": "stream",
     "text": [
      "Epoch 0\n"
     ]
    },
    {
     "name": "stderr",
     "output_type": "stream",
     "text": [
      "loss: 365.9700927734375 loss(avg): 727.2663187551499: 100%|██████████| 400/400 [04:58<00:00,  1.34it/s]  \n",
      "  0%|          | 0/400 [00:00<?, ?it/s]"
     ]
    },
    {
     "name": "stdout",
     "output_type": "stream",
     "text": [
      "Epoch 1\n"
     ]
    },
    {
     "name": "stderr",
     "output_type": "stream",
     "text": [
      "loss: 395.9671936035156 loss(avg): 537.9042512071132: 100%|██████████| 400/400 [04:56<00:00,  1.35it/s] \n"
     ]
    }
   ],
   "source": [
    "# ==== TRAIN LOOP\n",
    "tr_it = iter(train_dataloader)\n",
    "losses_train = []\n",
    "for i in range(epochs):\n",
    "    print(\"Epoch {}\".format(i))\n",
    "    progress_bar = tqdm(range(400))\n",
    "    for _ in progress_bar:\n",
    "        try:\n",
    "            data, indices = next(tr_it)\n",
    "        except StopIteration:\n",
    "            tr_it = iter(train_dataloader)\n",
    "            data, indices = next(tr_it)\n",
    "        model.train()\n",
    "        torch.set_grad_enabled(True)\n",
    "#         loss, predictions, confidences = CSPforward(data, indices, model, train_dataset_ego, train_dataset, criterion, device = device)\n",
    "        loss, predictions, confidences = forward(data, model, device, criterion)\n",
    "        # batch_size, num_modes, future_len, num_coords = pred.shape\n",
    "        # Backward pass\n",
    "        optimizer.zero_grad()\n",
    "        loss.backward()\n",
    "        optimizer.step()\n",
    "\n",
    "        losses_train.append(loss.item())\n",
    "        progress_bar.set_description(f\"loss: {loss.item()} loss(avg): {np.mean(losses_train)}\")\n",
    "    torch.save(model, \"models/ConvNetV2_epoch{}.pt\".format(i))"
   ]
  },
  {
   "cell_type": "code",
   "execution_count": 30,
   "metadata": {},
   "outputs": [
    {
     "data": {
      "image/png": "[encoded data removed]",
      "text/plain": [
       "<Figure size 432x288 with 1 Axes>"
      ]
     },
     "metadata": {
      "needs_background": "light"
     },
     "output_type": "display_data"
    }
   ],
   "source": [
    "plt.plot(np.arange(len(losses_train)), losses_train, label=\"train loss\")\n",
    "plt.legend()\n",
    "plt.show()"
   ]
  },
  {
   "cell_type": "code",
   "execution_count": 31,
   "metadata": {},
   "outputs": [],
   "source": [
    "# #If CUDA out of memory:\n",
    "# torch.cuda.empty_cache()"
   ]
  },
  {
   "cell_type": "code",
   "execution_count": 33,
   "metadata": {},
   "outputs": [],
   "source": [
    "torch.save(model, \"models/ComplexNet1v2.pt\")"
   ]
  },
  {
   "cell_type": "markdown",
   "metadata": {},
   "source": [
    "## Roshan's Model Eval"
   ]
  },
  {
   "cell_type": "code",
   "execution_count": 34,
   "metadata": {},
   "outputs": [],
   "source": [
    "# ===== GENERATE AND LOAD CHOPPED DATASET\n",
    "import shutil\n",
    "eval_cfg = cfg[\"test_data_loader\"]\n",
    "!rm -rf /tmp/lyft\n",
    "eval_dir = shutil.copytree(dm.require(eval_cfg[\"key\"]), '/tmp/lyft/test.zarr')"
   ]
  },
  {
   "cell_type": "code",
   "execution_count": 35,
   "metadata": {},
   "outputs": [],
   "source": [
    "eval_cfg = cfg[\"test_data_loader\"]\n"
   ]
  },
  {
   "cell_type": "code",
   "execution_count": null,
   "metadata": {},
   "outputs": [
    {
     "name": "stdout",
     "output_type": "stream",
     "text": [
      "starting pool...\n"
     ]
    },
    {
     "name": "stderr",
     "output_type": "stream",
     "text": [
      "1614/11314: : 1612it [01:23, 26.92it/s]"
     ]
    }
   ],
   "source": [
    "num_frames_to_chop = 50\n",
    "eval_base_path = create_chopped_dataset(eval_dir, cfg[\"raster_params\"][\"filter_agents_threshold\"], \n",
    "                              num_frames_to_chop, cfg[\"model_params\"][\"future_num_frames\"], MIN_FUTURE_STEPS)\n",
    "!ls {eval_base_path}"
   ]
  },
  {
   "cell_type": "code",
   "execution_count": null,
   "metadata": {},
   "outputs": [],
   "source": [
    "eval_zarr_path = str(Path(eval_base_path) / \"test.zarr\")\n",
    "eval_mask_path = str(Path(eval_base_path) / \"mask.npz\")\n",
    "eval_gt_path = str(Path(eval_base_path) / \"gt.csv\")"
   ]
  },
  {
   "cell_type": "code",
   "execution_count": null,
   "metadata": {},
   "outputs": [],
   "source": [
    "eval_zarr = ChunkedDataset(eval_zarr_path).open()\n",
    "eval_mask = np.load(eval_mask_path)[\"arr_0\"]\n",
    "# ===== INIT DATASET AND LOAD MASK\n",
    "eval_dataset = AgentDataset(cfg, eval_zarr, rasterizer, agents_mask=eval_mask)\n",
    "eval_dataloader = DataLoader(eval_dataset, shuffle=eval_cfg[\"shuffle\"], batch_size=eval_cfg[\"batch_size\"], \n",
    "                             num_workers=eval_cfg[\"num_workers\"])"
   ]
  },
  {
   "cell_type": "code",
   "execution_count": null,
   "metadata": {},
   "outputs": [],
   "source": [
    "eval_dataset_ego = EgoDataset(cfg, eval_zarr, rasterizer)"
   ]
  },
  {
   "cell_type": "code",
   "execution_count": null,
   "metadata": {},
   "outputs": [],
   "source": [
    "# ===== EVAL Loop\n",
    "model.eval()\n",
    "torch.set_grad_enabled(False)\n",
    "\n",
    "# store information for evaluation\n",
    "future_coords_offsets_pd = []\n",
    "timestamps = []\n",
    "confidences_list = []\n",
    "agent_ids = []\n",
    "\n",
    "progress_bar = tqdm(eval_dataloader)\n",
    "\n",
    "for data, indices in progress_bar:\n",
    "\n",
    "#     loss, preds, confidences = CSPforward(data, indices, model, eval_dataset_ego, eval_dataset, criterion, device = device)\n",
    "    loss, preds, confidences = forward(data, model, device, criterion)\n",
    "    #fix for the new environment\n",
    "    preds = preds.cpu().numpy()\n",
    "    world_from_agents = data[\"world_from_agent\"].numpy()\n",
    "    centroids = data[\"centroid\"].numpy()\n",
    "    coords_offset = []\n",
    "\n",
    "    # convert into world coordinates and compute offsets\n",
    "    for idx in range(len(preds)):\n",
    "        for mode in range(cfg[\"model_params\"][\"num_trajectories\"]):\n",
    "            preds[idx,mode,:, :] = transform_points(preds[idx,mode,:, :], world_from_agents[idx]) - centroids[idx][:2]\n",
    "\n",
    "    future_coords_offsets_pd.append(preds.copy())\n",
    "    confidences_list.append(confidences.cpu().numpy().copy())\n",
    "    timestamps.append(data[\"timestamp\"].numpy().copy())\n",
    "    agent_ids.append(data[\"track_id\"].numpy().copy()) "
   ]
  },
  {
   "cell_type": "code",
   "execution_count": null,
   "metadata": {},
   "outputs": [],
   "source": [
    "pred_path = f\"{gettempdir()}/pred.csv\"\n",
    "\n",
    "write_pred_csv(pred_path,\n",
    "               timestamps=np.concatenate(timestamps),\n",
    "               track_ids=np.concatenate(agent_ids),\n",
    "               coords=np.concatenate(future_coords_offsets_pd),\n",
    "               confs = np.concatenate(confidences_list)\n",
    "              )"
   ]
  },
  {
   "cell_type": "code",
   "execution_count": null,
   "metadata": {},
   "outputs": [],
   "source": [
    "metrics = compute_metrics_csv(eval_gt_path, pred_path, [neg_multi_log_likelihood, time_displace])\n",
    "for metric_name, metric_mean in metrics.items():\n",
    "    print(metric_name, metric_mean)"
   ]
  },
  {
   "cell_type": "code",
   "execution_count": null,
   "metadata": {},
   "outputs": [],
   "source": []
  },
  {
   "cell_type": "markdown",
   "metadata": {
    "_cell_guid": "95265cb4-70bd-4f62-b516-25ba0e8a064c",
    "_uuid": "6c57c63b-5161-4e47-91ba-655b934953c5"
   },
   "source": [
    "## Model"
   ]
  },
  {
   "cell_type": "markdown",
   "metadata": {
    "_cell_guid": "0aff144d-d4a2-4a16-b182-3fa06736c6af",
    "_uuid": "1b1b920c-4579-45ab-94f0-d582bf399562"
   },
   "source": [
    "Next we define the baseline model. Note that this model will return three possible trajectories together with confidence score for each trajectory."
   ]
  },
  {
   "cell_type": "code",
   "execution_count": 19,
   "metadata": {
    "_cell_guid": "24841164-b70d-4c18-87a3-47a7a4db58fb",
    "_uuid": "b27d1c41-60eb-495b-83e2-2d9ed333a7a7",
    "jupyter": {
     "outputs_hidden": false
    }
   },
   "outputs": [],
   "source": [
    "class LyftMultiModel(nn.Module):\n",
    "\n",
    "    def __init__(self, cfg: Dict, num_modes=3):\n",
    "        super().__init__()\n",
    "\n",
    "        architecture = cfg[\"model_params\"][\"model_architecture\"]\n",
    "        backbone = eval(architecture)(pretrained=True, progress=True)\n",
    "        self.backbone = backbone\n",
    "\n",
    "        num_history_channels = (cfg[\"model_params\"][\"history_num_frames\"] + 1) * 2\n",
    "        num_in_channels = 3 + num_history_channels\n",
    "\n",
    "        self.backbone.conv1 = nn.Conv2d(\n",
    "            num_in_channels,\n",
    "            self.backbone.conv1.out_channels,\n",
    "            kernel_size=self.backbone.conv1.kernel_size,\n",
    "            stride=self.backbone.conv1.stride,\n",
    "            padding=self.backbone.conv1.padding,\n",
    "            bias=False,\n",
    "        )\n",
    "\n",
    "        # This is 512 for resnet18 and resnet34;\n",
    "        # And it is 2048 for the other resnets\n",
    "        \n",
    "        if architecture == \"resnet50\":\n",
    "            backbone_out_features = 2048\n",
    "        else:\n",
    "            backbone_out_features = 512\n",
    "\n",
    "        # X, Y coords for the future positions (output shape: batch_sizex50x2)\n",
    "        self.future_len = cfg[\"model_params\"][\"future_num_frames\"]\n",
    "        num_targets = 2 * self.future_len\n",
    "\n",
    "        # You can add more layers here.\n",
    "        self.head = nn.Sequential(\n",
    "            # nn.Dropout(0.2),\n",
    "            nn.Linear(in_features=backbone_out_features, out_features=4096),\n",
    "        )\n",
    "\n",
    "        self.num_preds = num_targets * num_modes\n",
    "        self.num_modes = num_modes\n",
    "\n",
    "        self.logit = nn.Linear(4096, out_features=self.num_preds + num_modes)\n",
    "\n",
    "    def forward(self, x):\n",
    "        x = self.backbone.conv1(x)\n",
    "        x = self.backbone.bn1(x)\n",
    "        x = self.backbone.relu(x)\n",
    "        x = self.backbone.maxpool(x)\n",
    "\n",
    "        x = self.backbone.layer1(x)\n",
    "        x = self.backbone.layer2(x)\n",
    "        x = self.backbone.layer3(x)\n",
    "        x = self.backbone.layer4(x)\n",
    "\n",
    "        x = self.backbone.avgpool(x)\n",
    "        x = torch.flatten(x, 1)\n",
    "\n",
    "        x = self.head(x)\n",
    "        x = self.logit(x)\n",
    "\n",
    "        # pred (batch_size)x(modes)x(time)x(2D coords)\n",
    "        # confidences (batch_size)x(modes)\n",
    "        bs, _ = x.shape\n",
    "        pred, confidences = torch.split(x, self.num_preds, dim=1)\n",
    "        pred = pred.view(bs, self.num_modes, self.future_len, 2)\n",
    "        assert confidences.shape == (bs, self.num_modes)\n",
    "        confidences = torch.softmax(confidences, dim=1)\n",
    "        return pred, confidences"
   ]
  },
  {
   "cell_type": "code",
   "execution_count": 20,
   "metadata": {
    "_cell_guid": "a9c2ae33-79c8-46d1-b2f9-5341f1a95643",
    "_uuid": "1b2bdd99-20a5-492d-ba52-0a764a1a65be",
    "jupyter": {
     "outputs_hidden": false
    }
   },
   "outputs": [],
   "source": [
    "def forward(data, model, device, criterion = pytorch_neg_multi_log_likelihood_batch):\n",
    "    inputs = data[\"image\"].to(device)\n",
    "    target_availabilities = data[\"target_availabilities\"].to(device)\n",
    "    targets = data[\"target_positions\"].to(device)\n",
    "    # Forward pass\n",
    "    preds, confidences = model(inputs)\n",
    "    loss = criterion(targets, preds, confidences, target_availabilities)\n",
    "    return loss, preds, confidences"
   ]
  },
  {
   "cell_type": "markdown",
   "metadata": {
    "_cell_guid": "9f04e923-233c-4f48-b9da-20e108ed2a79",
    "_uuid": "761af486-24bc-43cd-a359-4770345565d4"
   },
   "source": [
    "Now let us initialize the model and load the pretrained weights. Note that since the pretrained model was trained on GPU, you also need to enable GPU when running this notebook."
   ]
  },
  {
   "cell_type": "code",
   "execution_count": 21,
   "metadata": {
    "_cell_guid": "69846582-22e3-4130-b5d6-0c155d8e7a75",
    "_uuid": "564a7eb9-6516-465e-899a-a4ad156c22f2",
    "jupyter": {
     "outputs_hidden": false
    }
   },
   "outputs": [
    {
     "name": "stderr",
     "output_type": "stream",
     "text": [
      "Downloading: \"https://download.pytorch.org/models/resnet34-333f7ec4.pth\" to /home/ubuntu/.cache/torch/hub/checkpoints/resnet34-333f7ec4.pth\n"
     ]
    },
    {
     "data": {
      "application/vnd.jupyter.widget-view+json": {
       "model_id": "caf77c4ede804a6c9ec0f3c94cafc511",
       "version_major": 2,
       "version_minor": 0
      },
      "text/plain": [
       "  0%|          | 0.00/83.3M [00:00<?, ?B/s]"
      ]
     },
     "metadata": {},
     "output_type": "display_data"
    },
    {
     "ename": "KeyError",
     "evalue": "'weight_path'",
     "output_type": "error",
     "traceback": [
      "\u001b[0;31m---------------------------------------------------------------------------\u001b[0m",
      "\u001b[0;31mKeyError\u001b[0m                                  Traceback (most recent call last)",
      "\u001b[0;32m<ipython-input-21-c2c1db6b9ae8>\u001b[0m in \u001b[0;36m<module>\u001b[0;34m\u001b[0m\n\u001b[1;32m      4\u001b[0m \u001b[0;34m\u001b[0m\u001b[0m\n\u001b[1;32m      5\u001b[0m \u001b[0;31m#load weight if there is a pretrained model\u001b[0m\u001b[0;34m\u001b[0m\u001b[0;34m\u001b[0m\u001b[0;34m\u001b[0m\u001b[0m\n\u001b[0;32m----> 6\u001b[0;31m \u001b[0mweight_path\u001b[0m \u001b[0;34m=\u001b[0m \u001b[0mcfg\u001b[0m\u001b[0;34m[\u001b[0m\u001b[0;34m\"model_params\"\u001b[0m\u001b[0;34m]\u001b[0m\u001b[0;34m[\u001b[0m\u001b[0;34m\"weight_path\"\u001b[0m\u001b[0;34m]\u001b[0m\u001b[0;34m\u001b[0m\u001b[0;34m\u001b[0m\u001b[0m\n\u001b[0m\u001b[1;32m      7\u001b[0m \u001b[0;32mif\u001b[0m \u001b[0mweight_path\u001b[0m\u001b[0;34m:\u001b[0m\u001b[0;34m\u001b[0m\u001b[0;34m\u001b[0m\u001b[0m\n\u001b[1;32m      8\u001b[0m     \u001b[0mmodel\u001b[0m\u001b[0;34m.\u001b[0m\u001b[0mload_state_dict\u001b[0m\u001b[0;34m(\u001b[0m\u001b[0mtorch\u001b[0m\u001b[0;34m.\u001b[0m\u001b[0mload\u001b[0m\u001b[0;34m(\u001b[0m\u001b[0mweight_path\u001b[0m\u001b[0;34m)\u001b[0m\u001b[0;34m)\u001b[0m\u001b[0;34m\u001b[0m\u001b[0;34m\u001b[0m\u001b[0m\n",
      "\u001b[0;31mKeyError\u001b[0m: 'weight_path'"
     ]
    }
   ],
   "source": [
    "# ==== INIT MODEL=================\n",
    "device = torch.device(\"cuda:0\" if torch.cuda.is_available() else \"cpu\")\n",
    "model = LyftMultiModel(cfg)\n",
    "\n",
    "#load weight if there is a pretrained model\n",
    "weight_path = cfg[\"model_params\"][\"weight_path\"]\n",
    "if weight_path:\n",
    "    model.load_state_dict(torch.load(weight_path))\n",
    "\n",
    "model.to(device)\n",
    "optimizer = optim.Adam(model.parameters(), lr=cfg[\"model_params\"][\"lr\"])\n",
    "print(f'device {device}')"
   ]
  },
  {
   "cell_type": "code",
   "execution_count": null,
   "metadata": {
    "_cell_guid": "3426973f-6c63-4fee-9fa7-ec9d0390f895",
    "_uuid": "8249db57-fedc-439c-bf42-d6da17506441",
    "jupyter": {
     "outputs_hidden": false
    }
   },
   "outputs": [],
   "source": [
    "print(model)"
   ]
  },
  {
   "cell_type": "markdown",
   "metadata": {
    "_cell_guid": "35b9cf9d-058a-47c0-a9aa-0e2edfba16f9",
    "_uuid": "3411bc6e-00f2-4bda-8665-82691b7327ab"
   },
   "source": [
    "## Training loop"
   ]
  },
  {
   "cell_type": "markdown",
   "metadata": {
    "_cell_guid": "2e4abcbe-fcbb-4918-bf37-10b58c5e82d6",
    "_uuid": "6c22fe41-0a93-43f1-b4ae-7815192adbbc"
   },
   "source": [
    "Next let us implement the training loop, when the **train** parameter is set to True."
   ]
  },
  {
   "cell_type": "code",
   "execution_count": null,
   "metadata": {
    "_cell_guid": "75f5cb2d-8831-47a5-84d1-83e054db902e",
    "_uuid": "1c3e5880-d97c-47a7-af63-24a1111ec023",
    "jupyter": {
     "outputs_hidden": false
    }
   },
   "outputs": [],
   "source": [
    "# ==== TRAINING LOOP =========================================================\n",
    "if cfg[\"model_params\"][\"train\"]:\n",
    "    \n",
    "    tr_it = iter(train_dataloader)\n",
    "    progress_bar = tqdm(range(cfg[\"train_params\"][\"max_num_steps\"]))\n",
    "    num_iter = cfg[\"train_params\"][\"max_num_steps\"]\n",
    "    losses_train = []\n",
    "    iterations = []\n",
    "    metrics = []\n",
    "    times = []\n",
    "    model_name = cfg[\"model_params\"][\"model_name\"]\n",
    "    start = time.time()\n",
    "    for i in progress_bar:\n",
    "        try:\n",
    "            data = next(tr_it)\n",
    "        except StopIteration:\n",
    "            tr_it = iter(train_dataloader)\n",
    "            data = next(tr_it)\n",
    "        model.train()\n",
    "        torch.set_grad_enabled(True)\n",
    "        \n",
    "        loss, _, _ = forward(data, model, device)\n",
    "\n",
    "        # Backward pass\n",
    "        optimizer.zero_grad()\n",
    "        loss.backward()\n",
    "        optimizer.step()\n",
    "\n",
    "        losses_train.append(loss.item())\n",
    "\n",
    "        progress_bar.set_description(f\"loss: {loss.item()} loss(avg): {np.mean(losses_train)}\")\n",
    "        if i % cfg['train_params']['checkpoint_every_n_steps'] == 0:\n",
    "            torch.save(model.state_dict(), f'{model_name}_{i}.pth')\n",
    "            iterations.append(i)\n",
    "            metrics.append(np.mean(losses_train))\n",
    "            times.append((time.time()-start)/60)\n",
    "\n",
    "    results = pd.DataFrame({'iterations': iterations, 'metrics (avg)': metrics, 'elapsed_time (mins)': times})\n",
    "    results.to_csv(f\"train_metrics_{model_name}_{num_iter}.csv\", index = False)\n",
    "    print(f\"Total training time is {(time.time()-start)/60} mins\")\n",
    "    print(results.head())"
   ]
  },
  {
   "cell_type": "markdown",
   "metadata": {
    "_cell_guid": "7f4ded99-bee8-45f1-88e3-06192654baa5",
    "_uuid": "fbe8e9c6-52b2-4dcd-a749-d32d8eee4900"
   },
   "source": [
    "## Prediction"
   ]
  },
  {
   "cell_type": "markdown",
   "metadata": {
    "_cell_guid": "85de60be-3060-44c5-92ba-28e09a72de45",
    "_uuid": "aae54740-f73b-475f-9bac-62adf67760d2"
   },
   "source": [
    "Finally we implement the inference to submit to Kaggle when **predict** param is set to True."
   ]
  },
  {
   "cell_type": "code",
   "execution_count": null,
   "metadata": {
    "_cell_guid": "ddc7c711-5118-4017-9c3e-9528c904e431",
    "_uuid": "cc104a21-05d0-4774-9ca9-12d55b413a96",
    "jupyter": {
     "outputs_hidden": false
    }
   },
   "outputs": [],
   "source": [
    "# ==== EVAL LOOP ================================================================\n",
    "if cfg[\"model_params\"][\"predict\"]:\n",
    "    \n",
    "    model.eval()\n",
    "    torch.set_grad_enabled(False)\n",
    "\n",
    "    # store information for evaluation\n",
    "    future_coords_offsets_pd = []\n",
    "    timestamps = []\n",
    "    confidences_list = []\n",
    "    agent_ids = []\n",
    "\n",
    "    progress_bar = tqdm(test_dataloader)\n",
    "    \n",
    "    for data in progress_bar:\n",
    "        \n",
    "        _, preds, confidences = forward(data, model, device)\n",
    "    \n",
    "        #fix for the new environment\n",
    "        preds = preds.cpu().numpy()\n",
    "        world_from_agents = data[\"world_from_agent\"].numpy()\n",
    "        centroids = data[\"centroid\"].numpy()\n",
    "        coords_offset = []\n",
    "        \n",
    "        # convert into world coordinates and compute offsets\n",
    "        for idx in range(len(preds)):\n",
    "            for mode in range(3):\n",
    "                preds[idx, mode, :, :] = transform_points(preds[idx, mode, :, :], world_from_agents[idx]) - centroids[idx][:2]\n",
    "    \n",
    "        future_coords_offsets_pd.append(preds.copy())\n",
    "        confidences_list.append(confidences.cpu().numpy().copy())\n",
    "        timestamps.append(data[\"timestamp\"].numpy().copy())\n",
    "        agent_ids.append(data[\"track_id\"].numpy().copy())"
   ]
  },
  {
   "cell_type": "code",
   "execution_count": null,
   "metadata": {
    "_cell_guid": "0c4f0882-5319-4bb4-98f7-39c5ba208adf",
    "_uuid": "2d46e9f4-40b1-448b-b042-d6d86c702c12",
    "jupyter": {
     "outputs_hidden": false
    }
   },
   "outputs": [],
   "source": [
    "#create submission to submit to Kaggle\n",
    "pred_path = 'submission.csv'\n",
    "write_pred_csv(pred_path,\n",
    "           timestamps=np.concatenate(timestamps),\n",
    "           track_ids=np.concatenate(agent_ids),\n",
    "           coords=np.concatenate(future_coords_offsets_pd),\n",
    "           confs = np.concatenate(confidences_list)\n",
    "          )"
   ]
  }
 ],
 "metadata": {
  "kernelspec": {
   "display_name": "Python 3",
   "language": "python",
   "name": "python3"
  },
  "language_info": {
   "codemirror_mode": {
    "name": "ipython",
    "version": 3
   },
   "file_extension": ".py",
   "mimetype": "text/x-python",
   "name": "python",
   "nbconvert_exporter": "python",
   "pygments_lexer": "ipython3",
   "version": "3.7.10"
  }
 },
 "nbformat": 4,
 "nbformat_minor": 4
}
