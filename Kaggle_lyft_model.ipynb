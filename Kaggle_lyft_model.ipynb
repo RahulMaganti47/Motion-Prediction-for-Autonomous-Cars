{
 "cells": [
  {
   "cell_type": "markdown",
   "metadata": {
    "_cell_guid": "9604b3aa-fc80-4aeb-a7e4-923b636ba10e",
    "_uuid": "f3373c21-6bac-4165-8654-5c2708a73cd5"
   },
   "source": [
    "# Lyft: Complete train and prediction pipeline (update for l5kit 1.1.0)\n",
    "\n",
    "![](http://www.l5kit.org/_images/av.jpg)\n",
    "<cite>The image from L5Kit official document: <a href=\"http://www.l5kit.org/README.html\">http://www.l5kit.org/README.html</a></cite>\n",
    "\n",
    "#### This notebook is updated to be compatible with the new lyft environment, see the discussion [We did it all wrong](https://www.kaggle.com/c/lyft-motion-prediction-autonomous-vehicles/discussion/186492) and [l5kit 1.1.0 release](https://www.kaggle.com/c/lyft-motion-prediction-autonomous-vehicles/discussion/187825).\n",
    "\n",
    "For a high level overview, check out this article [how to build a motion prediction model for autonomous vehicles](https://medium.com/lyftlevel5/how-to-build-a-motion-prediction-model-for-autonomous-vehicles-29f7f81f1580).\n",
    "\n",
    "In this notebook I present an **end-to-end** train and prediction pipeline to predict vehicle motions with a pretrained model included. Unfortunately because of Kaggle memory constraint we can only either run the train part or the prediction part by toggling the parameters in the config part. \n",
    "\n",
    "Some of the code here are taken from the [tutorial notebook](https://github.com/lyft/l5kit/tree/master/examples/agent_motion_prediction) and the following kernels:\n",
    "\n",
    "- [Lyft: Training with multi-mode confidence](https://www.kaggle.com/corochann/lyft-training-with-multi-mode-confidence)\n",
    "- [Lyft: Prediction with multi-mode confidence](https://www.kaggle.com/corochann/lyft-prediction-with-multi-mode-confidence)\n",
    "\n",
    "which is part of a wonderful series of introductory notebooks by [corochann](https://www.kaggle.com/corochann)\n",
    "\n",
    " - [Lyft: Comprehensive guide to start competition](https://www.kaggle.com/corochann/lyft-comprehensive-guide-to-start-competition)\n",
    " - [Lyft: Deep into the l5kit library](https://www.kaggle.com/corochann/lyft-deep-into-the-l5kit-library)\n",
    " - [Save your time, submit without kernel inference](https://www.kaggle.com/corochann/save-your-time-submit-without-kernel-inference)\n",
    " - [Lyft: pytorch implementation of evaluation metric](https://www.kaggle.com/corochann/lyft-pytorch-implementation-of-evaluation-metric)\n",
    " - [Lyft: Training with multi-mode confidence](https://www.kaggle.com/corochann/lyft-training-with-multi-mode-confidence)\n",
    " - [Lyft: Prediction with multi-mode confidence](https://www.kaggle.com/corochann/lyft-prediction-with-multi-mode-confidence)\n",
    " \n",
    "**Note:** This notebook aims to create the best single possible, i.e. without any ensemeble, which should only be done near the end of the competition. Since it is still early in the competition, this notebook is still a baseline, any suggestion to improve is appreciated."
   ]
  },
  {
   "cell_type": "markdown",
   "metadata": {
    "_cell_guid": "edf7c88a-19a1-407f-a79e-f0ff73e6638f",
    "_uuid": "058bc828-59fb-447d-8a14-fd2aec1b40c0"
   },
   "source": [
    "# Environment setup\n",
    "\n",
    " - Please add [pestipeti/lyft-l5kit-unofficial-fix](https://www.kaggle.com/pestipeti/lyft-l5kit-unofficial-fix) as utility script.\n",
    "    - Official utility script \"[philculliton/kaggle-l5kit](https://www.kaggle.com/mathurinache/kaggle-l5kit)\" does not work with pytorch GPU.\n",
    "\n",
    "Click \"File\" botton on top-left, and choose \"Add utility script\". For the pop-up search window, you need to remove \"Your Work\" filter, and search [pestipeti/lyft-l5kit-unofficial-fix](https://www.kaggle.com/pestipeti/lyft-l5kit-unofficial-fix) on top-right of the search window. Then you can add the kaggle-l5kit utility script. It is much faster to do this rather than !pip install l5kit every time you run the notebook. \n",
    "\n",
    "If successful, you can see \"usr/lib/lyft-l5kit-unofficial-fix\" is added to the \"Data\" section of this kernel page on right side of the kernel.\n",
    "\n",
    "- Also please add [pretrained baseline model](https://www.kaggle.com/huanvo/lyft-pretrained-model-hv)\n",
    "\n",
    "Click on the button \"Add data\" in the \"Data\" section and search for lyft-pretrained-model-hv. If you find the model useful, please upvote it as well."
   ]
  },
  {
   "cell_type": "code",
   "execution_count": null,
   "metadata": {
    "_cell_guid": "81928957-d34d-4d86-bad6-103735298d27",
    "_uuid": "8954fe1d-10be-4967-bf33-f3000ab56cef"
   },
   "outputs": [],
   "source": [
    "from typing import Dict\n",
    "\n",
    "from tempfile import gettempdir\n",
    "import matplotlib.pyplot as plt\n",
    "import numpy as np\n",
    "import pandas as pd\n",
    "import torch\n",
    "from torch import nn, optim\n",
    "from torch.utils.data import DataLoader\n",
    "from torchvision.models.resnet import resnet50, resnet18, resnet34, resnet101\n",
    "from tqdm import tqdm\n",
    "\n",
    "import l5kit\n",
    "from l5kit.configs import load_config_data\n",
    "from l5kit.data import LocalDataManager, ChunkedDataset\n",
    "from l5kit.dataset import AgentDataset, EgoDataset\n",
    "from l5kit.rasterization import build_rasterizer\n",
    "from l5kit.evaluation import write_pred_csv, compute_metrics_csv, read_gt_csv, create_chopped_dataset\n",
    "from l5kit.evaluation.chop_dataset import MIN_FUTURE_STEPS\n",
    "from l5kit.evaluation.metrics import neg_multi_log_likelihood, time_displace\n",
    "from l5kit.geometry import transform_points\n",
    "from l5kit.visualization import PREDICTED_POINTS_COLOR, TARGET_POINTS_COLOR, draw_trajectory\n",
    "from prettytable import PrettyTable\n",
    "from pathlib import Path\n",
    "\n",
    "import matplotlib.pyplot as plt\n",
    "\n",
    "import os\n",
    "import random\n",
    "import time\n",
    "\n",
    "import warnings\n",
    "warnings.filterwarnings(\"ignore\")"
   ]
  },
  {
   "cell_type": "code",
   "execution_count": null,
   "metadata": {
    "_cell_guid": "2914b43f-bc21-4f64-a65e-8c29a58c8b5c",
    "_uuid": "57dc5124-0802-4351-8b34-61bcf5781094"
   },
   "outputs": [],
   "source": [
    "l5kit.__version__"
   ]
  },
  {
   "cell_type": "code",
   "execution_count": null,
   "metadata": {
    "_cell_guid": "46540e4a-7aed-4f9a-86df-4b344a51af5d",
    "_uuid": "82c9404f-4c3a-43cf-90ba-55760b90623d"
   },
   "outputs": [],
   "source": [
    "# def set_seed(seed):\n",
    "#     random.seed(seed)\n",
    "#     np.random.seed(seed)\n",
    "#     os.environ[\"PYTHONHASHSEED\"] = str(seed)\n",
    "#     torch.manual_seed(seed)\n",
    "#     torch.cuda.manual_seed(seed)\n",
    "    \n",
    "# set_seed(42)"
   ]
  },
  {
   "cell_type": "markdown",
   "metadata": {
    "_cell_guid": "c1219407-278d-41b6-8d59-303634611cc0",
    "_uuid": "5736a42f-c677-4670-b8ba-3e0e001f8305"
   },
   "source": [
    "## Configs"
   ]
  },
  {
   "cell_type": "code",
   "execution_count": null,
   "metadata": {
    "_cell_guid": "8f1f25fa-94e9-4e57-bc52-cde360ba183c",
    "_kg_hide-input": false,
    "_kg_hide-output": false,
    "_uuid": "709967c2-d9d6-44eb-8f94-d81e4d91a905"
   },
   "outputs": [],
   "source": [
    "# # --- Lyft configs ---\n",
    "# cfg = {\n",
    "#     'format_version': 4,\n",
    "#     'data_path': \"/kaggle/input/lyft-motion-prediction-autonomous-vehicles\",\n",
    "#     'model_params': {\n",
    "#         'model_architecture': 'resnet34',\n",
    "#         'history_num_frames': 10,\n",
    "#         'history_step_size': 1,\n",
    "#         'history_delta_time': 0.1,\n",
    "#         'future_num_frames': 50,\n",
    "#         'future_step_size': 1,\n",
    "#         'future_delta_time': 0.1,\n",
    "#         'model_name': \"model_resnet34_output\",\n",
    "#         'lr': 1e-3,\n",
    "#         'weight_path': \"/kaggle/input/lyft-pretrained-model-hv/model_multi_update_lyft_public.pth\",\n",
    "#         'train': False,\n",
    "#         'predict': True\n",
    "#     },\n",
    "\n",
    "#     'raster_params': {\n",
    "#         'raster_size': [224, 224],\n",
    "#         'pixel_size': [0.5, 0.5],\n",
    "#         'ego_center': [0.25, 0.5],\n",
    "#         'map_type': 'py_semantic',\n",
    "#         'satellite_map_key': 'aerial_map/aerial_map.png',\n",
    "#         'semantic_map_key': 'semantic_map/semantic_map.pb',\n",
    "#         'dataset_meta_key': 'meta.json',\n",
    "#         'filter_agents_threshold': 0.5\n",
    "#     },\n",
    "\n",
    "#     'train_data_loader': {\n",
    "#         'key': 'scenes/train.zarr',\n",
    "#         'batch_size': 16,\n",
    "#         'shuffle': True,\n",
    "#         'num_workers': 4\n",
    "#     },\n",
    "    \n",
    "#     'val_data_loader': {\n",
    "#         'key': 'scenes/sample.zarr',\n",
    "#         'batch_size': 32,\n",
    "#         'shuffle': False,\n",
    "#         'num_workers': 4\n",
    "#     },\n",
    "\n",
    "#     'train_params': {\n",
    "#         'max_num_steps': 101,\n",
    "#         'checkpoint_every_n_steps': 20,\n",
    "#     }\n",
    "# }"
   ]
  },
  {
   "cell_type": "markdown",
   "metadata": {
    "_cell_guid": "47937fff-6ae9-4b70-862a-ebe66487d5cc",
    "_uuid": "cf25b5e9-2730-4bbd-b9b9-5adae53a3edd"
   },
   "source": [
    "Couple of things to note:\n",
    "\n",
    " - **model_architecture:** you can put 'resnet18', 'resnet34' or 'resnet50'. For the pretrained model we use resnet18 so we need to use 'resnet18' in the config.\n",
    " - **weight_path:** path to the pretrained model. If you don't have a pretrained model and want to train from scratch, put **weight_path** = False. \n",
    " - **model_name:** the name of the model that will be saved as output, this is only when **train**= True.\n",
    " - **train:** True if you want to continue to train the model. Unfortunately due to Kaggle memory constraint if **train**=True then you should put **predict** = False.\n",
    " - **predict:** True if you want to predict and submit to Kaggle. Unfortunately due to Kaggle memory constraint if you want to predict then you need  to put **train** = False.\n",
    " - **lr:** learning rate of the model, feel free to change as you see fit. In the future I also plan to implement learning rate decay. \n",
    " - **raster_size:** specify the size of the image, the default is [224,224]. Increase **raster_size** can improve the score. However the training time will be significantly longer. \n",
    " - **batch_size:** number of inputs for one forward pass, again one of the parameters to tune. \n",
    " - **max_num_steps:** the number of iterations to train, i.e. number of epochs.\n",
    " - **checkpoint_every_n_steps:** the model will be saved at every n steps, again change this number as to how you want to keep track of the model."
   ]
  },
  {
   "cell_type": "markdown",
   "metadata": {
    "_cell_guid": "4b11e0f8-7e38-464b-ab1f-a131b22dff02",
    "_uuid": "8dac7b00-95c2-4b2d-9f73-c9838bdb3906"
   },
   "source": [
    "## Load the train and test data"
   ]
  },
  {
   "cell_type": "code",
   "execution_count": null,
   "metadata": {
    "_cell_guid": "9a913a37-b1a4-4c61-8478-3f48996cee24",
    "_uuid": "6c2a2142-5e34-444a-852d-81ca55361abf"
   },
   "outputs": [],
   "source": [
    "# # set env variable for data\n",
    "# DIR_INPUT = cfg[\"data_path\"]\n",
    "# os.environ[\"L5KIT_DATA_FOLDER\"] = DIR_INPUT\n",
    "# dm = LocalDataManager(None)"
   ]
  },
  {
   "cell_type": "code",
   "execution_count": null,
   "metadata": {
    "_cell_guid": "453fb482-45ac-4c3f-8d82-4561bf914f83",
    "_uuid": "e395d2c9-d06f-4540-be4e-5a3bc96e3445"
   },
   "outputs": [],
   "source": [
    "# # ===== INIT TRAIN DATASET============================================================\n",
    "# train_cfg = cfg[\"train_data_loader\"]\n",
    "# rasterizer = build_rasterizer(cfg, dm)\n",
    "# train_zarr = ChunkedDataset(dm.require(train_cfg[\"key\"])).open()\n",
    "\n",
    "# #create mask \n",
    "\n",
    "\n",
    "# train_dataset = AgentDataset(cfg, train_zarr, rasterizer)\n",
    "# train_dataloader = DataLoader(train_dataset, shuffle=train_cfg[\"shuffle\"], batch_size=train_cfg[\"batch_size\"], \n",
    "#                              num_workers=train_cfg[\"num_workers\"])\n",
    "# print(\"==================================TRAIN DATA==================================\")\n",
    "# print(train_dataset)"
   ]
  },
  {
   "cell_type": "code",
   "execution_count": null,
   "metadata": {
    "_cell_guid": "41252031-01eb-411f-8f14-65616789af87",
    "_uuid": "bb5f2985-4409-4eec-bbcd-3b56420642c1"
   },
   "outputs": [],
   "source": [
    "# import pickle\n",
    "# with open('train_zarr.pickle', 'wb') as handle:\n",
    "#     pickle.dump(train_zarr, handle, protocol=pickle.HIGHEST_PROTOCOL)"
   ]
  },
  {
   "cell_type": "code",
   "execution_count": null,
   "metadata": {},
   "outputs": [],
   "source": [
    "# with open('train_dataset.pickle', 'wb') as handle:\n",
    "#     pickle.dump(train_dataset, handle, protocol=pickle.HIGHEST_PROTOCOL)"
   ]
  },
  {
   "cell_type": "markdown",
   "metadata": {
    "_cell_guid": "b7226655-215d-43bf-9b25-dc23c323fb79",
    "_uuid": "e55011fc-bea6-43e2-aa67-82e29dd4a81e"
   },
   "source": [
    "## Simple visualization"
   ]
  },
  {
   "cell_type": "markdown",
   "metadata": {
    "_cell_guid": "9b2ba711-06ce-4b19-a9a0-fa2c3980ee60",
    "_uuid": "79dad700-6e31-4bf9-b5cb-dd249f7af18c"
   },
   "source": [
    "Let us visualize how an input to the model looks like."
   ]
  },
  {
   "cell_type": "code",
   "execution_count": null,
   "metadata": {
    "_cell_guid": "d378c3cb-76fc-4798-8908-8d4da1ae4d91",
    "_uuid": "804f1302-710f-420a-be91-08224194f1da"
   },
   "outputs": [],
   "source": [
    "# def visualize_trajectory(dataset, index, title=\"target_positions movement with draw_trajectory\"):\n",
    "#     data = dataset[index]\n",
    "#     im = data[\"image\"].transpose(1, 2, 0)\n",
    "#     im = dataset.rasterizer.to_rgb(im)\n",
    "#     target_positions_pixels = transform_points(data[\"target_positions\"] + data[\"centroid\"][:2], data[\"world_to_image\"])\n",
    "#     draw_trajectory(im, target_positions_pixels, TARGET_POINTS_COLOR, radius=1, yaws=data[\"target_yaws\"])\n",
    "\n",
    "#     plt.title(title)\n",
    "#     plt.imshow(im[::-1])\n",
    "#     plt.show()"
   ]
  },
  {
   "cell_type": "code",
   "execution_count": null,
   "metadata": {
    "_cell_guid": "0cb4411b-80b5-43c4-8bc9-543388f3579a",
    "_uuid": "8776410d-e7ba-41aa-ad0e-8374de7992d9"
   },
   "outputs": [],
   "source": [
    "# plt.figure(figsize = (8,6))\n",
    "# visualize_trajectory(train_dataset, index=90)"
   ]
  },
  {
   "cell_type": "markdown",
   "metadata": {
    "_cell_guid": "95265cb4-70bd-4f62-b516-25ba0e8a064c",
    "_uuid": "6c57c63b-5161-4e47-91ba-655b934953c5"
   },
   "source": [
    "## Model"
   ]
  },
  {
   "cell_type": "markdown",
   "metadata": {
    "_cell_guid": "0aff144d-d4a2-4a16-b182-3fa06736c6af",
    "_uuid": "1b1b920c-4579-45ab-94f0-d582bf399562"
   },
   "source": [
    "Next we define the baseline model. Note that this model will return three possible trajectories together with confidence score for each trajectory."
   ]
  },
  {
   "cell_type": "markdown",
   "metadata": {},
   "source": [
    "**Our Baseline Model**"
   ]
  },
  {
   "cell_type": "code",
   "execution_count": null,
   "metadata": {},
   "outputs": [],
   "source": [
    "# class SimpleNet(nn.Module):\n",
    "#   def __init__(self, cfg):\n",
    "#     super(SimpleNet, self).__init__()\n",
    "#     num_targets = 2 * cfg[\"model_params\"][\"future_num_frames\"]\n",
    "#     self.net = nn.Sequential(nn.Conv2d(25, 5, kernel_size = 3, padding=1),\n",
    "#                              nn.ReLU(),\n",
    "#                              nn.Conv2d(5, 2, kernel_size = 3, padding=1),\n",
    "#                              nn.Flatten(),\n",
    "#                              nn.Linear(224*224*2, num_targets)\n",
    "#                              )\n",
    "#   def forward(self, x):\n",
    "#     x = self.net(x)\n",
    "#     return x\n",
    "\n",
    "# def forward(data, model, device, criterion):\n",
    "#     inputs = data[\"image\"].to(device)\n",
    "#     target_availabilities = data[\"target_availabilities\"].unsqueeze(-1).to(device)\n",
    "#     targets = data[\"target_positions\"].to(device)\n",
    "#     # Forward pass\n",
    "#     outputs = model(inputs).reshape(targets.shape)\n",
    "#     loss = criterion(outputs, targets)\n",
    "#     # not all the output steps are valid, but we can filter them out from the loss using availabilities\n",
    "#     loss = loss * target_availabilities\n",
    "#     loss = loss.mean()\n",
    "#     return loss, outputs\n",
    "\n",
    "# # ==== INIT MODEL\n",
    "# device = torch.device(\"cuda:0\" if torch.cuda.is_available() else \"cpu\")\n",
    "# model = SimpleNet(cfg).to(device)\n",
    "# optimizer = optim.Adam(model.parameters(), lr=1e-3)\n",
    "# criterion = nn.MSELoss(reduction=\"none\")\n",
    "\n",
    "# # ==== TRAIN LOOP\n",
    "# tr_it = iter(train_dataloader)\n",
    "# progress_bar = tqdm(range(400))\n",
    "# losses_train = []\n",
    "# for _ in progress_bar:\n",
    "#     try:\n",
    "#         data = next(tr_it)\n",
    "#     except StopIteration:\n",
    "#         tr_it = iter(train_dataloader)\n",
    "#         data = next(tr_it)\n",
    "#     model.train()\n",
    "#     torch.set_grad_enabled(True)\n",
    "#     loss, out = forward(data, model, device, criterion)\n",
    "\n",
    "#     # Backward pass\n",
    "#     optimizer.zero_grad()\n",
    "#     loss.backward()\n",
    "#     optimizer.step()\n",
    "\n",
    "#     losses_train.append(loss.item())\n",
    "#     progress_bar.set_description(f\"loss: {loss.item()} loss(avg): {np.mean(losses_train)}\")\n",
    "\n",
    "# plt.plot(np.arange(len(losses_train)), losses_train, label=\"train loss\")\n",
    "# plt.legend()\n",
    "# plt.show()\n",
    "\n",
    "# cfg[\"val_data_loader\"]\n",
    "\n",
    "# # ===== GENERATE AND LOAD CHOPPED DATASET\n",
    "# import shutil\n",
    "# num_frames_to_chop = 100\n",
    "# eval_cfg = cfg[\"val_data_loader\"]\n",
    "# !rm -rf /tmp/lyft\n",
    "# eval_dir = shutil.copytree(dm.require(eval_cfg[\"key\"]), '/tmp/lyft/sample.zarr')\n",
    "\n",
    "# eval_base_path = create_chopped_dataset(eval_dir, cfg[\"raster_params\"][\"filter_agents_threshold\"], \n",
    "#                               num_frames_to_chop, cfg[\"model_params\"][\"future_num_frames\"], MIN_FUTURE_STEPS)\n",
    "# !ls {eval_base_path}\n",
    "\n",
    "\n",
    "# eval_base_path\n",
    "\n",
    "# eval_zarr_path = str(Path(eval_base_path) / \"sample.zarr\")\n",
    "# eval_mask_path = str(Path(eval_base_path) / \"mask.npz\")\n",
    "# eval_gt_path = str(Path(eval_base_path) / \"gt.csv\")\n",
    "\n",
    "# eval_zarr_path\n",
    "\n",
    "# eval_zarr = ChunkedDataset(eval_zarr_path).open()\n",
    "# eval_mask = np.load(eval_mask_path)[\"arr_0\"]\n",
    "# # ===== INIT DATASET AND LOAD MASK\n",
    "# eval_dataset = AgentDataset(cfg, eval_zarr, rasterizer, agents_mask=eval_mask)\n",
    "# eval_dataloader = DataLoader(eval_dataset, shuffle=eval_cfg[\"shuffle\"], batch_size=eval_cfg[\"batch_size\"], \n",
    "#                              num_workers=eval_cfg[\"num_workers\"])"
   ]
  },
  {
   "cell_type": "markdown",
   "metadata": {
    "_cell_guid": "7f4ded99-bee8-45f1-88e3-06192654baa5",
    "_uuid": "fbe8e9c6-52b2-4dcd-a749-d32d8eee4900"
   },
   "source": [
    "## Prediction"
   ]
  },
  {
   "cell_type": "code",
   "execution_count": null,
   "metadata": {
    "_cell_guid": "ddc7c711-5118-4017-9c3e-9528c904e431",
    "_uuid": "cc104a21-05d0-4774-9ca9-12d55b413a96"
   },
   "outputs": [],
   "source": [
    "# # ==== EVAL LOOP\n",
    "# model.eval()\n",
    "# torch.set_grad_enabled(False)\n",
    "\n",
    "# # store information for evaluation\n",
    "# future_coords_offsets_pd = []\n",
    "# timestamps = []\n",
    "# agent_ids = []\n",
    "\n",
    "# progress_bar = tqdm(eval_dataloader)\n",
    "# for data in progress_bar:\n",
    "#     _, ouputs = forward(data, model, device, criterion)\n",
    "    \n",
    "#     # convert agent coordinates into world offsets\n",
    "#     agents_coords = ouputs.cpu().numpy()[0].squeeze()\n",
    "#     world_from_agents = data[\"world_from_agent\"].numpy()[0].squeeze()\n",
    "#     centroids = data[\"centroid\"].numpy()\n",
    "#     coords_offset = transform_points(agents_coords, world_from_agents) - centroids[:, None, :2]\n",
    "    \n",
    "#     future_coords_offsets_pd.append(np.stack(coords_offset))\n",
    "#     timestamps.append(data[\"timestamp\"].numpy().copy())\n",
    "#     agent_ids.append(data[\"track_id\"].numpy().copy())"
   ]
  },
  {
   "cell_type": "code",
   "execution_count": null,
   "metadata": {},
   "outputs": [],
   "source": [
    "# pred_path = f\"{gettempdir()}/pred.csv\"\n",
    "\n",
    "# write_pred_csv(pred_path,\n",
    "#                timestamps=np.concatenate(timestamps),\n",
    "#                track_ids=np.concatenate(agent_ids),\n",
    "#                coords=np.concatenate(future_coords_offsets_pd),\n",
    "#               )"
   ]
  },
  {
   "cell_type": "code",
   "execution_count": null,
   "metadata": {},
   "outputs": [],
   "source": [
    "# metrics = compute_metrics_csv(eval_gt_path, pred_path, [neg_multi_log_likelihood, time_displace])\n",
    "# for metric_name, metric_mean in metrics.items():\n",
    "#     print(metric_name, metric_mean)"
   ]
  },
  {
   "cell_type": "code",
   "execution_count": null,
   "metadata": {},
   "outputs": [],
   "source": [
    "# cd .."
   ]
  },
  {
   "cell_type": "code",
   "execution_count": null,
   "metadata": {},
   "outputs": [],
   "source": [
    "print(\"Hi!\")\n",
    "!cp -r /kaggle/usr/lib/lyft_l5kit_unofficial_fix/l5kit /kaggle/working\n",
    "print(\"Done copy!\")"
   ]
  },
  {
   "cell_type": "code",
   "execution_count": null,
   "metadata": {},
   "outputs": [],
   "source": [
    "!cp -r /kaggle/usr/lib/lyft_l5kit_unofficial_fix/l5kit/geometry /kaggle/working\n"
   ]
  },
  {
   "cell_type": "code",
   "execution_count": null,
   "metadata": {},
   "outputs": [],
   "source": [
    "!cp -r /kaggle/usr/lib/lyft_l5kit_unofficial_fix/l5kit /kaggle/working"
   ]
  },
  {
   "cell_type": "code",
   "execution_count": 44,
   "metadata": {},
   "outputs": [
    {
     "name": "stdout",
     "output_type": "stream",
     "text": [
      "__init__.py  \u001b[0m\u001b[01;34m__pycache__\u001b[0m/  agent_sampling.py  slicing.py\n"
     ]
    }
   ],
   "source": [
    "ls sampling"
   ]
  },
  {
   "cell_type": "code",
   "execution_count": 45,
   "metadata": {},
   "outputs": [
    {
     "name": "stdout",
     "output_type": "stream",
     "text": [
      "cp: cannot stat '/kaggle/usr/lib/lyft_l5kit_unofficial_fix/l5kit/data/sampling/__init__.py': No such file or directory\n"
     ]
    }
   ],
   "source": [
    "!cp -r /kaggle/usr/lib/lyft_l5kit_unofficial_fix/l5kit/data/sampling/__init__.py  /kaggle/working"
   ]
  },
  {
   "cell_type": "code",
   "execution_count": null,
   "metadata": {},
   "outputs": [],
   "source": [
    "rm "
   ]
  },
  {
   "cell_type": "code",
   "execution_count": null,
   "metadata": {},
   "outputs": [],
   "source": [
    "# model.eval()\n",
    "# torch.set_grad_enabled(False)\n",
    "\n",
    "# # build a dict to retrieve future trajectories from GT\n",
    "# gt_rows = {}\n",
    "# for row in read_gt_csv(eval_gt_path):\n",
    "#     gt_rows[row[\"track_id\"] + row[\"timestamp\"]] = row[\"coord\"]\n",
    "\n",
    "# eval_ego_dataset = EgoDataset(cfg, eval_dataset.dataset, rasterizer)\n",
    "\n",
    "# for frame_number in range(99, len(eval_zarr.frames), 100):  # start from last frame of scene_0 and increase by 100\n",
    "#     agent_indices = eval_dataset.get_frame_indices(frame_number) \n",
    "#     if not len(agent_indices):\n",
    "#         continue\n",
    "\n",
    "#     # get AV point-of-view frame\n",
    "#     data_ego = eval_ego_dataset[frame_number]\n",
    "#     im_ego = rasterizer.to_rgb(data_ego[\"image\"].transpose(1, 2, 0))\n",
    "#     center = np.asarray(cfg[\"raster_params\"][\"ego_center\"]) * cfg[\"raster_params\"][\"raster_size\"]\n",
    "    \n",
    "#     predicted_positions = []\n",
    "#     target_positions = []\n",
    "\n",
    "#     for v_index in agent_indices:\n",
    "#         data_agent = eval_dataset[v_index]\n",
    "\n",
    "#         out_net = model(torch.from_numpy(data_agent[\"image\"]).unsqueeze(0).to(device))\n",
    "#         out_pos = out_net[0].reshape(-1, 2).detach().cpu().numpy()\n",
    "#         # store absolute world coordinates\n",
    "#         predicted_positions.append(transform_points(out_pos, data_agent[\"world_from_agent\"]))\n",
    "#         # retrieve target positions from the GT and store as absolute coordinates\n",
    "#         track_id, timestamp = data_agent[\"track_id\"], data_agent[\"timestamp\"]\n",
    "#         target_positions.append(gt_rows[str(track_id) + str(timestamp)] + data_agent[\"centroid\"][:2])\n",
    "\n",
    "\n",
    "#     # convert coordinates to AV point-of-view so we can draw them\n",
    "#     predicted_positions = transform_points(np.concatenate(predicted_positions), data_ego[\"raster_from_world\"])\n",
    "#     target_positions = transform_points(np.concatenate(target_positions), data_ego[\"raster_from_world\"])\n",
    "\n",
    "#     draw_trajectory(im_ego, predicted_positions, PREDICTED_POINTS_COLOR)\n",
    "#     draw_trajectory(im_ego, target_positions, TARGET_POINTS_COLOR)\n",
    "\n",
    "#     plt.imshow(im_ego)\n",
    "#     plt.show()"
   ]
  },
  {
   "cell_type": "markdown",
   "metadata": {},
   "source": [
    "# SAMPLE SUBMISSION (DO NOT USE)"
   ]
  },
  {
   "cell_type": "code",
   "execution_count": null,
   "metadata": {
    "_cell_guid": "24841164-b70d-4c18-87a3-47a7a4db58fb",
    "_uuid": "b27d1c41-60eb-495b-83e2-2d9ed333a7a7"
   },
   "outputs": [],
   "source": [
    "# class LyftMultiModel(nn.Module):\n",
    "\n",
    "#     def __init__(self, cfg: Dict, num_modes=3):\n",
    "#         super().__init__()\n",
    "\n",
    "#         architecture = cfg[\"model_params\"][\"model_architecture\"]\n",
    "#         backbone = eval(architecture)(pretrained=True, progress=True)\n",
    "#         self.backbone = backbone\n",
    "\n",
    "#         num_history_channels = (cfg[\"model_params\"][\"history_num_frames\"] + 1) * 2\n",
    "#         num_in_channels = 3 + num_history_channels\n",
    "\n",
    "#         self.backbone.conv1 = nn.Conv2d(\n",
    "#             num_in_channels,\n",
    "#             self.backbone.conv1.out_channels,\n",
    "#             kernel_size=self.backbone.conv1.kernel_size,\n",
    "#             stride=self.backbone.conv1.stride,\n",
    "#             padding=self.backbone.conv1.padding,\n",
    "#             bias=False,\n",
    "#         )\n",
    "\n",
    "#         # This is 512 for resnet18 and resnet34;\n",
    "#         # And it is 2048 for the other resnets\n",
    "        \n",
    "#         if architecture == \"resnet50\":\n",
    "#             backbone_out_features = 2048\n",
    "#         else:\n",
    "#             backbone_out_features = 512\n",
    "\n",
    "#         # X, Y coords for the future positions (output shape: batch_sizex50x2)\n",
    "#         self.future_len = cfg[\"model_params\"][\"future_num_frames\"]\n",
    "#         num_targets = 2 * self.future_len\n",
    "\n",
    "#         # You can add more layers here.\n",
    "#         self.head = nn.Sequential(\n",
    "#             # nn.Dropout(0.2),\n",
    "#             nn.Linear(in_features=backbone_out_features, out_features=4096),\n",
    "#         )\n",
    "\n",
    "#         self.num_preds = num_targets * num_modes\n",
    "#         self.num_modes = num_modes\n",
    "\n",
    "#         self.logit = nn.Linear(4096, out_features=self.num_preds + num_modes)\n",
    "\n",
    "#     def forward(self, x):\n",
    "#         x = self.backbone.conv1(x)\n",
    "#         x = self.backbone.bn1(x)\n",
    "#         x = self.backbone.relu(x)\n",
    "#         x = self.backbone.maxpool(x)\n",
    "\n",
    "#         x = self.backbone.layer1(x)\n",
    "#         x = self.backbone.layer2(x)\n",
    "#         x = self.backbone.layer3(x)\n",
    "#         x = self.backbone.layer4(x)\n",
    "\n",
    "#         x = self.backbone.avgpool(x)\n",
    "#         x = torch.flatten(x, 1)\n",
    "\n",
    "#         x = self.head(x)\n",
    "#         x = self.logit(x)\n",
    "\n",
    "#         # pred (batch_size)x(modes)x(time)x(2D coords)\n",
    "#         # confidences (batch_size)x(modes)\n",
    "#         bs, _ = x.shape\n",
    "#         pred, confidences = torch.split(x, self.num_preds, dim=1)\n",
    "#         pred = pred.view(bs, self.num_modes, self.future_len, 2)\n",
    "#         assert confidences.shape == (bs, self.num_modes)\n",
    "#         confidences = torch.softmax(confidences, dim=1)\n",
    "#         return pred, confidences"
   ]
  },
  {
   "cell_type": "code",
   "execution_count": null,
   "metadata": {
    "_cell_guid": "a9c2ae33-79c8-46d1-b2f9-5341f1a95643",
    "_uuid": "1b2bdd99-20a5-492d-ba52-0a764a1a65be"
   },
   "outputs": [],
   "source": [
    "# def forward(data, model, device, criterion = pytorch_neg_multi_log_likelihood_batch):\n",
    "#     inputs = data[\"image\"].to(device)\n",
    "#     target_availabilities = data[\"target_availabilities\"].to(device)\n",
    "#     targets = data[\"target_positions\"].to(device)\n",
    "#     # Forward pass\n",
    "#     preds, confidences = model(inputs)\n",
    "#     loss = criterion(targets, preds, confidences, target_availabilities)\n",
    "#     return loss, preds, confidences"
   ]
  },
  {
   "cell_type": "code",
   "execution_count": null,
   "metadata": {
    "_cell_guid": "e30df536-f939-4e0c-8e27-75e910fef30b",
    "_uuid": "78825fc2-fb86-4433-a720-d0173a64fce0"
   },
   "outputs": [],
   "source": [
    "# # --- Function utils ---\n",
    "# # Original code from https://github.com/lyft/l5kit/blob/20ab033c01610d711c3d36e1963ecec86e8b85b6/l5kit/l5kit/evaluation/metrics.py\n",
    "# import numpy as np\n",
    "\n",
    "# import torch\n",
    "# from torch import Tensor\n",
    "\n",
    "\n",
    "# def pytorch_neg_multi_log_likelihood_batch(\n",
    "#     gt: Tensor, pred: Tensor, confidences: Tensor, avails: Tensor\n",
    "# ) -> Tensor:\n",
    "#     \"\"\"\n",
    "#     Compute a negative log-likelihood for the multi-modal scenario.\n",
    "#     log-sum-exp trick is used here to avoid underflow and overflow, For more information about it see:\n",
    "#     https://en.wikipedia.org/wiki/LogSumExp#log-sum-exp_trick_for_log-domain_calculations\n",
    "#     https://timvieira.github.io/blog/post/2014/02/11/exp-normalize-trick/\n",
    "#     https://leimao.github.io/blog/LogSumExp/\n",
    "#     Args:\n",
    "#         gt (Tensor): array of shape (bs)x(time)x(2D coords)\n",
    "#         pred (Tensor): array of shape (bs)x(modes)x(time)x(2D coords)\n",
    "#         confidences (Tensor): array of shape (bs)x(modes) with a confidence for each mode in each sample\n",
    "#         avails (Tensor): array of shape (bs)x(time) with the availability for each gt timestep\n",
    "#     Returns:\n",
    "#         Tensor: negative log-likelihood for this example, a single float number\n",
    "#     \"\"\"\n",
    "#     assert len(pred.shape) == 4, f\"expected 3D (MxTxC) array for pred, got {pred.shape}\"\n",
    "#     batch_size, num_modes, future_len, num_coords = pred.shape\n",
    "\n",
    "#     assert gt.shape == (batch_size, future_len, num_coords), f\"expected 2D (Time x Coords) array for gt, got {gt.shape}\"\n",
    "#     assert confidences.shape == (batch_size, num_modes), f\"expected 1D (Modes) array for gt, got {confidences.shape}\"\n",
    "#     assert torch.allclose(torch.sum(confidences, dim=1), confidences.new_ones((batch_size,))), \"confidences should sum to 1\"\n",
    "#     assert avails.shape == (batch_size, future_len), f\"expected 1D (Time) array for gt, got {avails.shape}\"\n",
    "#     # assert all data are valid\n",
    "#     assert torch.isfinite(pred).all(), \"invalid value found in pred\"\n",
    "#     assert torch.isfinite(gt).all(), \"invalid value found in gt\"\n",
    "#     assert torch.isfinite(confidences).all(), \"invalid value found in confidences\"\n",
    "#     assert torch.isfinite(avails).all(), \"invalid value found in avails\"\n",
    "\n",
    "#     # convert to (batch_size, num_modes, future_len, num_coords)\n",
    "#     gt = torch.unsqueeze(gt, 1)  # add modes\n",
    "#     avails = avails[:, None, :, None]  # add modes and cords\n",
    "\n",
    "#     # error (batch_size, num_modes, future_len)\n",
    "#     error = torch.sum(((gt - pred) * avails) ** 2, dim=-1)  # reduce coords and use availability\n",
    "\n",
    "#     with np.errstate(divide=\"ignore\"):  # when confidence is 0 log goes to -inf, but we're fine with it\n",
    "#         # error (batch_size, num_modes)\n",
    "#         error = torch.log(confidences) - 0.5 * torch.sum(error, dim=-1)  # reduce time\n",
    "\n",
    "#     # use max aggregator on modes for numerical stability\n",
    "#     # error (batch_size, num_modes)\n",
    "#     max_value, _ = error.max(dim=1, keepdim=True)  # error are negative at this point, so max() gives the minimum one\n",
    "#     error = -torch.log(torch.sum(torch.exp(error - max_value), dim=-1, keepdim=True)) - max_value  # reduce modes\n",
    "#     # print(\"error\", error)\n",
    "#     return torch.mean(error)\n",
    "\n",
    "\n",
    "# def pytorch_neg_multi_log_likelihood_single(\n",
    "#     gt: Tensor, pred: Tensor, avails: Tensor\n",
    "# ) -> Tensor:\n",
    "#     \"\"\"\n",
    "\n",
    "#     Args:\n",
    "#         gt (Tensor): array of shape (bs)x(time)x(2D coords)\n",
    "#         pred (Tensor): array of shape (bs)x(time)x(2D coords)\n",
    "#         avails (Tensor): array of shape (bs)x(time) with the availability for each gt timestep\n",
    "#     Returns:\n",
    "#         Tensor: negative log-likelihood for this example, a single float number\n",
    "#     \"\"\"\n",
    "#     # pred (bs)x(time)x(2D coords) --> (bs)x(mode=1)x(time)x(2D coords)\n",
    "#     # create confidence (bs)x(mode=1)\n",
    "#     batch_size, future_len, num_coords = pred.shape\n",
    "#     confidences = pred.new_ones((batch_size, 1))\n",
    "#     return pytorch_neg_multi_log_likelihood_batch(gt, pred.unsqueeze(1), confidences, avails)"
   ]
  },
  {
   "cell_type": "code",
   "execution_count": null,
   "metadata": {
    "_cell_guid": "69846582-22e3-4130-b5d6-0c155d8e7a75",
    "_uuid": "564a7eb9-6516-465e-899a-a4ad156c22f2"
   },
   "outputs": [],
   "source": [
    "# # ==== INIT MODEL=================\n",
    "# device = torch.device(\"cuda:0\" if torch.cuda.is_available() else \"cpu\")\n",
    "# model = LyftMultiModel(cfg)\n",
    "\n",
    "# #load weight if there is a pretrained model\n",
    "# weight_path = cfg[\"model_params\"][\"weight_path\"]\n",
    "# if weight_path:\n",
    "#     model.load_state_dict(torch.load(weight_path))\n",
    "\n",
    "# model.to(device)\n",
    "# optimizer = optim.Adam(model.parameters(), lr=cfg[\"model_params\"][\"lr\"])\n",
    "# print(f'device {device}')"
   ]
  },
  {
   "cell_type": "code",
   "execution_count": null,
   "metadata": {
    "_cell_guid": "75f5cb2d-8831-47a5-84d1-83e054db902e",
    "_uuid": "1c3e5880-d97c-47a7-af63-24a1111ec023"
   },
   "outputs": [],
   "source": [
    "# # ==== TRAINING LOOP =========================================================\n",
    "# if cfg[\"model_params\"][\"train\"]:\n",
    "    \n",
    "#     tr_it = iter(train_dataloader)\n",
    "#     progress_bar = tqdm(range(cfg[\"train_params\"][\"max_num_steps\"]))\n",
    "#     num_iter = cfg[\"train_params\"][\"max_num_steps\"]\n",
    "#     losses_train = []\n",
    "#     iterations = []\n",
    "#     metrics = []\n",
    "#     times = []\n",
    "#     model_name = cfg[\"model_params\"][\"model_name\"]\n",
    "#     start = time.time()\n",
    "#     for i in progress_bar:\n",
    "#         try:\n",
    "#             data = next(tr_it)\n",
    "#         except StopIteration:\n",
    "#             tr_it = iter(train_dataloader)\n",
    "#             data = next(tr_it)\n",
    "#         model.train()\n",
    "#         torch.set_grad_enabled(True)\n",
    "        \n",
    "#         loss, _, _ = forward(data, model, device)\n",
    "\n",
    "#         # Backward pass\n",
    "#         optimizer.zero_grad()\n",
    "#         loss.backward()\n",
    "#         optimizer.step()\n",
    "\n",
    "#         losses_train.append(loss.item())\n",
    "\n",
    "#         progress_bar.set_description(f\"loss: {loss.item()} loss(avg): {np.mean(losses_train)}\")\n",
    "#         if i % cfg['train_params']['checkpoint_every_n_steps'] == 0:\n",
    "#             torch.save(model.state_dict(), f'{model_name}_{i}.pth')\n",
    "#             iterations.append(i)\n",
    "#             metrics.append(np.mean(losses_train))\n",
    "#             times.append((time.time()-start)/60)\n",
    "\n",
    "#     results = pd.DataFrame({'iterations': iterations, 'metrics (avg)': metrics, 'elapsed_time (mins)': times})\n",
    "#     results.to_csv(f\"train_metrics_{model_name}_{num_iter}.csv\", index = False)\n",
    "#     print(f\"Total training time is {(time.time()-start)/60} mins\")\n",
    "#     print(results.head())"
   ]
  },
  {
   "cell_type": "markdown",
   "metadata": {
    "_cell_guid": "eaa702d0-84ce-4351-8892-a06f733f51b1",
    "_uuid": "e8f01800-6493-47b2-91bb-9b07b86fa3c8"
   },
   "source": [
    "<h3 style=\"color:red\">That is it. Feel free to modify this kernel as you wish. Let me know your suggestions in the comments below.</h3>\n",
    "<h3 style=\"color:red\"> Please upvote if this kernel helps you. Thanks!</h3>"
   ]
  }
 ],
 "metadata": {
  "kernelspec": {
   "display_name": "Python 3",
   "language": "python",
   "name": "python3"
  },
  "language_info": {
   "codemirror_mode": {
    "name": "ipython",
    "version": 3
   },
   "file_extension": ".py",
   "mimetype": "text/x-python",
   "name": "python",
   "nbconvert_exporter": "python",
   "pygments_lexer": "ipython3",
   "version": "3.7.10"
  }
 },
 "nbformat": 4,
 "nbformat_minor": 4
}
