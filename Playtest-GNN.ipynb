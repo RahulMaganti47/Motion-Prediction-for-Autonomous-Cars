{
 "cells": [
  {
   "cell_type": "markdown",
   "metadata": {
    "_cell_guid": "9604b3aa-fc80-4aeb-a7e4-923b636ba10e",
    "_uuid": "f3373c21-6bac-4165-8654-5c2708a73cd5"
   },
   "source": [
    "# Playtesting Notebook\n"
   ]
  },
  {
   "cell_type": "markdown",
   "metadata": {
    "_cell_guid": "edf7c88a-19a1-407f-a79e-f0ff73e6638f",
    "_uuid": "058bc828-59fb-447d-8a14-fd2aec1b40c0"
   },
   "source": [
    "# Environment setup"
   ]
  },
  {
   "cell_type": "code",
   "execution_count": 1,
   "metadata": {},
   "outputs": [],
   "source": [
    "# !pip -q install l5kit==1.1.0"
   ]
  },
  {
   "cell_type": "code",
   "execution_count": 2,
   "metadata": {},
   "outputs": [
    {
     "name": "stdout",
     "output_type": "stream",
     "text": [
      "^C\r\n",
      "\u001b[31mERROR: Operation cancelled by user\u001b[0m\r\n"
     ]
    }
   ],
   "source": [
    "# !pip -q install timm"
   ]
  },
  {
   "cell_type": "code",
   "execution_count": 17,
   "metadata": {
    "_cell_guid": "81928957-d34d-4d86-bad6-103735298d27",
    "_uuid": "8954fe1d-10be-4967-bf33-f3000ab56cef",
    "jupyter": {
     "outputs_hidden": false
    }
   },
   "outputs": [],
   "source": [
    "from typing import Dict\n",
    "\n",
    "from tempfile import gettempdir\n",
    "import matplotlib.pyplot as plt\n",
    "import numpy as np\n",
    "import pandas as pd\n",
    "import torch\n",
    "from torch import nn, optim\n",
    "from torch.nn import functional as F\n",
    "from torch.utils.data import DataLoader\n",
    "from torch import Tensor\n",
    "from torchvision.models.resnet import resnet50, resnet18, resnet34, resnet101\n",
    "from tqdm import tqdm\n",
    "\n",
    "import l5kit\n",
    "from l5kit.configs import load_config_data\n",
    "from l5kit.data import LocalDataManager, ChunkedDataset\n",
    "from l5kit.dataset import AgentDataset, EgoDataset\n",
    "from l5kit.rasterization import build_rasterizer\n",
    "from l5kit.evaluation import write_pred_csv, compute_metrics_csv, read_gt_csv, create_chopped_dataset\n",
    "from l5kit.evaluation.chop_dataset import MIN_FUTURE_STEPS\n",
    "from l5kit.evaluation.metrics import neg_multi_log_likelihood, time_displace\n",
    "from l5kit.geometry import transform_points\n",
    "from l5kit.visualization import PREDICTED_POINTS_COLOR, TARGET_POINTS_COLOR, draw_trajectory\n",
    "from prettytable import PrettyTable\n",
    "from pathlib import Path\n",
    "\n",
    "import matplotlib.pyplot as plt\n",
    "\n",
    "import os\n",
    "import random\n",
    "import time\n",
    "\n",
    "import warnings\n",
    "warnings.filterwarnings(\"ignore\")"
   ]
  },
  {
   "cell_type": "code",
   "execution_count": 18,
   "metadata": {},
   "outputs": [],
   "source": [
    "import sys\n",
    "import timm"
   ]
  },
  {
   "cell_type": "code",
   "execution_count": 19,
   "metadata": {
    "_cell_guid": "2914b43f-bc21-4f64-a65e-8c29a58c8b5c",
    "_uuid": "57dc5124-0802-4351-8b34-61bcf5781094",
    "jupyter": {
     "outputs_hidden": false
    }
   },
   "outputs": [
    {
     "data": {
      "text/plain": [
       "'1.1.0'"
      ]
     },
     "execution_count": 19,
     "metadata": {},
     "output_type": "execute_result"
    }
   ],
   "source": [
    "l5kit.__version__"
   ]
  },
  {
   "cell_type": "code",
   "execution_count": 20,
   "metadata": {
    "_cell_guid": "46540e4a-7aed-4f9a-86df-4b344a51af5d",
    "_uuid": "82c9404f-4c3a-43cf-90ba-55760b90623d",
    "jupyter": {
     "outputs_hidden": false
    }
   },
   "outputs": [],
   "source": [
    "def set_seed(seed):\n",
    "    random.seed(seed)\n",
    "    np.random.seed(seed)\n",
    "    os.environ[\"PYTHONHASHSEED\"] = str(seed)\n",
    "    torch.manual_seed(seed)\n",
    "    torch.cuda.manual_seed(seed)\n",
    "    \n",
    "set_seed(42)"
   ]
  },
  {
   "cell_type": "markdown",
   "metadata": {
    "_cell_guid": "c1219407-278d-41b6-8d59-303634611cc0",
    "_uuid": "5736a42f-c677-4670-b8ba-3e0e001f8305"
   },
   "source": [
    "## Configs"
   ]
  },
  {
   "cell_type": "code",
   "execution_count": 21,
   "metadata": {
    "_cell_guid": "8f1f25fa-94e9-4e57-bc52-cde360ba183c",
    "_uuid": "709967c2-d9d6-44eb-8f94-d81e4d91a905",
    "jupyter": {
     "outputs_hidden": false
    }
   },
   "outputs": [],
   "source": [
    "# --- Lyft configs ---\n",
    "cfg = {\n",
    "    'format_version': 4,\n",
    "    'data_path': \"lyft_dataset\",\n",
    "    'model_params': {\n",
    "        'model_architecture': 'resnet34',\n",
    "        'history_num_frames': 10,\n",
    "        'history_step_size': 1,\n",
    "        'history_delta_time': 0.1,\n",
    "        'future_num_frames': 50,\n",
    "        'future_step_size': 1,\n",
    "        'future_delta_time': 0.1,\n",
    "        'model_name': \"model_resnet34_output\",\n",
    "        \"LSTM_hidden_size\": 64,\n",
    "        \"alpha\": 0.1,\n",
    "        \"num_trajectories\":3,\n",
    "        'lr': 1e-3,\n",
    "        'train': False,\n",
    "        'predict': True\n",
    "    },\n",
    "\n",
    "    'raster_params': {\n",
    "        'raster_size': [224, 224],\n",
    "        'pixel_size': [0.5, 0.5],\n",
    "        'ego_center': [0.25, 0.5],\n",
    "        'map_type': 'py_semantic',\n",
    "        'satellite_map_key': 'aerial_map/aerial_map.png',\n",
    "        'semantic_map_key': 'semantic_map/semantic_map.pb',\n",
    "        'dataset_meta_key': 'meta.json',\n",
    "        'filter_agents_threshold': 0.5\n",
    "    },\n",
    "\n",
    "    'train_data_loader': {\n",
    "        'key': 'scenes/train.zarr',\n",
    "        'batch_size': 16,\n",
    "        'shuffle': True,\n",
    "        'num_workers': 4\n",
    "    },\n",
    "    'test_data_loader': {\n",
    "        'key': 'scenes/test.zarr',\n",
    "        'batch_size': 32,\n",
    "        'shuffle': False,\n",
    "        'num_workers': 4\n",
    "    },\n",
    "    'train_params': {\n",
    "        'max_num_steps': 101,\n",
    "        'checkpoint_every_n_steps': 20,\n",
    "    }\n",
    "}"
   ]
  },
  {
   "cell_type": "markdown",
   "metadata": {
    "_cell_guid": "47937fff-6ae9-4b70-862a-ebe66487d5cc",
    "_uuid": "cf25b5e9-2730-4bbd-b9b9-5adae53a3edd"
   },
   "source": [
    "Couple of things to note:\n",
    "\n",
    " - **model_architecture:** you can put 'resnet18', 'resnet34' or 'resnet50'. For the pretrained model we use resnet18 so we need to use 'resnet18' in the config.\n",
    " - **weight_path:** path to the pretrained model. If you don't have a pretrained model and want to train from scratch, put **weight_path** = False. \n",
    " - **model_name:** the name of the model that will be saved as output, this is only when **train**= True.\n",
    " - **train:** True if you want to continue to train the model. Unfortunately due to Kaggle memory constraint if **train**=True then you should put **predict** = False.\n",
    " - **predict:** True if you want to predict and submit to Kaggle. Unfortunately due to Kaggle memory constraint if you want to predict then you need  to put **train** = False.\n",
    " - **lr:** learning rate of the model, feel free to change as you see fit. In the future I also plan to implement learning rate decay. \n",
    " - **raster_size:** specify the size of the image, the default is [224,224]. Increase **raster_size** can improve the score. However the training time will be significantly longer. \n",
    " - **batch_size:** number of inputs for one forward pass, again one of the parameters to tune. \n",
    " - **max_num_steps:** the number of iterations to train, i.e. number of epochs.\n",
    " - **checkpoint_every_n_steps:** the model will be saved at every n steps, again change this number as to how you want to keep track of the model."
   ]
  },
  {
   "cell_type": "markdown",
   "metadata": {
    "_cell_guid": "4b11e0f8-7e38-464b-ab1f-a131b22dff02",
    "_uuid": "8dac7b00-95c2-4b2d-9f73-c9838bdb3906"
   },
   "source": [
    "## Load the train and test data"
   ]
  },
  {
   "cell_type": "code",
   "execution_count": 8,
   "metadata": {
    "_cell_guid": "9a913a37-b1a4-4c61-8478-3f48996cee24",
    "_uuid": "6c2a2142-5e34-444a-852d-81ca55361abf",
    "jupyter": {
     "outputs_hidden": false
    }
   },
   "outputs": [],
   "source": [
    "# set env variable for data\n",
    "DIR_INPUT = cfg[\"data_path\"]\n",
    "os.environ[\"L5KIT_DATA_FOLDER\"] = DIR_INPUT\n",
    "dm = LocalDataManager(None)"
   ]
  },
  {
   "cell_type": "code",
   "execution_count": 22,
   "metadata": {
    "_cell_guid": "453fb482-45ac-4c3f-8d82-4561bf914f83",
    "_uuid": "e395d2c9-d06f-4540-be4e-5a3bc96e3445",
    "jupyter": {
     "outputs_hidden": false
    }
   },
   "outputs": [
    {
     "name": "stdout",
     "output_type": "stream",
     "text": [
      "==================================TRAIN DATA==================================\n",
      "+------------+------------+------------+---------------+-----------------+----------------------+----------------------+----------------------+---------------------+\n",
      "| Num Scenes | Num Frames | Num Agents | Num TR lights | Total Time (hr) | Avg Frames per Scene | Avg Agents per Frame | Avg Scene Time (sec) | Avg Frame frequency |\n",
      "+------------+------------+------------+---------------+-----------------+----------------------+----------------------+----------------------+---------------------+\n",
      "|   16265    |  4039527   | 320124624  |    38735988   |      112.19     |        248.36        |        79.25         |        24.83         |        10.00        |\n",
      "+------------+------------+------------+---------------+-----------------+----------------------+----------------------+----------------------+---------------------+\n"
     ]
    }
   ],
   "source": [
    "# ===== INIT TRAIN DATASET============================================================\n",
    "train_cfg = cfg[\"train_data_loader\"]\n",
    "rasterizer = build_rasterizer(cfg, dm)\n",
    "train_zarr = ChunkedDataset(dm.require(train_cfg[\"key\"])).open()\n",
    "\n",
    "#create mask \n",
    "\n",
    "\n",
    "train_dataset = AgentDataset(cfg, train_zarr, rasterizer)\n",
    "train_dataloader = DataLoader(train_dataset, shuffle=train_cfg[\"shuffle\"], batch_size=train_cfg[\"batch_size\"], \n",
    "                             num_workers=train_cfg[\"num_workers\"])\n",
    "print(\"==================================TRAIN DATA==================================\")\n",
    "print(train_dataset)"
   ]
  },
  {
   "cell_type": "code",
   "execution_count": 23,
   "metadata": {},
   "outputs": [
    {
     "name": "stdout",
     "output_type": "stream",
     "text": [
      "==================================EGO TRAIN DATA==================================\n",
      "+------------+------------+------------+---------------+-----------------+----------------------+----------------------+----------------------+---------------------+\n",
      "| Num Scenes | Num Frames | Num Agents | Num TR lights | Total Time (hr) | Avg Frames per Scene | Avg Agents per Frame | Avg Scene Time (sec) | Avg Frame frequency |\n",
      "+------------+------------+------------+---------------+-----------------+----------------------+----------------------+----------------------+---------------------+\n",
      "|   16265    |  4039527   | 320124624  |    38735988   |      112.19     |        248.36        |        79.25         |        24.83         |        10.00        |\n",
      "+------------+------------+------------+---------------+-----------------+----------------------+----------------------+----------------------+---------------------+\n"
     ]
    }
   ],
   "source": [
    "# ===== INIT TRAIN DATASET============================================================\n",
    "train_cfg = cfg[\"train_data_loader\"]\n",
    "rasterizer = build_rasterizer(cfg, dm)\n",
    "train_zarr = ChunkedDataset(dm.require(train_cfg[\"key\"])).open()\n",
    "\n",
    "#create mask \n",
    "train_dataset_ego = EgoDataset(cfg, train_zarr, rasterizer)\n",
    "train_dataloader_ego = DataLoader(train_dataset_ego, shuffle=train_cfg[\"shuffle\"], batch_size=train_cfg[\"batch_size\"], \n",
    "                             num_workers=train_cfg[\"num_workers\"])\n",
    "print(\"==================================EGO TRAIN DATA==================================\")\n",
    "print(train_dataset_ego)"
   ]
  },
  {
   "cell_type": "code",
   "execution_count": 24,
   "metadata": {},
   "outputs": [],
   "source": [
    "def pytorch_neg_multi_log_likelihood_batch(\n",
    "    gt: Tensor, pred: Tensor, confidences: Tensor, avails: Tensor\n",
    ") -> Tensor:\n",
    "    \"\"\"\n",
    "    Compute a negative log-likelihood for the multi-modal scenario.\n",
    "    log-sum-exp trick is used here to avoid underflow and overflow, For more information about it see:\n",
    "    https://en.wikipedia.org/wiki/LogSumExp#log-sum-exp_trick_for_log-domain_calculations\n",
    "    https://timvieira.github.io/blog/post/2014/02/11/exp-normalize-trick/\n",
    "    https://leimao.github.io/blog/LogSumExp/\n",
    "    Args:\n",
    "        gt (Tensor): array of shape (bs)x(time)x(2D coords)\n",
    "        pred (Tensor): array of shape (bs)x(modes)x(time)x(2D coords)\n",
    "        confidences (Tensor): array of shape (bs)x(modes) with a confidence for each mode in each sample\n",
    "        avails (Tensor): array of shape (bs)x(time) with the availability for each gt timestep\n",
    "    Returns:\n",
    "        Tensor: negative log-likelihood for this example, a single float number\n",
    "    \"\"\"\n",
    "    assert len(pred.shape) == 4, f\"expected 3D (MxTxC) array for pred, got {pred.shape}\"\n",
    "    batch_size, num_modes, future_len, num_coords = pred.shape\n",
    "\n",
    "    assert gt.shape == (batch_size, future_len, num_coords), f\"expected 2D (Time x Coords) array for gt, got {gt.shape}\"\n",
    "    assert confidences.shape == (batch_size, num_modes), f\"expected 1D (Modes) array for gt, got {confidences.shape}\"\n",
    "    assert torch.allclose(torch.sum(confidences, dim=1), confidences.new_ones((batch_size,))), \"confidences should sum to 1\"\n",
    "    assert avails.shape == (batch_size, future_len), f\"expected 1D (Time) array for gt, got {avails.shape}\"\n",
    "    # assert all data are valid\n",
    "    assert torch.isfinite(pred).all(), \"invalid value found in pred\"\n",
    "    assert torch.isfinite(gt).all(), \"invalid value found in gt\"\n",
    "    assert torch.isfinite(confidences).all(), \"invalid value found in confidences\"\n",
    "    assert torch.isfinite(avails).all(), \"invalid value found in avails\"\n",
    "\n",
    "    # convert to (batch_size, num_modes, future_len, num_coords)\n",
    "    gt = torch.unsqueeze(gt, 1)  # add modes\n",
    "    avails = avails[:, None, :, None]  # add modes and cords\n",
    "\n",
    "    # error (batch_size, num_modes, future_len)\n",
    "    error = torch.sum(((gt - pred) * avails) ** 2, dim=-1)  # reduce coords and use availability\n",
    "\n",
    "    with np.errstate(divide=\"ignore\"):  # when confidence is 0 log goes to -inf, but we're fine with it\n",
    "        # error (batch_size, num_modes)\n",
    "        error = torch.log(confidences + 1e-10) - 0.5 * torch.sum(error, dim=-1)  # reduce time\n",
    "\n",
    "    # use max aggregator on modes for numerical stability\n",
    "    # error (batch_size, num_modes)\n",
    "    max_value, _ = error.max(dim=1, keepdim=True)  # error are negative at this point, so max() gives the minimum one\n",
    "    error = -torch.log(torch.sum(torch.exp(error - max_value), dim=-1, keepdim=True)) - max_value  # reduce modes\n",
    "    # print(\"error\", error)\n",
    "    return torch.mean(error)\n"
   ]
  },
  {
   "cell_type": "code",
   "execution_count": 25,
   "metadata": {},
   "outputs": [],
   "source": [
    "from typing import List, Optional, Tuple\n",
    "\n",
    "def get_agent_context(\n",
    "        state_index: int,\n",
    "        frames: np.ndarray,\n",
    "        agents: np.ndarray,\n",
    "#         tl_faces: np.ndarray,\n",
    "        history_num_frames: int,\n",
    "        future_num_frames: int,\n",
    ") -> Tuple[np.ndarray, np.ndarray, List[np.ndarray], List[np.ndarray]]:\n",
    "    \"\"\"\n",
    "    Slice zarr or numpy arrays to get the context around the agent onf interest (both in space and time)\n",
    "    Args:\n",
    "        state_index (int): frame index inside the scene\n",
    "        frames (np.ndarray): frames from the scene\n",
    "        agents (np.ndarray): agents from the scene\n",
    "        tl_faces (np.ndarray): tl_faces from the scene\n",
    "        history_num_frames (int): how many frames in the past to slice\n",
    "        future_num_frames (int): how many frames in the future to slice\n",
    "    Returns:\n",
    "        Tuple[np.ndarray, np.ndarray, List[np.ndarray], List[np.ndarray], List[np.ndarray], List[np.ndarray]]\n",
    "    \"\"\"\n",
    "\n",
    "    #  the history slice is ordered starting from the latest frame and goes backward in time., ex. slice(100, 91, -2)\n",
    "    history_slice = l5kit.sampling.slicing.get_history_slice(state_index, history_num_frames, 1, include_current_state=True)\n",
    "    future_slice = l5kit.sampling.slicing.get_future_slice(state_index, future_num_frames, 1)\n",
    "    history_frames = frames[history_slice].copy()  # copy() required if the object is a np.ndarray\n",
    "    future_frames = frames[future_slice].copy()\n",
    "    sorted_frames = np.concatenate((history_frames[::-1], future_frames))  # from past to future\n",
    "\n",
    "    # get agents (past and future)\n",
    "    agent_slice = l5kit.data.filter.get_agents_slice_from_frames(sorted_frames[0], sorted_frames[-1])\n",
    "    agents = agents[agent_slice].copy()\n",
    "    # sync interval with the agents array\n",
    "    history_frames[\"agent_index_interval\"] -= agent_slice.start\n",
    "    future_frames[\"agent_index_interval\"] -= agent_slice.start\n",
    "    history_agents = l5kit.data.filter.filter_agents_by_frames(history_frames, agents)\n",
    "    future_agents = l5kit.data.filter.filter_agents_by_frames(future_frames, agents)\n",
    "#     print(\"agents {}\".format(agent_slice))\n",
    "\n",
    "#     # get traffic lights (past and future)\n",
    "#     tl_slice = get_tl_faces_slice_from_frames(sorted_frames[0], sorted_frames[-1])\n",
    "#     tl_faces = tl_faces[tl_slice].copy()\n",
    "#     # sync interval with the traffic light faces array\n",
    "#     history_frames[\"traffic_light_faces_index_interval\"] -= tl_slice.start\n",
    "#     future_frames[\"traffic_light_faces_index_interval\"] -= tl_slice.start\n",
    "#     history_tl_faces = filter_tl_faces_by_frames(history_frames, tl_faces)\n",
    "#     future_tl_faces = filter_tl_faces_by_frames(future_frames, tl_faces)\n",
    "    return history_frames, future_frames, history_agents, future_agents #, history_tl_faces, future_tl_faces\n"
   ]
  },
  {
   "cell_type": "code",
   "execution_count": 26,
   "metadata": {},
   "outputs": [],
   "source": [
    "import bisect\n",
    "\n",
    "def get_agent_data(index, ego_dataset, agent_dataset):\n",
    "    if index < 0:\n",
    "        if -index > len(agent_dataset):\n",
    "            raise ValueError(\"absolute value of index should not exceed dataset length\")\n",
    "        index = len(agent_dataset) + index\n",
    "        index = agent_dataset.agents_indices[index]\n",
    "\n",
    "    frame_index = bisect.bisect_right(agent_dataset.cumulative_sizes_agents, index)\n",
    "    scene_index = bisect.bisect_right(agent_dataset.cumulative_sizes, frame_index)\n",
    "    if scene_index == 0:\n",
    "        state_index = frame_index\n",
    "    else:\n",
    "        state_index = frame_index - agent_dataset.cumulative_sizes[scene_index - 1]\n",
    "    frames = ego_dataset.dataset.frames[l5kit.data.filter.get_frames_slice_from_scenes(ego_dataset.dataset.scenes[scene_index])]\n",
    "\n",
    "    agents = ego_dataset.dataset.agents\n",
    "    x = get_agent_context(state_index, frames, agents, history_num_frames= 10, future_num_frames = 50)\n",
    "    return x[2]"
   ]
  },
  {
   "cell_type": "code",
   "execution_count": 27,
   "metadata": {},
   "outputs": [],
   "source": [
    "data, indices = next(iter(train_dataloader))  "
   ]
  },
  {
   "cell_type": "code",
   "execution_count": 28,
   "metadata": {},
   "outputs": [],
   "source": [
    "def _data_preprocessing(data, index, ego_dataset, agent_dataset):\n",
    "    nbrs_batch = torch.zeros(0, 0, 10, 4) #B x N x H x 4 \n",
    "\n",
    "    #N and H may change \n",
    "    tot_nbrs = []\n",
    "    for i, scene_id in enumerate(indices):\n",
    "        nbrs = torch.zeros(0, 10, 4)\n",
    "        agent_data = get_agent_data(scene_id, ego_dataset, agent_dataset)\n",
    "        cur_agents = agent_data[0]\n",
    "        filtered_agents = l5kit.data.filter.filter_agents_by_labels(cur_agents, 0.5)\n",
    "        curr_valid_agents = filtered_agents[\"track_id\"]  \n",
    "        for agent_id in curr_valid_agents:\n",
    "            agent_history = []\n",
    "            for frame in agent_data:\n",
    "                agent_id_index = np.where(frame[\"track_id\"] == agent_id)\n",
    "                if len(agent_id_index[0]) > 0:\n",
    "                    pos = (frame[\"centroid\"][agent_id_index]).reshape(2, ) \n",
    "                    vel = (frame[\"velocity\"][agent_id_index]).reshape(2, )  \n",
    "                    state_node = np.hstack([pos, vel])\n",
    "                    agent_history.append(state_node)   \n",
    "                    \n",
    "            agent_history_arr = np.array(agent_history)[:-1]  \n",
    "            if agent_history_arr.shape != (10, 4): continue \n",
    "                \n",
    "            agent_history_arr = np.flip(agent_history_arr, axis=0).copy() \n",
    "            new_hist = torch.from_numpy(agent_history_arr.reshape(1, 10, 4)) \n",
    "            nbrs = torch.cat((nbrs, new_hist), axis = 0)\n",
    "        \n",
    "        tot_nbrs.append(nbrs)  \n",
    "        \n",
    "    nbrs_batch = torch.nn.utils.rnn.pad_sequence(tuple(tot_nbrs), batch_first=True, padding_value=float('inf'))   \n",
    "    ego_hist = data[\"history_positions\"][:,:-1]\n",
    "    ego_hist = ego_hist[torch.arange(ego_hist.shape[0]).unsqueeze(-1), data[\"history_availabilities\"][:,:-1].long()] \n",
    "    nbrs_current_mask = data[\"image\"][:,cfg[\"model_params\"][\"history_num_frames\"]+1,:,:]\n",
    "    \n",
    "    return nbrs_batch, ego_hist "
   ]
  },
  {
   "cell_type": "code",
   "execution_count": 29,
   "metadata": {},
   "outputs": [],
   "source": [
    "nbrs_batch, ego_hist  = _data_preprocessing(data, indices, train_dataset_ego, train_dataset)"
   ]
  },
  {
   "cell_type": "code",
   "execution_count": 30,
   "metadata": {},
   "outputs": [
    {
     "name": "stdout",
     "output_type": "stream",
     "text": [
      "37\n"
     ]
    }
   ],
   "source": [
    "num_valid_agents = nbrs_batch.shape[1] \n",
    "print(num_valid_agents)    \n",
    "num_edges_attrs = (num_valid_agents) * (num_valid_agents - 1) / 2"
   ]
  },
  {
   "cell_type": "code",
   "execution_count": 35,
   "metadata": {},
   "outputs": [
    {
     "data": {
      "text/plain": [
       "tensor([[[ 6.7243e-01, -7.4016e-01, -8.0901e+01],\n",
       "         [ 7.4016e-01,  6.7243e-01, -2.1321e+02],\n",
       "         [ 0.0000e+00,  0.0000e+00,  1.0000e+00]],\n",
       "\n",
       "        [[ 6.8879e-01, -7.2496e-01,  1.0496e+03],\n",
       "         [ 7.2496e-01,  6.8879e-01, -2.2548e+02],\n",
       "         [ 0.0000e+00,  0.0000e+00,  1.0000e+00]],\n",
       "\n",
       "        [[-6.9322e-01,  7.2073e-01, -1.1374e+03],\n",
       "         [-7.2073e-01, -6.9322e-01,  2.6021e+02],\n",
       "         [ 0.0000e+00,  0.0000e+00,  1.0000e+00]],\n",
       "\n",
       "        [[-6.8527e-01,  7.2829e-01,  2.5720e+01],\n",
       "         [-7.2829e-01, -6.8527e-01,  2.2529e+02],\n",
       "         [ 0.0000e+00,  0.0000e+00,  1.0000e+00]],\n",
       "\n",
       "        [[-6.7768e-01,  7.3536e-01, -9.0712e+02],\n",
       "         [-7.3536e-01, -6.7768e-01,  2.2888e+02],\n",
       "         [ 0.0000e+00,  0.0000e+00,  1.0000e+00]],\n",
       "\n",
       "        [[ 8.4382e-01, -5.3663e-01, -1.6411e+03],\n",
       "         [ 5.3663e-01,  8.4382e-01,  7.9018e+02],\n",
       "         [ 0.0000e+00,  0.0000e+00,  1.0000e+00]],\n",
       "\n",
       "        [[ 5.7364e-01,  8.1910e-01,  6.9325e+02],\n",
       "         [-8.1910e-01,  5.7364e-01,  1.3126e+03],\n",
       "         [ 0.0000e+00,  0.0000e+00,  1.0000e+00]],\n",
       "\n",
       "        [[-6.5944e-01,  7.5176e-01, -3.6000e+02],\n",
       "         [-7.5176e-01, -6.5944e-01,  2.1657e+02],\n",
       "         [ 0.0000e+00,  0.0000e+00,  1.0000e+00]],\n",
       "\n",
       "        [[-8.6121e-01,  5.0826e-01,  1.2928e+03],\n",
       "         [-5.0826e-01, -8.6121e-01, -8.2832e+02],\n",
       "         [ 0.0000e+00,  0.0000e+00,  1.0000e+00]],\n",
       "\n",
       "        [[-5.3576e-01, -8.4437e-01, -2.0769e+01],\n",
       "         [ 8.4437e-01, -5.3576e-01, -7.8300e+02],\n",
       "         [ 0.0000e+00,  0.0000e+00,  1.0000e+00]],\n",
       "\n",
       "        [[-5.5400e-01, -8.3252e-01, -7.3485e+02],\n",
       "         [ 8.3252e-01, -5.5400e-01, -1.2857e+03],\n",
       "         [ 0.0000e+00,  0.0000e+00,  1.0000e+00]],\n",
       "\n",
       "        [[-6.7255e-01,  7.4005e-01, -2.9714e+02],\n",
       "         [-7.4005e-01, -6.7255e-01,  2.2573e+02],\n",
       "         [ 0.0000e+00,  0.0000e+00,  1.0000e+00]],\n",
       "\n",
       "        [[ 5.4815e-01,  8.3638e-01,  7.9281e+02],\n",
       "         [-8.3638e-01,  5.4815e-01,  1.2906e+03],\n",
       "         [ 0.0000e+00,  0.0000e+00,  1.0000e+00]],\n",
       "\n",
       "        [[ 6.5726e-01, -7.5366e-01, -7.3545e+02],\n",
       "         [ 7.5366e-01,  6.5726e-01, -2.2257e+02],\n",
       "         [ 0.0000e+00,  0.0000e+00,  1.0000e+00]],\n",
       "\n",
       "        [[-6.6321e-01,  7.4843e-01, -9.4812e+02],\n",
       "         [-7.4843e-01, -6.6321e-01,  2.1035e+02],\n",
       "         [ 0.0000e+00,  0.0000e+00,  1.0000e+00]],\n",
       "\n",
       "        [[-6.4291e-01,  7.6594e-01, -2.7399e+02],\n",
       "         [-7.6594e-01, -6.4291e-01,  2.1516e+02],\n",
       "         [ 0.0000e+00,  0.0000e+00,  1.0000e+00]]], dtype=torch.float64)"
      ]
     },
     "execution_count": 35,
     "metadata": {},
     "output_type": "execute_result"
    }
   ],
   "source": [
    "agent_from_world = data[\"agent_from_world\"]   \n",
    "#nodes --> agent reference frame \n",
    "#edges --> encode the distance between agents \n",
    "# --> relative positions of the agents\n"
   ]
  },
  {
   "cell_type": "code",
   "execution_count": null,
   "metadata": {},
   "outputs": [],
   "source": [
    "class RNNEncoder(nn.Module):\n",
    "    def __init__(self, hidden_dim): \n",
    "        super().__init__()  \n",
    "        self.hidden_dim = hidden_dim  \n",
    "        \n",
    "        self.encoderRNN = nn.GRU(4, self.hidden_dim, 1)\n",
    "        self.encoderLinear = nn.Linear(self.hidden_dim)\n",
    "        self.alpha = .1 \n",
    "\n",
    "    def forward(self, x): \n",
    "        x = self.encoderRNN(x)\n",
    "        x = F.leaky_relu(x, self.alpha)\n",
    "        x = self.encoderLinear(x)\n",
    "\n",
    "        return x "
   ]
  },
  {
   "cell_type": "code",
   "execution_count": null,
   "metadata": {},
   "outputs": [],
   "source": []
  },
  {
   "cell_type": "markdown",
   "metadata": {},
   "source": [
    "#### num_classes = 3  "
   ]
  },
  {
   "cell_type": "code",
   "execution_count": null,
   "metadata": {},
   "outputs": [],
   "source": [
    "from torch_geometric.nn import GCNConv    \n",
    "\n",
    "class GCN(torch.nn.Module):\n",
    "    def __init__(self, hidden_channels, num_classes):\n",
    "        super(GCN, self).__init__() \n",
    "        self.num_classes = num_classes \n",
    "        torch.manual_seed(12345)\n",
    "        self.conv1 = GCNConv(dataset.num_features, hidden_channels)\n",
    "        self.conv2 = GCNConv(hidden_channels, num_classes)\n",
    "\n",
    "    def forward(self, x, edge_index):\n",
    "        x = self.conv1(x, edge_index)\n",
    "        x = x.relu()\n",
    "        x = F.dropout(x, p=0.5, training=self.training)\n",
    "        x = self.conv2(x, edge_index)\n",
    "        return x\n",
    "\n",
    "model = GCN(hidden_channels=16)\n",
    "print(model)"
   ]
  },
  {
   "cell_type": "code",
   "execution_count": null,
   "metadata": {},
   "outputs": [],
   "source": []
  },
  {
   "cell_type": "code",
   "execution_count": null,
   "metadata": {},
   "outputs": [],
   "source": [
    "class TypedGCN(nn.Module): \n",
    "    def __init__(self, input_dim, hidden_channels): \n",
    "        self.input_dim = input_dim\n",
    "        self.hidden_channels = hidden_channels\n",
    "        torch.manual_seed(12345)\n",
    "        \n",
    "        slef."
   ]
  },
  {
   "cell_type": "code",
   "execution_count": null,
   "metadata": {},
   "outputs": [],
   "source": [
    "class RNNDecoder(nn.Module):\n",
    "    def __init__(self, hidden_dim): \n",
    "        super().__init__()  \n",
    "        self.hidden_dim = hidden_dim  \n",
    "        \n",
    "        self.encoderRNN = nn.GRU(4, self.hidden_dim, 1)\n",
    "        self.encoderLinear = nn.Linear(self.hidden_dim)\n",
    "        self.alpha = .1 \n",
    "\n",
    "    def forward(self, x): \n",
    "        x = self.encoderRNN(x)\n",
    "        x = F.leaky_relu(x, self.alpha)\n",
    "        x = self.encoderLinear(x)\n",
    "\n",
    "        return x "
   ]
  },
  {
   "cell_type": "code",
   "execution_count": null,
   "metadata": {},
   "outputs": [],
   "source": [
    "class Net(nn.Module): \n",
    "    def __init__(self, hidden_dim_enc, hidden_dim_dec): \n",
    "        super().__init__() \n",
    "        self.hidden_dim_enc = hidden_dim_enc\n",
    "        self.hidden_dim_dec = hidden_dim_dec\n",
    "        \n",
    "        self.rnn_encoder = RNNEncoder()\n",
    "        self.rnn_decoder = RNNDecoder()\n",
    "        self.graph_layer = GCN() \n",
    "        self.typed_graph_layer \n",
    "        \n",
    "    def forward(self, x):"
   ]
  },
  {
   "cell_type": "code",
   "execution_count": null,
   "metadata": {},
   "outputs": [],
   "source": [
    "hidden_dim_rnn = 64\n",
    "model = RNNEncoder(hidden_dim_rnn) \n",
    "optimizer = torch.optim.Adam(model.parameters(), lr=0.01, weight_decay=5e-4) \n",
    "criterion = torch.nn.MSELoss() "
   ]
  },
  {
   "cell_type": "code",
   "execution_count": null,
   "metadata": {},
   "outputs": [],
   "source": [
    "def train(data, max_epochs): \n",
    "    model.train()\n",
    "    for _ in range(max_epochs):  \n",
    "        out = model(nbrs_batch, data.edge_idx)  # Perform a single forward pass.\n",
    "        loss = criterion(out[data.train_mask], data.y[data.train_mask])  # Compute the loss solely based on the training nodes.\n",
    "        optimizer.zero_grad()  # Clear gradients.\n",
    "        loss.backward()  # Derive gradients.\n",
    "        optimizer.step()  # Update parameters based on gradients.a\n",
    "\n",
    "    return loss  "
   ]
  },
  {
   "cell_type": "code",
   "execution_count": null,
   "metadata": {},
   "outputs": [],
   "source": [
    "#hyperparameters\n",
    "max_epochs = 1 "
   ]
  },
  {
   "cell_type": "code",
   "execution_count": 111,
   "metadata": {},
   "outputs": [],
   "source": [
    "def _data_preprocess(data, index, max_agents):\n",
    "    \n",
    "    nbrs_batch = np.zeros(0, max_agents, 10, 4) \n",
    "    num_valid_agents_batch = [] \n",
    "    \n",
    "    #posvel tensor --> B,N,H,4 \n",
    "    max_num_agents = float('inf')\n",
    "    for i, scene_id in enumerate(tqdm(indices)):   \n",
    "        agent_data = get_agent_data(scene_id)\n",
    "        cur_agents = agent_data[0]\n",
    "        filtered_agents = l5kit.data.filter.filter_agents_by_labels(cur_agents, 0.5)\n",
    "        curr_valid_agents = filtered_agents[\"track_id\"]    \n",
    "        num_valid_agents_batch.append(len(curr_valid_agents))\n",
    "\n",
    "        if len(curr_valid_agents) > max_num_agents: \n",
    "            max_num_agents = len(curr_valid_agents) \n",
    "        \n",
    "        for agent_id in curr_valid_agents:\n",
    "            agent_history = []\n",
    "            for frame in agent_data:\n",
    "                agent_id_index = np.where(frame[\"track_id\"] == agent_id)\n",
    "                if len(agent_id_index[0]) > 0: \n",
    "                    pos = (frame[\"centroid\"][agent_id_index]).reshape(2, )\n",
    "                    vel = (frame[\"velocity\"][agent_id_index]).reshape(2, )\n",
    "                    state_node = np.hstack([pos, vel])\n",
    "                    agent_history.append(state_node)\n",
    "                        \n",
    "            agent_history_arr = np.array(agent_history)[:-1] #(10, 4)   \n",
    "            if agent_history_arr.shape != (10, 4): continue  \n",
    "            nbrs_b_arr = np.array(nbrs_b.append(agent_history_arr)) \n",
    "            print(agent_history_arr.shape)\n",
    "            #agent_history_arr_ten = torch.from_numpy(agent_history_arr.reshape(1, 10, 4))     \n",
    "            #nbrs_batch = torch.cat((nbrs_batch, agent_history_arr_ten), axis = 0)    \n",
    "         \n",
    "    ego_hist = data[\"history_positions\"][:,:-1]\n",
    "    ego_hist = ego_hist[torch.arange(ego_hist.shape[0]).unsqueeze(-1), data[\"history_availabilities\"][:,:-1].long()] \n",
    "    nbrs_current_mask = data[\"image\"][:,cfg[\"model_params\"][\"history_num_frames\"]+1,:,:]\n",
    "\n",
    "    return nbrs_batch, ego_hist, num_valid_agents_batch"
   ]
  },
  {
   "cell_type": "code",
   "execution_count": 112,
   "metadata": {},
   "outputs": [
    {
     "name": "stderr",
     "output_type": "stream",
     "text": [
      " 31%|███▏      | 5/16 [00:00<00:00, 44.97it/s]"
     ]
    },
    {
     "name": "stdout",
     "output_type": "stream",
     "text": [
      "(10, 4)\n",
      "(10, 4)\n",
      "(10, 4)\n",
      "(10, 4)\n",
      "(10, 4)\n",
      "(10, 4)\n",
      "(10, 4)\n",
      "(10, 4)\n",
      "(10, 4)\n",
      "(10, 4)\n",
      "(10, 4)\n",
      "(10, 4)\n",
      "(10, 4)\n",
      "(10, 4)\n",
      "(10, 4)\n",
      "(10, 4)\n",
      "(10, 4)\n",
      "(10, 4)\n",
      "(10, 4)\n",
      "(10, 4)\n",
      "(10, 4)\n",
      "(10, 4)\n",
      "(10, 4)\n",
      "(10, 4)\n",
      "(10, 4)\n",
      "(10, 4)\n",
      "(10, 4)\n",
      "(10, 4)\n",
      "(10, 4)\n",
      "(10, 4)\n",
      "(10, 4)\n",
      "(10, 4)\n",
      "(10, 4)\n",
      "(10, 4)\n",
      "(10, 4)\n",
      "(10, 4)\n",
      "(10, 4)\n",
      "(10, 4)\n",
      "(10, 4)\n",
      "(10, 4)\n",
      "(10, 4)\n",
      "(10, 4)\n",
      "(10, 4)\n",
      "(10, 4)\n",
      "(10, 4)\n",
      "(10, 4)\n",
      "(10, 4)\n",
      "(10, 4)\n",
      "(10, 4)\n",
      "(10, 4)\n",
      "(10, 4)\n",
      "(10, 4)\n",
      "(10, 4)\n",
      "(10, 4)\n",
      "(10, 4)\n",
      "(10, 4)\n",
      "(10, 4)\n",
      "(10, 4)\n",
      "(10, 4)\n",
      "(10, 4)\n",
      "(10, 4)\n",
      "(10, 4)\n",
      "(10, 4)\n",
      "(10, 4)\n",
      "(10, 4)\n",
      "(10, 4)\n",
      "(10, 4)\n",
      "(10, 4)\n",
      "(10, 4)\n",
      "(10, 4)\n",
      "(10, 4)\n",
      "(10, 4)\n",
      "(10, 4)\n",
      "(10, 4)\n",
      "(10, 4)\n",
      "(10, 4)\n",
      "(10, 4)\n",
      "(10, 4)\n",
      "(10, 4)\n",
      "(10, 4)\n",
      "(10, 4)\n",
      "(10, 4)\n",
      "(10, 4)\n",
      "(10, 4)\n",
      "(10, 4)\n",
      "(10, 4)\n",
      "(10, 4)\n",
      "(10, 4)\n",
      "(10, 4)\n",
      "(10, 4)\n",
      "(10, 4)\n",
      "(10, 4)\n",
      "(10, 4)\n",
      "(10, 4)\n",
      "(10, 4)\n",
      "(10, 4)\n",
      "(10, 4)\n",
      "(10, 4)\n",
      "(10, 4)\n",
      "(10, 4)\n",
      "(10, 4)\n",
      "(10, 4)\n",
      "(10, 4)\n",
      "(10, 4)\n",
      "(10, 4)\n",
      "(10, 4)\n",
      "(10, 4)\n",
      "(10, 4)\n",
      "(10, 4)\n",
      "(10, 4)\n",
      "(10, 4)\n",
      "(10, 4)\n",
      "(10, 4)\n",
      "(10, 4)\n",
      "(10, 4)\n",
      "(10, 4)\n",
      "(10, 4)\n",
      "(10, 4)\n",
      "(10, 4)\n",
      "(10, 4)\n",
      "(10, 4)\n",
      "(10, 4)\n",
      "(10, 4)\n",
      "(10, 4)\n",
      "(10, 4)\n",
      "(10, 4)\n",
      "(10, 4)\n",
      "(10, 4)\n",
      "(10, 4)\n",
      "(10, 4)\n",
      "(10, 4)\n",
      "(10, 4)\n",
      "(10, 4)\n",
      "(10, 4)\n",
      "(10, 4)\n",
      "(10, 4)\n",
      "(10, 4)\n",
      "(10, 4)\n",
      "(10, 4)\n",
      "(10, 4)\n",
      "(10, 4)\n",
      "(10, 4)\n",
      "(10, 4)\n",
      "(10, 4)\n",
      "(10, 4)\n",
      "(10, 4)\n",
      "(10, 4)\n",
      "(10, 4)\n",
      "(10, 4)\n",
      "(10, 4)\n",
      "(10, 4)\n",
      "(10, 4)\n",
      "(10, 4)\n",
      "(10, 4)\n",
      "(10, 4)\n",
      "(10, 4)\n",
      "(10, 4)\n",
      "(10, 4)\n",
      "(10, 4)\n",
      "(10, 4)\n",
      "(10, 4)\n",
      "(10, 4)\n",
      "(10, 4)\n",
      "(10, 4)\n",
      "(10, 4)\n",
      "(10, 4)\n",
      "(10, 4)\n",
      "(10, 4)\n",
      "(10, 4)\n",
      "(10, 4)\n",
      "(10, 4)\n",
      "(10, 4)\n",
      "(10, 4)\n",
      "(10, 4)\n",
      "(10, 4)\n",
      "(10, 4)\n",
      "(10, 4)\n",
      "(10, 4)\n",
      "(10, 4)\n",
      "(10, 4)\n",
      "(10, 4)\n",
      "(10, 4)\n",
      "(10, 4)\n",
      "(10, 4)\n",
      "(10, 4)\n",
      "(10, 4)\n",
      "(10, 4)\n",
      "(10, 4)\n",
      "(10, 4)\n",
      "(10, 4)\n",
      "(10, 4)\n",
      "(10, 4)\n",
      "(10, 4)\n",
      "(10, 4)\n",
      "(10, 4)\n",
      "(10, 4)\n",
      "(10, 4)\n",
      "(10, 4)\n",
      "(10, 4)\n",
      "(10, 4)\n",
      "(10, 4)\n",
      "(10, 4)\n",
      "(10, 4)\n",
      "(10, 4)\n",
      "(10, 4)\n",
      "(10, 4)\n",
      "(10, 4)\n",
      "(10, 4)\n",
      "(10, 4)\n",
      "(10, 4)\n",
      "(10, 4)\n",
      "(10, 4)\n",
      "(10, 4)\n",
      "(10, 4)\n",
      "(10, 4)\n",
      "(10, 4)\n",
      "(10, 4)\n",
      "(10, 4)\n",
      "(10, 4)\n",
      "(10, 4)\n",
      "(10, 4)\n",
      "(10, 4)\n",
      "(10, 4)\n",
      "(10, 4)\n",
      "(10, 4)\n",
      "(10, 4)\n",
      "(10, 4)\n",
      "(10, 4)\n",
      "(10, 4)\n",
      "(10, 4)\n",
      "(10, 4)\n",
      "(10, 4)\n",
      "(10, 4)\n",
      "(10, 4)\n",
      "(10, 4)\n",
      "(10, 4)\n",
      "(10, 4)\n",
      "(10, 4)\n",
      "(10, 4)\n",
      "(10, 4)\n",
      "(10, 4)\n",
      "(10, 4)\n",
      "(10, 4)\n",
      "(10, 4)\n",
      "(10, 4)\n",
      "(10, 4)\n"
     ]
    },
    {
     "name": "stderr",
     "output_type": "stream",
     "text": [
      "100%|██████████| 16/16 [00:00<00:00, 47.98it/s]"
     ]
    },
    {
     "name": "stdout",
     "output_type": "stream",
     "text": [
      "(10, 4)\n",
      "(10, 4)\n",
      "(10, 4)\n",
      "(10, 4)\n",
      "(10, 4)\n",
      "(10, 4)\n",
      "(10, 4)\n",
      "(10, 4)\n",
      "(10, 4)\n",
      "(10, 4)\n",
      "(10, 4)\n",
      "(10, 4)\n",
      "(10, 4)\n",
      "(10, 4)\n",
      "(10, 4)\n",
      "(10, 4)\n",
      "(10, 4)\n",
      "(10, 4)\n",
      "(10, 4)\n",
      "(10, 4)\n",
      "(10, 4)\n",
      "(10, 4)\n",
      "(10, 4)\n",
      "(10, 4)\n",
      "(10, 4)\n",
      "(10, 4)\n",
      "(10, 4)\n",
      "(10, 4)\n",
      "(10, 4)\n",
      "(10, 4)\n",
      "(10, 4)\n",
      "(10, 4)\n",
      "(10, 4)\n",
      "(10, 4)\n",
      "(10, 4)\n",
      "(10, 4)\n",
      "(10, 4)\n",
      "(10, 4)\n",
      "(10, 4)\n",
      "(10, 4)\n",
      "(10, 4)\n",
      "(10, 4)\n",
      "(10, 4)\n",
      "(10, 4)\n",
      "(10, 4)\n",
      "(10, 4)\n",
      "(10, 4)\n",
      "(10, 4)\n",
      "(10, 4)\n",
      "(10, 4)\n",
      "(10, 4)\n",
      "(10, 4)\n",
      "(10, 4)\n",
      "(10, 4)\n",
      "(10, 4)\n",
      "(10, 4)\n",
      "(10, 4)\n",
      "(10, 4)\n",
      "(10, 4)\n",
      "(10, 4)\n",
      "(10, 4)\n",
      "(10, 4)\n",
      "(10, 4)\n",
      "(10, 4)\n",
      "(10, 4)\n",
      "(10, 4)\n",
      "(10, 4)\n",
      "(10, 4)\n",
      "(10, 4)\n",
      "(10, 4)\n",
      "(10, 4)\n",
      "(10, 4)\n",
      "(10, 4)\n",
      "(10, 4)\n",
      "(10, 4)\n",
      "(10, 4)\n",
      "(10, 4)\n",
      "(10, 4)\n",
      "(10, 4)\n",
      "(10, 4)\n",
      "(10, 4)\n",
      "(10, 4)\n",
      "(10, 4)\n",
      "(10, 4)\n",
      "(10, 4)\n",
      "(10, 4)\n",
      "(10, 4)\n",
      "(10, 4)\n",
      "(10, 4)\n",
      "(10, 4)\n",
      "(10, 4)\n",
      "(10, 4)\n",
      "(10, 4)\n",
      "(10, 4)\n",
      "(10, 4)\n",
      "(10, 4)\n",
      "(10, 4)\n",
      "(10, 4)\n",
      "(10, 4)\n",
      "(10, 4)\n",
      "(10, 4)\n",
      "(10, 4)\n",
      "(10, 4)\n",
      "(10, 4)\n",
      "(10, 4)\n",
      "(10, 4)\n",
      "(10, 4)\n",
      "(10, 4)\n",
      "(10, 4)\n",
      "(10, 4)\n",
      "(10, 4)\n",
      "(10, 4)\n",
      "(10, 4)\n",
      "(10, 4)\n",
      "(10, 4)\n",
      "(10, 4)\n",
      "(10, 4)\n",
      "(10, 4)\n",
      "(10, 4)\n",
      "(10, 4)\n",
      "(10, 4)\n",
      "(10, 4)\n",
      "(10, 4)\n",
      "(10, 4)\n",
      "(10, 4)\n",
      "(10, 4)\n",
      "(10, 4)\n",
      "(10, 4)\n",
      "(10, 4)\n",
      "(10, 4)\n",
      "(10, 4)\n",
      "(10, 4)\n",
      "(10, 4)\n",
      "(10, 4)\n",
      "(10, 4)\n",
      "(10, 4)\n",
      "(10, 4)\n",
      "(10, 4)\n"
     ]
    },
    {
     "name": "stderr",
     "output_type": "stream",
     "text": [
      "\n"
     ]
    }
   ],
   "source": [
    "nbrs_states, ego_state, num_valid_agents_batch = _data_preprocess(data, indices) "
   ]
  },
  {
   "cell_type": "code",
   "execution_count": 106,
   "metadata": {},
   "outputs": [
    {
     "name": "stdout",
     "output_type": "stream",
     "text": [
      "torch.Size([39, 10, 4])\n",
      "torch.Size([16, 10, 4])\n",
      "torch.Size([65, 10, 4])\n",
      "torch.Size([25, 10, 4])\n",
      "torch.Size([34, 10, 4])\n",
      "torch.Size([38, 10, 4])\n",
      "torch.Size([49, 10, 4])\n",
      "torch.Size([34, 10, 4])\n",
      "torch.Size([24, 10, 4])\n",
      "torch.Size([47, 10, 4])\n",
      "torch.Size([13, 10, 4])\n",
      "torch.Size([0, 10, 4])\n",
      "torch.Size([0, 10, 4])\n",
      "torch.Size([0, 10, 4])\n",
      "torch.Size([0, 10, 4])\n",
      "torch.Size([0, 10, 4])\n"
     ]
    }
   ],
   "source": [
    "nbrs_per_batch = np.shape(())\n",
    "s = 0 \n",
    "for i in range(len(num_valid_agents_batch)):     \n",
    "    end = s + num_valid_agents_batch[i]    \n",
    "    x = nbrs_states[s:end :, :]    \n",
    "    print(x.shape) \n",
    "    s = end"
   ]
  },
  {
   "cell_type": "code",
   "execution_count": 104,
   "metadata": {},
   "outputs": [
    {
     "data": {
      "text/plain": [
       "torch.Size([384, 10, 4])"
      ]
     },
     "execution_count": 104,
     "metadata": {},
     "output_type": "execute_result"
    }
   ],
   "source": [
    "nbrs_states.shape"
   ]
  },
  {
   "cell_type": "code",
   "execution_count": null,
   "metadata": {},
   "outputs": [],
   "source": []
  },
  {
   "cell_type": "code",
   "execution_count": 75,
   "metadata": {},
   "outputs": [
    {
     "name": "stdout",
     "output_type": "stream",
     "text": [
      "torch.Size([384, 10, 4])\n"
     ]
    }
   ],
   "source": [
    "from scipy.spatial.distance import cdist \n",
    "\n",
    "fc = lambda a : a*(a-1)\n",
    "num_edge_attrs_batch = fc(num_valid_agents_batch)    \n",
    "for i in range(nbrs_states.shape[0]): \n",
    "    C = cdist(nbrs_states[i, :, :], nbrs_states[i, :, :])  \n",
    "\n",
    "print(nbrs_states.shape) \n"
   ]
  },
  {
   "cell_type": "code",
   "execution_count": 46,
   "metadata": {},
   "outputs": [],
   "source": [
    "device = \"cuda\"\n",
    "criterion = pytorch_neg_multi_log_likelihood_batch\n",
    "model = CSP(cfg, device).to(device)"
   ]
  },
  {
   "cell_type": "markdown",
   "metadata": {},
   "source": [
    "## RNN"
   ]
  },
  {
   "cell_type": "code",
   "execution_count": null,
   "metadata": {},
   "outputs": [],
   "source": [
    "class RNNDecoder(nn.Module):\n",
    "    def __init__(self, hidden_dim): \n",
    "        super().__init__() \n",
    "        self.hidden_dim = hidden_dim \n",
    "\n",
    "        self.encoderRNN = nn.GRU(2, self.hidden_dim, 1)\n",
    "        self.encoderLinear = nn.Linear(self.hidden_dim)\n",
    "        self.alpha = .1 \n",
    "\n",
    "    def forward(self, x):\n",
    "        x = self.encoderRNN(x)\n",
    "        x = F.leaky_relu(x, self.alpha)\n",
    "        x = self.encoderLinear(x)\n",
    "\n",
    "        return x "
   ]
  },
  {
   "cell_type": "markdown",
   "metadata": {},
   "source": [
    "## GNN"
   ]
  },
  {
   "cell_type": "code",
   "execution_count": null,
   "metadata": {},
   "outputs": [],
   "source": []
  },
  {
   "cell_type": "code",
   "execution_count": null,
   "metadata": {},
   "outputs": [],
   "source": [
    "model = GCN(hidden_channels=16)\n",
    "optimizer = torch.optim.Adam(model.parameters(), lr=0.01, weight_decay=5e-4)\n",
    "criterion = torch.nn.CrossEntropyLoss()\n",
    "\n",
    "def train():\n",
    "      model.train()\n",
    "      optimizer.zero_grad()  # Clear gradients.\n",
    "      out = model(data.x, data.edge_idx)  # Perform a single forward pass.\n",
    "      loss = criterion(out[data.train_mask], data.y[data.train_mask])  # Compute the loss solely based on the training nodes.\n",
    "      loss.backward()  # Derive gradients.\n",
    "      optimizer.step()  # Update parameters based on gradients.\n",
    "      return loss \n",
    "\n",
    "def test():\n",
    "      model.eval()\n",
    "      out = model(data.x, data.edge_index)\n",
    "      pred = out.argmax(dim=1)  # Use the class with highest probability.\n",
    "      test_correct = pred[data.test_mask] == data.y[data.test_mask]  # Check against ground-truth labels.\n",
    "      test_acc = int(test_correct.sum()) / int(data.test_mask.sum())  # Derive ratio of correct predictions.\n",
    "      return test_acc\n",
    "\n",
    "\n",
    "for epoch in range(1, 201):\n",
    "    loss = train()\n",
    "    print(f'Epoch: {epoch:03d}, Loss: {loss:.4f}')"
   ]
  },
  {
   "cell_type": "code",
   "execution_count": 49,
   "metadata": {},
   "outputs": [
    {
     "name": "stderr",
     "output_type": "stream",
     "text": [
      "100%|██████████| 16/16 [00:00<00:00, 117.57it/s]\n"
     ]
    },
    {
     "name": "stdout",
     "output_type": "stream",
     "text": [
      "Loss 9626.6396484375\n"
     ]
    },
    {
     "data": {
      "text/plain": [
       "(tensor(9626.6396, device='cuda:0', grad_fn=<MeanBackward0>),\n",
       " tensor([[[[ 0.0198,  0.0173],\n",
       "           [ 0.0507,  0.0347],\n",
       "           [ 0.1295,  0.1059],\n",
       "           ...,\n",
       "           [-0.0856, -0.1495],\n",
       "           [-0.0716,  0.0952],\n",
       "           [ 0.0111,  0.0039]],\n",
       " \n",
       "          [[ 0.1659,  0.1489],\n",
       "           [ 0.1572,  0.0657],\n",
       "           [-0.0478, -0.0740],\n",
       "           ...,\n",
       "           [ 0.1801, -0.1244],\n",
       "           [ 0.1174, -0.0652],\n",
       "           [-0.0662,  0.1754]],\n",
       " \n",
       "          [[ 0.0336,  0.0868],\n",
       "           [ 0.1708,  0.1618],\n",
       "           [-0.0027,  0.1906],\n",
       "           ...,\n",
       "           [ 0.1622,  0.1722],\n",
       "           [-0.1558,  0.1338],\n",
       "           [ 0.0939,  0.0718]]],\n",
       " \n",
       " \n",
       "         [[[ 0.0198,  0.0173],\n",
       "           [ 0.0507,  0.0347],\n",
       "           [ 0.1295,  0.1059],\n",
       "           ...,\n",
       "           [-0.0856, -0.1495],\n",
       "           [-0.0716,  0.0952],\n",
       "           [ 0.0111,  0.0039]],\n",
       " \n",
       "          [[ 0.1659,  0.1489],\n",
       "           [ 0.1572,  0.0657],\n",
       "           [-0.0478, -0.0740],\n",
       "           ...,\n",
       "           [ 0.1801, -0.1244],\n",
       "           [ 0.1174, -0.0652],\n",
       "           [-0.0662,  0.1754]],\n",
       " \n",
       "          [[ 0.0336,  0.0868],\n",
       "           [ 0.1708,  0.1618],\n",
       "           [-0.0027,  0.1906],\n",
       "           ...,\n",
       "           [ 0.1622,  0.1722],\n",
       "           [-0.1558,  0.1338],\n",
       "           [ 0.0939,  0.0718]]],\n",
       " \n",
       " \n",
       "         [[[ 0.0198,  0.0173],\n",
       "           [ 0.0507,  0.0347],\n",
       "           [ 0.1295,  0.1059],\n",
       "           ...,\n",
       "           [-0.0856, -0.1495],\n",
       "           [-0.0716,  0.0952],\n",
       "           [ 0.0111,  0.0039]],\n",
       " \n",
       "          [[ 0.1659,  0.1489],\n",
       "           [ 0.1572,  0.0657],\n",
       "           [-0.0478, -0.0740],\n",
       "           ...,\n",
       "           [ 0.1801, -0.1244],\n",
       "           [ 0.1174, -0.0652],\n",
       "           [-0.0662,  0.1754]],\n",
       " \n",
       "          [[ 0.0336,  0.0868],\n",
       "           [ 0.1708,  0.1618],\n",
       "           [-0.0027,  0.1906],\n",
       "           ...,\n",
       "           [ 0.1622,  0.1722],\n",
       "           [-0.1558,  0.1338],\n",
       "           [ 0.0939,  0.0718]]],\n",
       " \n",
       " \n",
       "         ...,\n",
       " \n",
       " \n",
       "         [[[ 0.0198,  0.0173],\n",
       "           [ 0.0507,  0.0347],\n",
       "           [ 0.1295,  0.1059],\n",
       "           ...,\n",
       "           [-0.0856, -0.1495],\n",
       "           [-0.0716,  0.0952],\n",
       "           [ 0.0111,  0.0039]],\n",
       " \n",
       "          [[ 0.1659,  0.1489],\n",
       "           [ 0.1572,  0.0657],\n",
       "           [-0.0478, -0.0740],\n",
       "           ...,\n",
       "           [ 0.1801, -0.1244],\n",
       "           [ 0.1174, -0.0652],\n",
       "           [-0.0662,  0.1754]],\n",
       " \n",
       "          [[ 0.0336,  0.0868],\n",
       "           [ 0.1708,  0.1618],\n",
       "           [-0.0027,  0.1906],\n",
       "           ...,\n",
       "           [ 0.1622,  0.1722],\n",
       "           [-0.1558,  0.1338],\n",
       "           [ 0.0939,  0.0718]]],\n",
       " \n",
       " \n",
       "         [[[ 0.0198,  0.0173],\n",
       "           [ 0.0507,  0.0347],\n",
       "           [ 0.1295,  0.1059],\n",
       "           ...,\n",
       "           [-0.0856, -0.1495],\n",
       "           [-0.0716,  0.0952],\n",
       "           [ 0.0111,  0.0039]],\n",
       " \n",
       "          [[ 0.1659,  0.1489],\n",
       "           [ 0.1572,  0.0657],\n",
       "           [-0.0478, -0.0740],\n",
       "           ...,\n",
       "           [ 0.1801, -0.1244],\n",
       "           [ 0.1174, -0.0652],\n",
       "           [-0.0662,  0.1754]],\n",
       " \n",
       "          [[ 0.0336,  0.0868],\n",
       "           [ 0.1708,  0.1618],\n",
       "           [-0.0027,  0.1906],\n",
       "           ...,\n",
       "           [ 0.1622,  0.1722],\n",
       "           [-0.1558,  0.1338],\n",
       "           [ 0.0939,  0.0718]]],\n",
       " \n",
       " \n",
       "         [[[ 0.0198,  0.0173],\n",
       "           [ 0.0507,  0.0347],\n",
       "           [ 0.1295,  0.1059],\n",
       "           ...,\n",
       "           [-0.0856, -0.1495],\n",
       "           [-0.0716,  0.0952],\n",
       "           [ 0.0111,  0.0039]],\n",
       " \n",
       "          [[ 0.1659,  0.1489],\n",
       "           [ 0.1572,  0.0657],\n",
       "           [-0.0478, -0.0740],\n",
       "           ...,\n",
       "           [ 0.1801, -0.1244],\n",
       "           [ 0.1174, -0.0652],\n",
       "           [-0.0662,  0.1754]],\n",
       " \n",
       "          [[ 0.0336,  0.0868],\n",
       "           [ 0.1708,  0.1618],\n",
       "           [-0.0027,  0.1906],\n",
       "           ...,\n",
       "           [ 0.1622,  0.1722],\n",
       "           [-0.1558,  0.1338],\n",
       "           [ 0.0939,  0.0718]]]], device='cuda:0', grad_fn=<ViewBackward>),\n",
       " tensor([[0.3624, 0.3272, 0.3104],\n",
       "         [0.3624, 0.3272, 0.3104],\n",
       "         [0.3624, 0.3272, 0.3104],\n",
       "         [0.3624, 0.3272, 0.3104],\n",
       "         [0.3624, 0.3272, 0.3104],\n",
       "         [0.3624, 0.3272, 0.3104],\n",
       "         [0.3624, 0.3272, 0.3104],\n",
       "         [0.3624, 0.3272, 0.3104],\n",
       "         [0.3624, 0.3272, 0.3104],\n",
       "         [0.3624, 0.3272, 0.3104],\n",
       "         [0.3624, 0.3272, 0.3104],\n",
       "         [0.3624, 0.3272, 0.3104],\n",
       "         [0.3624, 0.3272, 0.3104],\n",
       "         [0.3624, 0.3272, 0.3104],\n",
       "         [0.3624, 0.3272, 0.3104],\n",
       "         [0.3624, 0.3272, 0.3104]], device='cuda:0', grad_fn=<SoftmaxBackward>))"
      ]
     },
     "execution_count": 49,
     "metadata": {},
     "output_type": "execute_result"
    }
   ],
   "source": [
    "forward(data, indices, model, criterion, device = device)"
   ]
  },
  {
   "cell_type": "code",
   "execution_count": null,
   "metadata": {},
   "outputs": [],
   "source": [
    "model = GCN(hidden_channels=16)\n",
    "model.eval()\n",
    "\n",
    "out = model(data.x, data.edge_index)\n",
    "visualize(out, color=data.y)"
   ]
  },
  {
   "cell_type": "code",
   "execution_count": 293,
   "metadata": {},
   "outputs": [
    {
     "ename": "NameError",
     "evalue": "name 'im' is not defined",
     "output_type": "error",
     "traceback": [
      "\u001b[0;31m---------------------------------------------------------------------------\u001b[0m",
      "\u001b[0;31mNameError\u001b[0m                                 Traceback (most recent call last)",
      "\u001b[0;32m<ipython-input-293-6c758c871b76>\u001b[0m in \u001b[0;36m<module>\u001b[0;34m\u001b[0m\n\u001b[0;32m----> 1\u001b[0;31m \u001b[0mnbrs_hist\u001b[0m \u001b[0;34m=\u001b[0m \u001b[0mim\u001b[0m\u001b[0;34m[\u001b[0m\u001b[0;34m:\u001b[0m\u001b[0;34m,\u001b[0m\u001b[0;36m0\u001b[0m\u001b[0;34m:\u001b[0m\u001b[0mcfg\u001b[0m\u001b[0;34m[\u001b[0m\u001b[0;34m\"model_params\"\u001b[0m\u001b[0;34m]\u001b[0m\u001b[0;34m[\u001b[0m\u001b[0;34m\"history_num_frames\"\u001b[0m\u001b[0;34m]\u001b[0m\u001b[0;34m+\u001b[0m\u001b[0;36m1\u001b[0m\u001b[0;34m,\u001b[0m\u001b[0;34m:\u001b[0m\u001b[0;34m,\u001b[0m\u001b[0;34m:\u001b[0m\u001b[0;34m]\u001b[0m\u001b[0;34m\u001b[0m\u001b[0;34m\u001b[0m\u001b[0m\n\u001b[0m\u001b[1;32m      2\u001b[0m \u001b[0mego_hist\u001b[0m \u001b[0;34m=\u001b[0m \u001b[0mim\u001b[0m\u001b[0;34m[\u001b[0m\u001b[0;34m:\u001b[0m\u001b[0;34m,\u001b[0m\u001b[0mcfg\u001b[0m\u001b[0;34m[\u001b[0m\u001b[0;34m\"model_params\"\u001b[0m\u001b[0;34m]\u001b[0m\u001b[0;34m[\u001b[0m\u001b[0;34m\"history_num_frames\"\u001b[0m\u001b[0;34m]\u001b[0m\u001b[0;34m+\u001b[0m\u001b[0;36m1\u001b[0m\u001b[0;34m:\u001b[0m\u001b[0;36m2\u001b[0m\u001b[0;34m*\u001b[0m\u001b[0;34m(\u001b[0m\u001b[0mcfg\u001b[0m\u001b[0;34m[\u001b[0m\u001b[0;34m\"model_params\"\u001b[0m\u001b[0;34m]\u001b[0m\u001b[0;34m[\u001b[0m\u001b[0;34m\"history_num_frames\"\u001b[0m\u001b[0;34m]\u001b[0m\u001b[0;34m+\u001b[0m\u001b[0;36m1\u001b[0m\u001b[0;34m)\u001b[0m\u001b[0;34m:\u001b[0m\u001b[0;34m,\u001b[0m\u001b[0;34m:\u001b[0m\u001b[0;34m]\u001b[0m\u001b[0;34m\u001b[0m\u001b[0;34m\u001b[0m\u001b[0m\n",
      "\u001b[0;31mNameError\u001b[0m: name 'im' is not defined"
     ]
    }
   ],
   "source": [
    "nbrs_hist = im[:,0:cfg[\"model_params\"][\"history_num_frames\"]+1,:,:]\n",
    "ego_hist = im[:,cfg[\"model_params\"][\"history_num_frames\"]+1:2*(cfg[\"model_params\"][\"history_num_frames\"]+1):,:]"
   ]
  },
  {
   "cell_type": "code",
   "execution_count": 59,
   "metadata": {},
   "outputs": [
    {
     "data": {
      "text/plain": [
       "torch.Size([16, 11, 2])"
      ]
     },
     "execution_count": 59,
     "metadata": {},
     "output_type": "execute_result"
    }
   ],
   "source": [
    "ego_hist = data[\"history_positions\"].shape\n",
    "nbrs_hist = ??"
   ]
  },
  {
   "cell_type": "code",
   "execution_count": 62,
   "metadata": {},
   "outputs": [
    {
     "data": {
      "text/plain": [
       "torch.Size([16, 50, 2])"
      ]
     },
     "execution_count": 62,
     "metadata": {},
     "output_type": "execute_result"
    }
   ],
   "source": [
    "data[\"target_positions\"].shape"
   ]
  },
  {
   "cell_type": "markdown",
   "metadata": {
    "_cell_guid": "b7226655-215d-43bf-9b25-dc23c323fb79",
    "_uuid": "e55011fc-bea6-43e2-aa67-82e29dd4a81e"
   },
   "source": [
    "## Simple visualization"
   ]
  },
  {
   "cell_type": "markdown",
   "metadata": {
    "_cell_guid": "9b2ba711-06ce-4b19-a9a0-fa2c3980ee60",
    "_uuid": "79dad700-6e31-4bf9-b5cb-dd249f7af18c"
   },
   "source": [
    "Let us visualize how an input to the model looks like."
   ]
  },
  {
   "cell_type": "code",
   "execution_count": 13,
   "metadata": {
    "_cell_guid": "d378c3cb-76fc-4798-8908-8d4da1ae4d91",
    "_uuid": "804f1302-710f-420a-be91-08224194f1da",
    "jupyter": {
     "outputs_hidden": false
    }
   },
   "outputs": [],
   "source": [
    "def visualize_trajectory(dataset, index, title=\"target_positions movement with draw_trajectory\"):\n",
    "    data = dataset[index]\n",
    "    im = data[\"image\"].transpose(1, 2, 0)\n",
    "    print(im.shape)\n",
    "    im = dataset.rasterizer.to_rgb(im)\n",
    "    target_positions_pixels = transform_points(data[\"target_positions\"] + data[\"centroid\"][:2], data[\"world_to_image\"])\n",
    "    draw_trajectory(im, target_positions_pixels, TARGET_POINTS_COLOR, radius=1, yaws=data[\"target_yaws\"])\n",
    "\n",
    "    plt.title(title)\n",
    "    plt.imshow(im[::-1])\n",
    "    plt.show()"
   ]
  },
  {
   "cell_type": "code",
   "execution_count": 14,
   "metadata": {
    "_cell_guid": "0cb4411b-80b5-43c4-8bc9-543388f3579a",
    "_uuid": "8776410d-e7ba-41aa-ad0e-8374de7992d9",
    "jupyter": {
     "outputs_hidden": false
    }
   },
   "outputs": [
    {
     "name": "stdout",
     "output_type": "stream",
     "text": [
      "(224, 224, 25)\n"
     ]
    },
    {
     "data": {
      "image/png": "[encoded data removed]",
      "text/plain": [
       "<Figure size 576x432 with 1 Axes>"
      ]
     },
     "metadata": {
      "needs_background": "light"
     },
     "output_type": "display_data"
    }
   ],
   "source": [
    "plt.figure(figsize = (8,6))\n",
    "visualize_trajectory(train_dataset, index=90)"
   ]
  },
  {
   "cell_type": "markdown",
   "metadata": {
    "_cell_guid": "8d2a268c-4503-4fc8-872f-9db2e8745273",
    "_uuid": "de59b615-4009-4618-806b-9c49428cf063"
   },
   "source": [
    "## Loss function"
   ]
  },
  {
   "cell_type": "markdown",
   "metadata": {
    "_cell_guid": "476fb620-5482-4d4b-b36b-057456d8c010",
    "_uuid": "d32ba58d-3cd9-4374-9e0f-b53d22e2897b"
   },
   "source": [
    "For this competition it is important to use the correct loss function when train the model. Our goal is to predict three possible paths together with the confidence score, so we need to use the loss function that takes that into account, simply using RMSE will not lead to an accurate model. More information about the loss function can be found here [negative log likelihood](https://github.com/lyft/l5kit/blob/master/competition.md)."
   ]
  },
  {
   "cell_type": "code",
   "execution_count": 15,
   "metadata": {
    "_cell_guid": "e30df536-f939-4e0c-8e27-75e910fef30b",
    "_uuid": "78825fc2-fb86-4433-a720-d0173a64fce0",
    "jupyter": {
     "outputs_hidden": false
    }
   },
   "outputs": [],
   "source": [
    "# --- Function utils ---\n",
    "# Original code from https://github.com/lyft/l5kit/blob/20ab033c01610d711c3d36e1963ecec86e8b85b6/l5kit/l5kit/evaluation/metrics.py\n",
    "import numpy as np\n",
    "\n",
    "import torch\n",
    "from torch import Tensor\n",
    "\n",
    "\n",
    "def pytorch_neg_multi_log_likelihood_batch(\n",
    "    gt: Tensor, pred: Tensor, confidences: Tensor, avails: Tensor\n",
    ") -> Tensor:\n",
    "    \"\"\"\n",
    "    Compute a negative log-likelihood for the multi-modal scenario.\n",
    "    log-sum-exp trick is used here to avoid underflow and overflow, For more information about it see:\n",
    "    https://en.wikipedia.org/wiki/LogSumExp#log-sum-exp_trick_for_log-domain_calculations\n",
    "    https://timvieira.github.io/blog/post/2014/02/11/exp-normalize-trick/\n",
    "    https://leimao.github.io/blog/LogSumExp/\n",
    "    Args:\n",
    "        gt (Tensor): array of shape (bs)x(time)x(2D coords)\n",
    "        pred (Tensor): array of shape (bs)x(modes)x(time)x(2D coords)\n",
    "        confidences (Tensor): array of shape (bs)x(modes) with a confidence for each mode in each sample\n",
    "        avails (Tensor): array of shape (bs)x(time) with the availability for each gt timestep\n",
    "    Returns:\n",
    "        Tensor: negative log-likelihood for this example, a single float number\n",
    "    \"\"\"\n",
    "    assert len(pred.shape) == 4, f\"expected 3D (MxTxC) array for pred, got {pred.shape}\"\n",
    "    batch_size, num_modes, future_len, num_coords = pred.shape\n",
    "\n",
    "    assert gt.shape == (batch_size, future_len, num_coords), f\"expected 2D (Time x Coords) array for gt, got {gt.shape}\"\n",
    "    assert confidences.shape == (batch_size, num_modes), f\"expected 1D (Modes) array for gt, got {confidences.shape}\"\n",
    "    assert torch.allclose(torch.sum(confidences, dim=1), confidences.new_ones((batch_size,))), \"confidences should sum to 1\"\n",
    "    assert avails.shape == (batch_size, future_len), f\"expected 1D (Time) array for gt, got {avails.shape}\"\n",
    "    # assert all data are valid\n",
    "    assert torch.isfinite(pred).all(), \"invalid value found in pred\"\n",
    "    assert torch.isfinite(gt).all(), \"invalid value found in gt\"\n",
    "    assert torch.isfinite(confidences).all(), \"invalid value found in confidences\"\n",
    "    assert torch.isfinite(avails).all(), \"invalid value found in avails\"\n",
    "\n",
    "    # convert to (batch_size, num_modes, future_len, num_coords)\n",
    "    gt = torch.unsqueeze(gt, 1)  # add modes\n",
    "    avails = avails[:, None, :, None]  # add modes and cords\n",
    "\n",
    "    # error (batch_size, num_modes, future_len)\n",
    "    error = torch.sum(((gt - pred) * avails) ** 2, dim=-1)  # reduce coords and use availability\n",
    "\n",
    "    with np.errstate(divide=\"ignore\"):  # when confidence is 0 log goes to -inf, but we're fine with it\n",
    "        # error (batch_size, num_modes)\n",
    "        error = torch.log(confidences) - 0.5 * torch.sum(error, dim=-1)  # reduce time\n",
    "\n",
    "    # use max aggregator on modes for numerical stability\n",
    "    # error (batch_size, num_modes)\n",
    "    max_value, _ = error.max(dim=1, keepdim=True)  # error are negative at this point, so max() gives the minimum one\n",
    "    error = -torch.log(torch.sum(torch.exp(error - max_value), dim=-1, keepdim=True)) - max_value  # reduce modes\n",
    "    # print(\"error\", error)\n",
    "    return torch.mean(error)\n",
    "\n",
    "\n",
    "def pytorch_neg_multi_log_likelihood_single(\n",
    "    gt: Tensor, pred: Tensor, avails: Tensor\n",
    ") -> Tensor:\n",
    "    \"\"\"\n",
    "\n",
    "    Args:\n",
    "        gt (Tensor): array of shape (bs)x(time)x(2D coords)\n",
    "        pred (Tensor): array of shape (bs)x(time)x(2D coords)\n",
    "        avails (Tensor): array of shape (bs)x(time) with the availability for each gt timestep\n",
    "    Returns:\n",
    "        Tensor: negative log-likelihood for this example, a single float number\n",
    "    \"\"\"\n",
    "    # pred (bs)x(time)x(2D coords) --> (bs)x(mode=1)x(time)x(2D coords)\n",
    "    # create confidence (bs)x(mode=1)\n",
    "    batch_size, future_len, num_coords = pred.shape\n",
    "    confidences = pred.new_ones((batch_size, 1))\n",
    "    return pytorch_neg_multi_log_likelihood_batch(gt, pred.unsqueeze(1), confidences, avails)"
   ]
  },
  {
   "cell_type": "markdown",
   "metadata": {},
   "source": [
    "## Roshan's Model"
   ]
  },
  {
   "cell_type": "code",
   "execution_count": 16,
   "metadata": {},
   "outputs": [],
   "source": [
    "class SimpleNet(nn.Module):\n",
    "    def __init__(self, cfg):\n",
    "        super(SimpleNet, self).__init__()\n",
    "        num_targets = 2 * cfg[\"model_params\"][\"future_num_frames\"]\n",
    "        self.net = nn.Sequential(nn.Conv2d(25, 5, kernel_size = 3, padding=1),\n",
    "                                 nn.ReLU(),\n",
    "                                 nn.Conv2d(5, 2, kernel_size = 3, padding=1),\n",
    "                                 nn.Flatten(),\n",
    "                                 nn.Linear(224*224*2, num_targets)\n",
    "                                 )\n",
    "    def forward(self, x):\n",
    "        x = self.net(x)\n",
    "        return x"
   ]
  },
  {
   "cell_type": "code",
   "execution_count": 17,
   "metadata": {},
   "outputs": [],
   "source": [
    "class ConvNet1(nn.Module):\n",
    "    def __init__(self, cfg, backbone):\n",
    "        super().__init__()\n",
    "        \n",
    "        num_targets = 2 * cfg[\"model_params\"][\"future_num_frames\"]\n",
    "        self.backbone = timm.create_model(backbone, pretrained=True, in_chans=25)\n",
    "        if backbone == \"xception41\":\n",
    "            num_out_backbone = 1000\n",
    "        self.fc1 = nn.Linear(num_out_backbone, num_targets)\n",
    "    \n",
    "    def forward(self, x):\n",
    "        x = self.backbone(x)\n",
    "        x = F.relu(x)\n",
    "        x = self.fc1(x)\n",
    "        return x"
   ]
  },
  {
   "cell_type": "code",
   "execution_count": 18,
   "metadata": {},
   "outputs": [],
   "source": [
    "def forward(data, model, device, criterion):\n",
    "    inputs = data[\"image\"].to(device)\n",
    "    target_availabilities = data[\"target_availabilities\"].unsqueeze(-1).to(device)\n",
    "    targets = data[\"target_positions\"].to(device)\n",
    "    # Forward pass\n",
    "    outputs = model(inputs).reshape(targets.shape)\n",
    "    loss = criterion(outputs, targets)\n",
    "    # not all the output steps are valid, but we can filter them out from the loss using availabilities\n",
    "    loss = loss * target_availabilities\n",
    "    loss = loss.mean()\n",
    "    return loss, outputs"
   ]
  },
  {
   "cell_type": "code",
   "execution_count": 19,
   "metadata": {},
   "outputs": [],
   "source": [
    "# ==== INIT MODEL\n",
    "device = torch.device(\"cuda:0\" if torch.cuda.is_available() else \"cpu\")\n",
    "model = torch.load(\"models/ComplexNet1v1.pt\")"
   ]
  },
  {
   "cell_type": "code",
   "execution_count": 20,
   "metadata": {},
   "outputs": [],
   "source": [
    "# ==== INIT MODEL\n",
    "device = torch.device(\"cuda:0\" if torch.cuda.is_available() else \"cpu\")\n",
    "# model = ConvNet1(cfg, backbone=\"xception41\").to(device)\n",
    "optimizer = optim.Adam(model.parameters(), lr=1e-3)\n",
    "criterion = nn.MSELoss(reduction=\"none\")"
   ]
  },
  {
   "cell_type": "code",
   "execution_count": 89,
   "metadata": {},
   "outputs": [
    {
     "name": "stderr",
     "output_type": "stream",
     "text": [
      "loss: 1.7263625860214233 loss(avg): 17.634183143898845: 100%|██████████| 400/400 [04:55<00:00,  1.35it/s]\n"
     ]
    }
   ],
   "source": [
    "# ==== TRAIN LOOP\n",
    "tr_it = iter(train_dataloader)\n",
    "progress_bar = tqdm(range(400))\n",
    "losses_train = []\n",
    "for _ in progress_bar:\n",
    "    try:\n",
    "        data = next(tr_it)\n",
    "    except StopIteration:\n",
    "        tr_it = iter(train_dataloader)\n",
    "        data = next(tr_it)\n",
    "    model.train()\n",
    "    torch.set_grad_enabled(True)\n",
    "    loss, out = forward(data, model, device, criterion)\n",
    "\n",
    "    # Backward pass\n",
    "    optimizer.zero_grad()\n",
    "    loss.backward()\n",
    "    optimizer.step()\n",
    "\n",
    "    losses_train.append(loss.item())\n",
    "    progress_bar.set_description(f\"loss: {loss.item()} loss(avg): {np.mean(losses_train)}\")"
   ]
  },
  {
   "cell_type": "code",
   "execution_count": 90,
   "metadata": {},
   "outputs": [
    {
     "data": {
      "image/png": "[encoded data removed]",
      "text/plain": [
       "<Figure size 432x288 with 1 Axes>"
      ]
     },
     "metadata": {
      "needs_background": "light"
     },
     "output_type": "display_data"
    }
   ],
   "source": [
    "plt.plot(np.arange(len(losses_train)), losses_train, label=\"train loss\")\n",
    "plt.legend()\n",
    "plt.show()"
   ]
  },
  {
   "cell_type": "code",
   "execution_count": 22,
   "metadata": {},
   "outputs": [],
   "source": [
    "# #If CUDA out of memory:\n",
    "# torch.cuda.empty_cache()"
   ]
  },
  {
   "cell_type": "code",
   "execution_count": 93,
   "metadata": {},
   "outputs": [],
   "source": [
    "torch.save(model, \"models/ComplexNet1v1.pt\")"
   ]
  },
  {
   "cell_type": "markdown",
   "metadata": {},
   "source": [
    "## Roshan's Model Eval"
   ]
  },
  {
   "cell_type": "code",
   "execution_count": 25,
   "metadata": {},
   "outputs": [],
   "source": [
    "# ===== GENERATE AND LOAD CHOPPED DATASET\n",
    "import shutil\n",
    "eval_cfg = cfg[\"test_data_loader\"]\n",
    "!rm -rf /tmp/lyft\n",
    "eval_dir = shutil.copytree(dm.require(eval_cfg[\"key\"]), '/tmp/lyft/test.zarr')"
   ]
  },
  {
   "cell_type": "code",
   "execution_count": 26,
   "metadata": {},
   "outputs": [
    {
     "name": "stdout",
     "output_type": "stream",
     "text": [
      "starting pool...\n"
     ]
    },
    {
     "name": "stderr",
     "output_type": "stream",
     "text": [
      "11314/11314: : 11314it [08:56, 21.10it/s]\n"
     ]
    },
    {
     "name": "stdout",
     "output_type": "stream",
     "text": [
      "collecting results..\n",
      "start report for /tmp/lyft/test.zarr\n",
      "{   'reject_th_AV_distance': 11657147,\n",
      "    'reject_th_agent_filter_probability_threshold': 58143776,\n",
      "    'reject_th_extent': 3891368,\n",
      "    'reject_th_yaw': 235401,\n",
      "    'th_agent_filter_probability_threshold': 0.5,\n",
      "    'th_distance_av': 50,\n",
      "    'th_extent_ratio': 1.1,\n",
      "    'th_yaw_degree': 30,\n",
      "    'total_agent_frames': 88594921,\n",
      "    'total_reject': 73927692}\n"
     ]
    },
    {
     "name": "stderr",
     "output_type": "stream",
     "text": [
      "computing past/future table: 100%|██████████| 4/4 [00:06<00:00,  1.58s/it]\n"
     ]
    },
    {
     "name": "stdout",
     "output_type": "stream",
     "text": [
      "+-------------+----------+---------+---------+---------+\n",
      "| past/future |    0     |    10   |    30   |    50   |\n",
      "+-------------+----------+---------+---------+---------+\n",
      "|      0      | 88594921 | 6228370 | 2930955 | 1492752 |\n",
      "|      10     | 6228370  | 4165061 | 2095398 | 1044694 |\n",
      "|      30     | 2930955  | 2095398 | 1044694 |  417097 |\n",
      "|      50     | 1492752  | 1044694 |  417097 |    0    |\n",
      "+-------------+----------+---------+---------+---------+\n",
      "end report for /tmp/lyft/test.zarr\n",
      "==============================\n"
     ]
    },
    {
     "name": "stderr",
     "output_type": "stream",
     "text": [
      "copying: 100%|██████████| 11314/11314 [02:52<00:00, 65.73it/s]\n",
      "extracting GT: 100%|██████████| 70125/70125 [07:07<00:00, 164.21it/s]\n"
     ]
    },
    {
     "name": "stdout",
     "output_type": "stream",
     "text": [
      "gt.csv\tmask.npz  test.zarr\r\n"
     ]
    }
   ],
   "source": [
    "num_frames_to_chop = 50\n",
    "eval_base_path = create_chopped_dataset(eval_dir, cfg[\"raster_params\"][\"filter_agents_threshold\"], \n",
    "                              num_frames_to_chop, cfg[\"model_params\"][\"future_num_frames\"], MIN_FUTURE_STEPS)\n",
    "!ls {eval_base_path}"
   ]
  },
  {
   "cell_type": "code",
   "execution_count": null,
   "metadata": {},
   "outputs": [],
   "source": [
    "eval_base_path"
   ]
  },
  {
   "cell_type": "code",
   "execution_count": 23,
   "metadata": {},
   "outputs": [
    {
     "ename": "NameError",
     "evalue": "name 'eval_base_path' is not defined",
     "output_type": "error",
     "traceback": [
      "\u001b[0;31m---------------------------------------------------------------------------\u001b[0m",
      "\u001b[0;31mNameError\u001b[0m                                 Traceback (most recent call last)",
      "\u001b[0;32m<ipython-input-23-3ddce6a59dc2>\u001b[0m in \u001b[0;36m<module>\u001b[0;34m\u001b[0m\n\u001b[0;32m----> 1\u001b[0;31m \u001b[0meval_zarr_path\u001b[0m \u001b[0;34m=\u001b[0m \u001b[0mstr\u001b[0m\u001b[0;34m(\u001b[0m\u001b[0mPath\u001b[0m\u001b[0;34m(\u001b[0m\u001b[0meval_base_path\u001b[0m\u001b[0;34m)\u001b[0m \u001b[0;34m/\u001b[0m \u001b[0;34m\"test.zarr\"\u001b[0m\u001b[0;34m)\u001b[0m\u001b[0;34m\u001b[0m\u001b[0;34m\u001b[0m\u001b[0m\n\u001b[0m\u001b[1;32m      2\u001b[0m \u001b[0meval_mask_path\u001b[0m \u001b[0;34m=\u001b[0m \u001b[0mstr\u001b[0m\u001b[0;34m(\u001b[0m\u001b[0mPath\u001b[0m\u001b[0;34m(\u001b[0m\u001b[0meval_base_path\u001b[0m\u001b[0;34m)\u001b[0m \u001b[0;34m/\u001b[0m \u001b[0;34m\"mask.npz\"\u001b[0m\u001b[0;34m)\u001b[0m\u001b[0;34m\u001b[0m\u001b[0;34m\u001b[0m\u001b[0m\n\u001b[1;32m      3\u001b[0m \u001b[0meval_gt_path\u001b[0m \u001b[0;34m=\u001b[0m \u001b[0mstr\u001b[0m\u001b[0;34m(\u001b[0m\u001b[0mPath\u001b[0m\u001b[0;34m(\u001b[0m\u001b[0meval_base_path\u001b[0m\u001b[0;34m)\u001b[0m \u001b[0;34m/\u001b[0m \u001b[0;34m\"gt.csv\"\u001b[0m\u001b[0;34m)\u001b[0m\u001b[0;34m\u001b[0m\u001b[0;34m\u001b[0m\u001b[0m\n",
      "\u001b[0;31mNameError\u001b[0m: name 'eval_base_path' is not defined"
     ]
    }
   ],
   "source": [
    "eval_zarr_path = str(Path(eval_base_path) / \"test.zarr\")\n",
    "eval_mask_path = str(Path(eval_base_path) / \"mask.npz\")\n",
    "eval_gt_path = str(Path(eval_base_path) / \"gt.csv\")"
   ]
  },
  {
   "cell_type": "code",
   "execution_count": 22,
   "metadata": {},
   "outputs": [
    {
     "ename": "NameError",
     "evalue": "name 'eval_zarr_path' is not defined",
     "output_type": "error",
     "traceback": [
      "\u001b[0;31m---------------------------------------------------------------------------\u001b[0m",
      "\u001b[0;31mNameError\u001b[0m                                 Traceback (most recent call last)",
      "\u001b[0;32m<ipython-input-22-3b31c215a59d>\u001b[0m in \u001b[0;36m<module>\u001b[0;34m\u001b[0m\n\u001b[0;32m----> 1\u001b[0;31m \u001b[0meval_zarr\u001b[0m \u001b[0;34m=\u001b[0m \u001b[0mChunkedDataset\u001b[0m\u001b[0;34m(\u001b[0m\u001b[0meval_zarr_path\u001b[0m\u001b[0;34m)\u001b[0m\u001b[0;34m.\u001b[0m\u001b[0mopen\u001b[0m\u001b[0;34m(\u001b[0m\u001b[0;34m)\u001b[0m\u001b[0;34m\u001b[0m\u001b[0;34m\u001b[0m\u001b[0m\n\u001b[0m\u001b[1;32m      2\u001b[0m \u001b[0meval_mask\u001b[0m \u001b[0;34m=\u001b[0m \u001b[0mnp\u001b[0m\u001b[0;34m.\u001b[0m\u001b[0mload\u001b[0m\u001b[0;34m(\u001b[0m\u001b[0meval_mask_path\u001b[0m\u001b[0;34m)\u001b[0m\u001b[0;34m[\u001b[0m\u001b[0;34m\"arr_0\"\u001b[0m\u001b[0;34m]\u001b[0m\u001b[0;34m\u001b[0m\u001b[0;34m\u001b[0m\u001b[0m\n\u001b[1;32m      3\u001b[0m \u001b[0;31m# ===== INIT DATASET AND LOAD MASK\u001b[0m\u001b[0;34m\u001b[0m\u001b[0;34m\u001b[0m\u001b[0;34m\u001b[0m\u001b[0m\n\u001b[1;32m      4\u001b[0m \u001b[0meval_dataset\u001b[0m \u001b[0;34m=\u001b[0m \u001b[0mAgentDataset\u001b[0m\u001b[0;34m(\u001b[0m\u001b[0mcfg\u001b[0m\u001b[0;34m,\u001b[0m \u001b[0meval_zarr\u001b[0m\u001b[0;34m,\u001b[0m \u001b[0mrasterizer\u001b[0m\u001b[0;34m,\u001b[0m \u001b[0magents_mask\u001b[0m\u001b[0;34m=\u001b[0m\u001b[0meval_mask\u001b[0m\u001b[0;34m)\u001b[0m\u001b[0;34m\u001b[0m\u001b[0;34m\u001b[0m\u001b[0m\n\u001b[1;32m      5\u001b[0m eval_dataloader = DataLoader(eval_dataset, shuffle=eval_cfg[\"shuffle\"], batch_size=eval_cfg[\"batch_size\"], \n",
      "\u001b[0;31mNameError\u001b[0m: name 'eval_zarr_path' is not defined"
     ]
    }
   ],
   "source": [
    "eval_zarr = ChunkedDataset(eval_zarr_path).open()\n",
    "eval_mask = np.load(eval_mask_path)[\"arr_0\"]\n",
    "# ===== INIT DATASET AND LOAD MASK\n",
    "eval_dataset = AgentDataset(cfg, eval_zarr, rasterizer, agents_mask=eval_mask)\n",
    "eval_dataloader = DataLoader(eval_dataset, shuffle=eval_cfg[\"shuffle\"], batch_size=eval_cfg[\"batch_size\"], \n",
    "                             num_workers=eval_cfg[\"num_workers\"])"
   ]
  },
  {
   "cell_type": "code",
   "execution_count": 21,
   "metadata": {},
   "outputs": [
    {
     "ename": "NameError",
     "evalue": "name 'eval_dataloader' is not defined",
     "output_type": "error",
     "traceback": [
      "\u001b[0;31m---------------------------------------------------------------------------\u001b[0m",
      "\u001b[0;31mNameError\u001b[0m                                 Traceback (most recent call last)",
      "\u001b[0;32m<ipython-input-21-b902e09adbf5>\u001b[0m in \u001b[0;36m<module>\u001b[0;34m\u001b[0m\n\u001b[1;32m      8\u001b[0m \u001b[0magent_ids\u001b[0m \u001b[0;34m=\u001b[0m \u001b[0;34m[\u001b[0m\u001b[0;34m]\u001b[0m\u001b[0;34m\u001b[0m\u001b[0;34m\u001b[0m\u001b[0m\n\u001b[1;32m      9\u001b[0m \u001b[0;34m\u001b[0m\u001b[0m\n\u001b[0;32m---> 10\u001b[0;31m \u001b[0mprogress_bar\u001b[0m \u001b[0;34m=\u001b[0m \u001b[0mtqdm\u001b[0m\u001b[0;34m(\u001b[0m\u001b[0meval_dataloader\u001b[0m\u001b[0;34m)\u001b[0m\u001b[0;34m\u001b[0m\u001b[0;34m\u001b[0m\u001b[0m\n\u001b[0m\u001b[1;32m     11\u001b[0m \u001b[0;32mfor\u001b[0m \u001b[0mdata\u001b[0m \u001b[0;32min\u001b[0m \u001b[0mprogress_bar\u001b[0m\u001b[0;34m:\u001b[0m\u001b[0;34m\u001b[0m\u001b[0;34m\u001b[0m\u001b[0m\n\u001b[1;32m     12\u001b[0m     \u001b[0m_\u001b[0m\u001b[0;34m,\u001b[0m \u001b[0moutputs\u001b[0m \u001b[0;34m=\u001b[0m \u001b[0mforward\u001b[0m\u001b[0;34m(\u001b[0m\u001b[0mdata\u001b[0m\u001b[0;34m,\u001b[0m \u001b[0mmodel\u001b[0m\u001b[0;34m,\u001b[0m \u001b[0mdevice\u001b[0m\u001b[0;34m,\u001b[0m \u001b[0mcriterion\u001b[0m\u001b[0;34m)\u001b[0m\u001b[0;34m\u001b[0m\u001b[0;34m\u001b[0m\u001b[0m\n",
      "\u001b[0;31mNameError\u001b[0m: name 'eval_dataloader' is not defined"
     ]
    }
   ],
   "source": [
    "# ==== EVAL LOOP\n",
    "model.eval()\n",
    "torch.set_grad_enabled(False)\n",
    "\n",
    "# store information for evaluation\n",
    "future_coords_offsets_pd = []\n",
    "timestamps = []\n",
    "agent_ids = []\n",
    "\n",
    "progress_bar = tqdm(eval_dataloader)\n",
    "for data in progress_bar:\n",
    "    _, outputs = forward(data, model, device, criterion)\n",
    "    \n",
    "    # convert agent coordinates into world offsets\n",
    "    agents_coords = outputs.cpu().numpy()[0].squeeze()\n",
    "    world_from_agents = data[\"world_from_agent\"].numpy()[0].squeeze()\n",
    "    centroids = data[\"centroid\"].numpy()\n",
    "    coords_offset = transform_points(agents_coords, world_from_agents) - centroids[:, None, :2]\n",
    "    future_coords_offsets_pd.append(np.stack(coords_offset))\n",
    "    timestamps.append(data[\"timestamp\"].numpy().copy())\n",
    "    agent_ids.append(data[\"track_id\"].numpy().copy())"
   ]
  },
  {
   "cell_type": "code",
   "execution_count": 123,
   "metadata": {},
   "outputs": [],
   "source": [
    "pred_path = f\"{gettempdir()}/pred.csv\"\n",
    "\n",
    "write_pred_csv(pred_path,\n",
    "               timestamps=np.concatenate(timestamps),\n",
    "               track_ids=np.concatenate(agent_ids),\n",
    "               coords=np.concatenate(future_coords_offsets_pd),\n",
    "              )"
   ]
  },
  {
   "cell_type": "code",
   "execution_count": 124,
   "metadata": {},
   "outputs": [
    {
     "name": "stdout",
     "output_type": "stream",
     "text": [
      "neg_multi_log_likelihood 7008575.044790805\n",
      "time_displace [362.58989468 362.53331318 362.57375794 362.57201712 362.56728084\n",
      " 362.60386749 362.64453199 362.68124286 362.71572618 362.75152972\n",
      " 361.55697588 360.56117614 359.5599973  358.53505468 357.59042231\n",
      " 356.39865873 355.32198813 354.04933612 352.57075258 350.97582746\n",
      " 349.41000166 347.68481294 345.74257351 344.04874313 341.94160077\n",
      " 340.01188497 337.65957188 335.66147725 333.35438795 331.22323374\n",
      " 328.78443814 326.39899842 323.95147188 321.77494158 319.2378786\n",
      " 316.87624581 314.12052021 311.473457   308.68667243 305.66723409\n",
      " 303.19899789 300.74223726 298.18079678 295.5987075  293.15767866\n",
      " 290.66831368 288.16203824 285.91840645 283.73711384 280.85689576]\n"
     ]
    }
   ],
   "source": [
    "metrics = compute_metrics_csv(eval_gt_path, pred_path, [neg_multi_log_likelihood, time_displace])\n",
    "for metric_name, metric_mean in metrics.items():\n",
    "    print(metric_name, metric_mean)\n",
    "#Need to refactor this a bit if we're outputting multiple trajectories with confidences"
   ]
  },
  {
   "cell_type": "markdown",
   "metadata": {
    "_cell_guid": "95265cb4-70bd-4f62-b516-25ba0e8a064c",
    "_uuid": "6c57c63b-5161-4e47-91ba-655b934953c5"
   },
   "source": [
    "## Model"
   ]
  },
  {
   "cell_type": "markdown",
   "metadata": {
    "_cell_guid": "0aff144d-d4a2-4a16-b182-3fa06736c6af",
    "_uuid": "1b1b920c-4579-45ab-94f0-d582bf399562"
   },
   "source": [
    "Next we define the baseline model. Note that this model will return three possible trajectories together with confidence score for each trajectory."
   ]
  },
  {
   "cell_type": "code",
   "execution_count": 19,
   "metadata": {
    "_cell_guid": "24841164-b70d-4c18-87a3-47a7a4db58fb",
    "_uuid": "b27d1c41-60eb-495b-83e2-2d9ed333a7a7",
    "jupyter": {
     "outputs_hidden": false
    }
   },
   "outputs": [],
   "source": [
    "class LyftMultiModel(nn.Module):\n",
    "\n",
    "    def __init__(self, cfg: Dict, num_modes=3):\n",
    "        super().__init__()\n",
    "\n",
    "        architecture = cfg[\"model_params\"][\"model_architecture\"]\n",
    "        backbone = eval(architecture)(pretrained=True, progress=True)\n",
    "        self.backbone = backbone\n",
    "\n",
    "        num_history_channels = (cfg[\"model_params\"][\"history_num_frames\"] + 1) * 2\n",
    "        num_in_channels = 3 + num_history_channels\n",
    "\n",
    "        self.backbone.conv1 = nn.Conv2d(\n",
    "            num_in_channels,\n",
    "            self.backbone.conv1.out_channels,\n",
    "            kernel_size=self.backbone.conv1.kernel_size,\n",
    "            stride=self.backbone.conv1.stride,\n",
    "            padding=self.backbone.conv1.padding,\n",
    "            bias=False,\n",
    "        )\n",
    "\n",
    "        # This is 512 for resnet18 and resnet34;\n",
    "        # And it is 2048 for the other resnets\n",
    "        \n",
    "        if architecture == \"resnet50\":\n",
    "            backbone_out_features = 2048\n",
    "        else:\n",
    "            backbone_out_features = 512\n",
    "\n",
    "        # X, Y coords for the future positions (output shape: batch_sizex50x2)\n",
    "        self.future_len = cfg[\"model_params\"][\"future_num_frames\"]\n",
    "        num_targets = 2 * self.future_len\n",
    "\n",
    "        # You can add more layers here.\n",
    "        self.head = nn.Sequential(\n",
    "            # nn.Dropout(0.2),\n",
    "            nn.Linear(in_features=backbone_out_features, out_features=4096),\n",
    "        )\n",
    "\n",
    "        self.num_preds = num_targets * num_modes\n",
    "        self.num_modes = num_modes\n",
    "\n",
    "        self.logit = nn.Linear(4096, out_features=self.num_preds + num_modes)\n",
    "\n",
    "    def forward(self, x):\n",
    "        x = self.backbone.conv1(x)\n",
    "        x = self.backbone.bn1(x)\n",
    "        x = self.backbone.relu(x)\n",
    "        x = self.backbone.maxpool(x)\n",
    "\n",
    "        x = self.backbone.layer1(x)\n",
    "        x = self.backbone.layer2(x)\n",
    "        x = self.backbone.layer3(x)\n",
    "        x = self.backbone.layer4(x)\n",
    "\n",
    "        x = self.backbone.avgpool(x)\n",
    "        x = torch.flatten(x, 1)\n",
    "\n",
    "        x = self.head(x)\n",
    "        x = self.logit(x)\n",
    "\n",
    "        # pred (batch_size)x(modes)x(time)x(2D coords)\n",
    "        # confidences (batch_size)x(modes)\n",
    "        bs, _ = x.shape\n",
    "        pred, confidences = torch.split(x, self.num_preds, dim=1)\n",
    "        pred = pred.view(bs, self.num_modes, self.future_len, 2)\n",
    "        assert confidences.shape == (bs, self.num_modes)\n",
    "        confidences = torch.softmax(confidences, dim=1)\n",
    "        return pred, confidences"
   ]
  },
  {
   "cell_type": "code",
   "execution_count": 20,
   "metadata": {
    "_cell_guid": "a9c2ae33-79c8-46d1-b2f9-5341f1a95643",
    "_uuid": "1b2bdd99-20a5-492d-ba52-0a764a1a65be",
    "jupyter": {
     "outputs_hidden": false
    }
   },
   "outputs": [],
   "source": [
    "def forward(data, model, device, criterion = pytorch_neg_multi_log_likelihood_batch):\n",
    "    inputs = data[\"image\"].to(device)\n",
    "    target_availabilities = data[\"target_availabilities\"].to(device)\n",
    "    targets = data[\"target_positions\"].to(device)\n",
    "    # Forward pass\n",
    "    preds, confidences = model(inputs)\n",
    "    loss = criterion(targets, preds, confidences, target_availabilities)\n",
    "    return loss, preds, confidences"
   ]
  },
  {
   "cell_type": "markdown",
   "metadata": {
    "_cell_guid": "9f04e923-233c-4f48-b9da-20e108ed2a79",
    "_uuid": "761af486-24bc-43cd-a359-4770345565d4"
   },
   "source": [
    "Now let us initialize the model and load the pretrained weights. Note that since the pretrained model was trained on GPU, you also need to enable GPU when running this notebook."
   ]
  },
  {
   "cell_type": "code",
   "execution_count": 21,
   "metadata": {
    "_cell_guid": "69846582-22e3-4130-b5d6-0c155d8e7a75",
    "_uuid": "564a7eb9-6516-465e-899a-a4ad156c22f2",
    "jupyter": {
     "outputs_hidden": false
    }
   },
   "outputs": [
    {
     "name": "stderr",
     "output_type": "stream",
     "text": [
      "Downloading: \"https://download.pytorch.org/models/resnet34-333f7ec4.pth\" to /home/ubuntu/.cache/torch/hub/checkpoints/resnet34-333f7ec4.pth\n"
     ]
    },
    {
     "data": {
      "application/vnd.jupyter.widget-view+json": {
       "model_id": "caf77c4ede804a6c9ec0f3c94cafc511",
       "version_major": 2,
       "version_minor": 0
      },
      "text/plain": [
       "  0%|          | 0.00/83.3M [00:00<?, ?B/s]"
      ]
     },
     "metadata": {},
     "output_type": "display_data"
    },
    {
     "ename": "KeyError",
     "evalue": "'weight_path'",
     "output_type": "error",
     "traceback": [
      "\u001b[0;31m---------------------------------------------------------------------------\u001b[0m",
      "\u001b[0;31mKeyError\u001b[0m                                  Traceback (most recent call last)",
      "\u001b[0;32m<ipython-input-21-c2c1db6b9ae8>\u001b[0m in \u001b[0;36m<module>\u001b[0;34m\u001b[0m\n\u001b[1;32m      4\u001b[0m \u001b[0;34m\u001b[0m\u001b[0m\n\u001b[1;32m      5\u001b[0m \u001b[0;31m#load weight if there is a pretrained model\u001b[0m\u001b[0;34m\u001b[0m\u001b[0;34m\u001b[0m\u001b[0;34m\u001b[0m\u001b[0m\n\u001b[0;32m----> 6\u001b[0;31m \u001b[0mweight_path\u001b[0m \u001b[0;34m=\u001b[0m \u001b[0mcfg\u001b[0m\u001b[0;34m[\u001b[0m\u001b[0;34m\"model_params\"\u001b[0m\u001b[0;34m]\u001b[0m\u001b[0;34m[\u001b[0m\u001b[0;34m\"weight_path\"\u001b[0m\u001b[0;34m]\u001b[0m\u001b[0;34m\u001b[0m\u001b[0;34m\u001b[0m\u001b[0m\n\u001b[0m\u001b[1;32m      7\u001b[0m \u001b[0;32mif\u001b[0m \u001b[0mweight_path\u001b[0m\u001b[0;34m:\u001b[0m\u001b[0;34m\u001b[0m\u001b[0;34m\u001b[0m\u001b[0m\n\u001b[1;32m      8\u001b[0m     \u001b[0mmodel\u001b[0m\u001b[0;34m.\u001b[0m\u001b[0mload_state_dict\u001b[0m\u001b[0;34m(\u001b[0m\u001b[0mtorch\u001b[0m\u001b[0;34m.\u001b[0m\u001b[0mload\u001b[0m\u001b[0;34m(\u001b[0m\u001b[0mweight_path\u001b[0m\u001b[0;34m)\u001b[0m\u001b[0;34m)\u001b[0m\u001b[0;34m\u001b[0m\u001b[0;34m\u001b[0m\u001b[0m\n",
      "\u001b[0;31mKeyError\u001b[0m: 'weight_path'"
     ]
    }
   ],
   "source": [
    "# ==== INIT MODEL=================\n",
    "device = torch.device(\"cuda:0\" if torch.cuda.is_available() else \"cpu\")\n",
    "model = LyftMultiModel(cfg)\n",
    "\n",
    "#load weight if there is a pretrained model\n",
    "weight_path = cfg[\"model_params\"][\"weight_path\"]\n",
    "if weight_path:\n",
    "    model.load_state_dict(torch.load(weight_path))\n",
    "\n",
    "model.to(device)\n",
    "optimizer = optim.Adam(model.parameters(), lr=cfg[\"model_params\"][\"lr\"])\n",
    "print(f'device {device}')"
   ]
  },
  {
   "cell_type": "code",
   "execution_count": null,
   "metadata": {
    "_cell_guid": "3426973f-6c63-4fee-9fa7-ec9d0390f895",
    "_uuid": "8249db57-fedc-439c-bf42-d6da17506441",
    "jupyter": {
     "outputs_hidden": false
    }
   },
   "outputs": [],
   "source": [
    "print(model)"
   ]
  },
  {
   "cell_type": "markdown",
   "metadata": {
    "_cell_guid": "35b9cf9d-058a-47c0-a9aa-0e2edfba16f9",
    "_uuid": "3411bc6e-00f2-4bda-8665-82691b7327ab"
   },
   "source": [
    "## Training loop"
   ]
  },
  {
   "cell_type": "markdown",
   "metadata": {
    "_cell_guid": "2e4abcbe-fcbb-4918-bf37-10b58c5e82d6",
    "_uuid": "6c22fe41-0a93-43f1-b4ae-7815192adbbc"
   },
   "source": [
    "Next let us implement the training loop, when the **train** parameter is set to True."
   ]
  },
  {
   "cell_type": "code",
   "execution_count": null,
   "metadata": {
    "_cell_guid": "75f5cb2d-8831-47a5-84d1-83e054db902e",
    "_uuid": "1c3e5880-d97c-47a7-af63-24a1111ec023",
    "jupyter": {
     "outputs_hidden": false
    }
   },
   "outputs": [],
   "source": [
    "# ==== TRAINING LOOP =========================================================\n",
    "if cfg[\"model_params\"][\"train\"]:\n",
    "    \n",
    "    tr_it = iter(train_dataloader)\n",
    "    progress_bar = tqdm(range(cfg[\"train_params\"][\"max_num_steps\"]))\n",
    "    num_iter = cfg[\"train_params\"][\"max_num_steps\"]\n",
    "    losses_train = []\n",
    "    iterations = []\n",
    "    metrics = []\n",
    "    times = []\n",
    "    model_name = cfg[\"model_params\"][\"model_name\"]\n",
    "    start = time.time()\n",
    "    for i in progress_bar:\n",
    "        try:\n",
    "            data = next(tr_it)\n",
    "        except StopIteration:\n",
    "            tr_it = iter(train_dataloader)\n",
    "            data = next(tr_it)\n",
    "        model.train()\n",
    "        torch.set_grad_enabled(True)\n",
    "        \n",
    "        loss, _, _ = forward(data, model, device)\n",
    "\n",
    "        # Backward pass\n",
    "        optimizer.zero_grad()\n",
    "        loss.backward()\n",
    "        optimizer.step()\n",
    "\n",
    "        losses_train.append(loss.item())\n",
    "\n",
    "        progress_bar.set_description(f\"loss: {loss.item()} loss(avg): {np.mean(losses_train)}\")\n",
    "        if i % cfg['train_params']['checkpoint_every_n_steps'] == 0:\n",
    "            torch.save(model.state_dict(), f'{model_name}_{i}.pth')\n",
    "            iterations.append(i)\n",
    "            metrics.append(np.mean(losses_train))\n",
    "            times.append((time.time()-start)/60)\n",
    "\n",
    "    results = pd.DataFrame({'iterations': iterations, 'metrics (avg)': metrics, 'elapsed_time (mins)': times})\n",
    "    results.to_csv(f\"train_metrics_{model_name}_{num_iter}.csv\", index = False)\n",
    "    print(f\"Total training time is {(time.time()-start)/60} mins\")\n",
    "    print(results.head())"
   ]
  },
  {
   "cell_type": "markdown",
   "metadata": {
    "_cell_guid": "7f4ded99-bee8-45f1-88e3-06192654baa5",
    "_uuid": "fbe8e9c6-52b2-4dcd-a749-d32d8eee4900"
   },
   "source": [
    "## Prediction"
   ]
  },
  {
   "cell_type": "markdown",
   "metadata": {
    "_cell_guid": "85de60be-3060-44c5-92ba-28e09a72de45",
    "_uuid": "aae54740-f73b-475f-9bac-62adf67760d2"
   },
   "source": [
    "Finally we implement the inference to submit to Kaggle when **predict** param is set to True."
   ]
  },
  {
   "cell_type": "code",
   "execution_count": null,
   "metadata": {
    "_cell_guid": "ddc7c711-5118-4017-9c3e-9528c904e431",
    "_uuid": "cc104a21-05d0-4774-9ca9-12d55b413a96",
    "jupyter": {
     "outputs_hidden": false
    }
   },
   "outputs": [],
   "source": [
    "# ==== EVAL LOOP ================================================================\n",
    "if cfg[\"model_params\"][\"predict\"]:\n",
    "    \n",
    "    model.eval()\n",
    "    torch.set_grad_enabled(False)\n",
    "\n",
    "    # store information for evaluation\n",
    "    future_coords_offsets_pd = []\n",
    "    timestamps = []\n",
    "    confidences_list = []\n",
    "    agent_ids = []\n",
    "\n",
    "    progress_bar = tqdm(test_dataloader)\n",
    "    \n",
    "    for data in progress_bar:\n",
    "        \n",
    "        _, preds, confidences = forward(data, model, device)\n",
    "    \n",
    "        #fix for the new environment\n",
    "        preds = preds.cpu().numpy()\n",
    "        world_from_agents = data[\"world_from_agent\"].numpy()\n",
    "        centroids = data[\"centroid\"].numpy()\n",
    "        coords_offset = []\n",
    "        \n",
    "        # convert into world coordinates and compute offsets\n",
    "        for idx in range(len(preds)):\n",
    "            for mode in range(3):\n",
    "                preds[idx, mode, :, :] = transform_points(preds[idx, mode, :, :], world_from_agents[idx]) - centroids[idx][:2]\n",
    "    \n",
    "        future_coords_offsets_pd.append(preds.copy())\n",
    "        confidences_list.append(confidences.cpu().numpy().copy())\n",
    "        timestamps.append(data[\"timestamp\"].numpy().copy())\n",
    "        agent_ids.append(data[\"track_id\"].numpy().copy())"
   ]
  },
  {
   "cell_type": "code",
   "execution_count": null,
   "metadata": {
    "_cell_guid": "0c4f0882-5319-4bb4-98f7-39c5ba208adf",
    "_uuid": "2d46e9f4-40b1-448b-b042-d6d86c702c12",
    "jupyter": {
     "outputs_hidden": false
    }
   },
   "outputs": [],
   "source": [
    "#create submission to submit to Kaggle\n",
    "pred_path = 'submission.csv'\n",
    "write_pred_csv(pred_path,\n",
    "           timestamps=np.concatenate(timestamps),\n",
    "           track_ids=np.concatenate(agent_ids),\n",
    "           coords=np.concatenate(future_coords_offsets_pd),\n",
    "           confs = np.concatenate(confidences_list)\n",
    "          )"
   ]
  }
 ],
 "metadata": {
  "kernelspec": {
   "display_name": "Python 3",
   "language": "python",
   "name": "python3"
  },
  "language_info": {
   "codemirror_mode": {
    "name": "ipython",
    "version": 3
   },
   "file_extension": ".py",
   "mimetype": "text/x-python",
   "name": "python",
   "nbconvert_exporter": "python",
   "pygments_lexer": "ipython3",
   "version": "3.7.10"
  }
 },
 "nbformat": 4,
 "nbformat_minor": 4
}
